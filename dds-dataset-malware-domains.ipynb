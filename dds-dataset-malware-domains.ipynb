{
 "cells": [
  {
   "cell_type": "code",
   "execution_count": 1,
   "id": "1ccbe9f3",
   "metadata": {
    "_cell_guid": "b1076dfc-b9ad-4769-8c92-a6c4dae69d19",
    "_uuid": "8f2839f25d086af736a60e9eeb907d3b93b6e0e5",
    "execution": {
     "iopub.execute_input": "2022-04-01T14:28:47.389067Z",
     "iopub.status.busy": "2022-04-01T14:28:47.387908Z",
     "iopub.status.idle": "2022-04-01T14:28:47.405515Z",
     "shell.execute_reply": "2022-04-01T14:28:47.404676Z",
     "shell.execute_reply.started": "2022-04-01T13:52:33.017518Z"
    },
    "papermill": {
     "duration": 0.03532,
     "end_time": "2022-04-01T14:28:47.405699",
     "exception": false,
     "start_time": "2022-04-01T14:28:47.370379",
     "status": "completed"
    },
    "tags": []
   },
   "outputs": [
    {
     "name": "stdout",
     "output_type": "stream",
     "text": [
      "/kaggle/input/dds-dataset-malware/legit-dga_domains.csv\n"
     ]
    }
   ],
   "source": [
    "# This Python 3 environment comes with many helpful analytics libraries installed\n",
    "# It is defined by the kaggle/python Docker image: https://github.com/kaggle/docker-python\n",
    "# For example, here's several helpful packages to load\n",
    "\n",
    "import numpy as np # linear algebra\n",
    "import pandas as pd # data processing, CSV file I/O (e.g. pd.read_csv)\n",
    "\n",
    "# Input data files are available in the read-only \"../input/\" directory\n",
    "# For example, running this (by clicking run or pressing Shift+Enter) will list all files under the input directory\n",
    "\n",
    "import os\n",
    "for dirname, _, filenames in os.walk('/kaggle/input'):\n",
    "    for filename in filenames:\n",
    "        print(os.path.join(dirname, filename))\n",
    "\n",
    "# You can write up to 20GB to the current directory (/kaggle/working/) that gets preserved as output when you create a version using \"Save & Run All\" \n",
    "# You can also write temporary files to /kaggle/temp/, but they won't be saved outside of the current session"
   ]
  },
  {
   "cell_type": "markdown",
   "id": "b751211f",
   "metadata": {
    "papermill": {
     "duration": 0.011987,
     "end_time": "2022-04-01T14:28:47.430835",
     "exception": false,
     "start_time": "2022-04-01T14:28:47.418848",
     "status": "completed"
    },
    "tags": []
   },
   "source": [
    "The first things I noticed when looking through the data set was that any .biz or .net domains tended to be marked as dga websites. Also the .csv\n",
    "doesn't really come with much information other than the domains and the class columns to work with so this may be more of a quick analysis."
   ]
  },
  {
   "cell_type": "code",
   "execution_count": 2,
   "id": "adc33d6c",
   "metadata": {
    "execution": {
     "iopub.execute_input": "2022-04-01T14:28:47.463586Z",
     "iopub.status.busy": "2022-04-01T14:28:47.462729Z",
     "iopub.status.idle": "2022-04-01T14:28:47.831862Z",
     "shell.execute_reply": "2022-04-01T14:28:47.832502Z",
     "shell.execute_reply.started": "2022-04-01T13:52:33.035427Z"
    },
    "papermill": {
     "duration": 0.388587,
     "end_time": "2022-04-01T14:28:47.832718",
     "exception": false,
     "start_time": "2022-04-01T14:28:47.444131",
     "status": "completed"
    },
    "tags": []
   },
   "outputs": [],
   "source": [
    "data = pd.read_csv(\"../input/dds-dataset-malware/legit-dga_domains.csv\")"
   ]
  },
  {
   "cell_type": "code",
   "execution_count": 3,
   "id": "681559a7",
   "metadata": {
    "execution": {
     "iopub.execute_input": "2022-04-01T14:28:47.875073Z",
     "iopub.status.busy": "2022-04-01T14:28:47.869593Z",
     "iopub.status.idle": "2022-04-01T14:28:49.949600Z",
     "shell.execute_reply": "2022-04-01T14:28:49.950159Z",
     "shell.execute_reply.started": "2022-04-01T13:52:33.337418Z"
    },
    "papermill": {
     "duration": 2.105012,
     "end_time": "2022-04-01T14:28:49.950417",
     "exception": false,
     "start_time": "2022-04-01T14:28:47.845405",
     "status": "completed"
    },
    "tags": []
   },
   "outputs": [
    {
     "data": {
      "text/html": [
       "<div>\n",
       "<style scoped>\n",
       "    .dataframe tbody tr th:only-of-type {\n",
       "        vertical-align: middle;\n",
       "    }\n",
       "\n",
       "    .dataframe tbody tr th {\n",
       "        vertical-align: top;\n",
       "    }\n",
       "\n",
       "    .dataframe thead th {\n",
       "        text-align: right;\n",
       "    }\n",
       "</style>\n",
       "<table border=\"1\" class=\"dataframe\">\n",
       "  <thead>\n",
       "    <tr style=\"text-align: right;\">\n",
       "      <th></th>\n",
       "      <th>host</th>\n",
       "      <th>domain</th>\n",
       "      <th>class</th>\n",
       "      <th>subclass</th>\n",
       "      <th>domain_length</th>\n",
       "    </tr>\n",
       "  </thead>\n",
       "  <tbody>\n",
       "    <tr>\n",
       "      <th>0</th>\n",
       "      <td>000directory.com.ar</td>\n",
       "      <td>000directory</td>\n",
       "      <td>legit</td>\n",
       "      <td>legit</td>\n",
       "      <td>12</td>\n",
       "    </tr>\n",
       "    <tr>\n",
       "      <th>1</th>\n",
       "      <td>000webhost.com</td>\n",
       "      <td>000webhost</td>\n",
       "      <td>legit</td>\n",
       "      <td>legit</td>\n",
       "      <td>10</td>\n",
       "    </tr>\n",
       "    <tr>\n",
       "      <th>2</th>\n",
       "      <td>001fans.com</td>\n",
       "      <td>001fans</td>\n",
       "      <td>legit</td>\n",
       "      <td>legit</td>\n",
       "      <td>7</td>\n",
       "    </tr>\n",
       "    <tr>\n",
       "      <th>3</th>\n",
       "      <td>01-telecharger.com</td>\n",
       "      <td>01-telecharger</td>\n",
       "      <td>legit</td>\n",
       "      <td>legit</td>\n",
       "      <td>14</td>\n",
       "    </tr>\n",
       "    <tr>\n",
       "      <th>4</th>\n",
       "      <td>010shangpu.com</td>\n",
       "      <td>010shangpu</td>\n",
       "      <td>legit</td>\n",
       "      <td>legit</td>\n",
       "      <td>10</td>\n",
       "    </tr>\n",
       "    <tr>\n",
       "      <th>...</th>\n",
       "      <td>...</td>\n",
       "      <td>...</td>\n",
       "      <td>...</td>\n",
       "      <td>...</td>\n",
       "      <td>...</td>\n",
       "    </tr>\n",
       "    <tr>\n",
       "      <th>133921</th>\n",
       "      <td>zzsearch.net</td>\n",
       "      <td>zzsearch</td>\n",
       "      <td>legit</td>\n",
       "      <td>legit</td>\n",
       "      <td>8</td>\n",
       "    </tr>\n",
       "    <tr>\n",
       "      <th>133922</th>\n",
       "      <td>zzstream.li</td>\n",
       "      <td>zzstream</td>\n",
       "      <td>legit</td>\n",
       "      <td>legit</td>\n",
       "      <td>8</td>\n",
       "    </tr>\n",
       "    <tr>\n",
       "      <th>133923</th>\n",
       "      <td>zzu1icncjioj5i9gjr18vjr6c.org</td>\n",
       "      <td>zzu1icncjioj5i9gjr18vjr6c</td>\n",
       "      <td>dga</td>\n",
       "      <td>newgoz</td>\n",
       "      <td>25</td>\n",
       "    </tr>\n",
       "    <tr>\n",
       "      <th>133924</th>\n",
       "      <td>zzxsmfnvijtdxnvxytowkx.ru</td>\n",
       "      <td>zzxsmfnvijtdxnvxytowkx</td>\n",
       "      <td>dga</td>\n",
       "      <td>goz</td>\n",
       "      <td>22</td>\n",
       "    </tr>\n",
       "    <tr>\n",
       "      <th>133925</th>\n",
       "      <td>zzztube.com</td>\n",
       "      <td>zzztube</td>\n",
       "      <td>legit</td>\n",
       "      <td>legit</td>\n",
       "      <td>7</td>\n",
       "    </tr>\n",
       "  </tbody>\n",
       "</table>\n",
       "<p>133926 rows × 5 columns</p>\n",
       "</div>"
      ],
      "text/plain": [
       "                                 host                     domain  class  \\\n",
       "0                 000directory.com.ar               000directory  legit   \n",
       "1                      000webhost.com                 000webhost  legit   \n",
       "2                         001fans.com                    001fans  legit   \n",
       "3                  01-telecharger.com             01-telecharger  legit   \n",
       "4                      010shangpu.com                 010shangpu  legit   \n",
       "...                               ...                        ...    ...   \n",
       "133921                   zzsearch.net                   zzsearch  legit   \n",
       "133922                    zzstream.li                   zzstream  legit   \n",
       "133923  zzu1icncjioj5i9gjr18vjr6c.org  zzu1icncjioj5i9gjr18vjr6c    dga   \n",
       "133924      zzxsmfnvijtdxnvxytowkx.ru     zzxsmfnvijtdxnvxytowkx    dga   \n",
       "133925                    zzztube.com                    zzztube  legit   \n",
       "\n",
       "       subclass  domain_length  \n",
       "0         legit             12  \n",
       "1         legit             10  \n",
       "2         legit              7  \n",
       "3         legit             14  \n",
       "4         legit             10  \n",
       "...         ...            ...  \n",
       "133921    legit              8  \n",
       "133922    legit              8  \n",
       "133923   newgoz             25  \n",
       "133924      goz             22  \n",
       "133925    legit              7  \n",
       "\n",
       "[133926 rows x 5 columns]"
      ]
     },
     "execution_count": 3,
     "metadata": {},
     "output_type": "execute_result"
    }
   ],
   "source": [
    "def domain_length_func(df):\n",
    "    \n",
    "    x = []\n",
    "    for i in df['domain']:\n",
    "        x.append(i)\n",
    "    return len(x)\n",
    "        \n",
    "data['domain_length'] = data.apply(domain_length_func, axis = 1)\n",
    "\n",
    "data"
   ]
  },
  {
   "cell_type": "markdown",
   "id": "5f1a4db3",
   "metadata": {
    "papermill": {
     "duration": 0.013321,
     "end_time": "2022-04-01T14:28:49.977357",
     "exception": false,
     "start_time": "2022-04-01T14:28:49.964036",
     "status": "completed"
    },
    "tags": []
   },
   "source": [
    "The goal of the domain length function I have created above is to essentialy find the lengths of the domain of each website, since I believe that in general dga websites tend to have longer domains than legit websites.\n",
    "\n",
    "I did this by first creating an empty array x which will be used to gather each character of the domain. I then created a for loop that searched for i in the data feed and had it appended to the empty array x. For some reason I had a lot of trouble of copying the string so instead I decided to just get the array length and plan to compare the averages later on in a bar chart."
   ]
  },
  {
   "cell_type": "code",
   "execution_count": 4,
   "id": "5f81a9fc",
   "metadata": {
    "execution": {
     "iopub.execute_input": "2022-04-01T14:28:50.009309Z",
     "iopub.status.busy": "2022-04-01T14:28:50.008087Z",
     "iopub.status.idle": "2022-04-01T14:28:50.036075Z",
     "shell.execute_reply": "2022-04-01T14:28:50.036664Z",
     "shell.execute_reply.started": "2022-04-01T13:52:35.463196Z"
    },
    "papermill": {
     "duration": 0.046095,
     "end_time": "2022-04-01T14:28:50.036872",
     "exception": false,
     "start_time": "2022-04-01T14:28:49.990777",
     "status": "completed"
    },
    "tags": []
   },
   "outputs": [
    {
     "data": {
      "text/plain": [
       "class\n",
       "dga      52665\n",
       "legit    81261\n",
       "dtype: int64"
      ]
     },
     "execution_count": 4,
     "metadata": {},
     "output_type": "execute_result"
    }
   ],
   "source": [
    "data.groupby('class').size()"
   ]
  },
  {
   "cell_type": "code",
   "execution_count": 5,
   "id": "da98279b",
   "metadata": {
    "execution": {
     "iopub.execute_input": "2022-04-01T14:28:50.069772Z",
     "iopub.status.busy": "2022-04-01T14:28:50.068676Z",
     "iopub.status.idle": "2022-04-01T14:28:50.090304Z",
     "shell.execute_reply": "2022-04-01T14:28:50.090883Z",
     "shell.execute_reply.started": "2022-04-01T13:52:35.48882Z"
    },
    "papermill": {
     "duration": 0.03997,
     "end_time": "2022-04-01T14:28:50.091095",
     "exception": false,
     "start_time": "2022-04-01T14:28:50.051125",
     "status": "completed"
    },
    "tags": []
   },
   "outputs": [
    {
     "data": {
      "text/plain": [
       "subclass\n",
       "cryptolocker    34319\n",
       "goz              7347\n",
       "legit           81261\n",
       "newgoz          10999\n",
       "dtype: int64"
      ]
     },
     "execution_count": 5,
     "metadata": {},
     "output_type": "execute_result"
    }
   ],
   "source": [
    "data.groupby('subclass').size()"
   ]
  },
  {
   "cell_type": "markdown",
   "id": "4c5aa887",
   "metadata": {
    "papermill": {
     "duration": 0.013444,
     "end_time": "2022-04-01T14:28:50.118626",
     "exception": false,
     "start_time": "2022-04-01T14:28:50.105182",
     "status": "completed"
    },
    "tags": []
   },
   "source": [
    "With this code we can see that the subclasses of dga can be broken down to cryptolocker, goz, and newgoz. \n",
    "\n",
    "To clarify goz stands for Gameover Zeus which is a peer-to-peer (P2P) malware extension of the Zeus family that steals bank credentials and is a distributor for CryptoLocker ransomware. Cyber criminals use it to \"filter\" money away from banking customers. (https://www.knowbe4.com/gameover-zeus)\n",
    "\n",
    "The point of this is that we can now see that the sub classes of dga are various types of malware extensions that can really put organizations at risk."
   ]
  },
  {
   "cell_type": "markdown",
   "id": "b842285c",
   "metadata": {
    "papermill": {
     "duration": 0.013609,
     "end_time": "2022-04-01T14:28:50.146204",
     "exception": false,
     "start_time": "2022-04-01T14:28:50.132595",
     "status": "completed"
    },
    "tags": []
   },
   "source": [
    "Another important detail I have found while looking through the data set is that the domain names seem to be a real big giveaway on whether a domain is legit or not. For example a typical domain names looks like \"000directory\", while a dga domain name looks like \"10rx3m8xog6s91uigm2z1qbjxid\""
   ]
  },
  {
   "cell_type": "code",
   "execution_count": 6,
   "id": "e3d473ab",
   "metadata": {
    "execution": {
     "iopub.execute_input": "2022-04-01T14:28:50.184342Z",
     "iopub.status.busy": "2022-04-01T14:28:50.183534Z",
     "iopub.status.idle": "2022-04-01T14:28:50.445382Z",
     "shell.execute_reply": "2022-04-01T14:28:50.444679Z",
     "shell.execute_reply.started": "2022-04-01T13:52:35.512774Z"
    },
    "papermill": {
     "duration": 0.285278,
     "end_time": "2022-04-01T14:28:50.445539",
     "exception": false,
     "start_time": "2022-04-01T14:28:50.160261",
     "status": "completed"
    },
    "tags": []
   },
   "outputs": [
    {
     "data": {
      "text/plain": [
       "<AxesSubplot:ylabel='subclass'>"
      ]
     },
     "execution_count": 6,
     "metadata": {},
     "output_type": "execute_result"
    },
    {
     "data": {
      "image/png": "[encoded data removed]",
      "text/plain": [
       "<Figure size 432x288 with 1 Axes>"
      ]
     },
     "metadata": {
      "needs_background": "light"
     },
     "output_type": "display_data"
    }
   ],
   "source": [
    "data.groupby('subclass').domain_length.mean().plot.barh()"
   ]
  },
  {
   "cell_type": "markdown",
   "id": "6a0036bb",
   "metadata": {
    "papermill": {
     "duration": 0.014377,
     "end_time": "2022-04-01T14:28:50.474844",
     "exception": false,
     "start_time": "2022-04-01T14:28:50.460467",
     "status": "completed"
    },
    "tags": []
   },
   "source": [
    "Looking through the bar plot my assertions seem to be correct as on average the newgoz, goz, and crypto locker subclasses tended to overall have a higher character length than the legit subclass."
   ]
  },
  {
   "cell_type": "markdown",
   "id": "8e352a71",
   "metadata": {
    "papermill": {
     "duration": 0.014631,
     "end_time": "2022-04-01T14:28:50.504297",
     "exception": false,
     "start_time": "2022-04-01T14:28:50.489666",
     "status": "completed"
    },
    "tags": []
   },
   "source": [
    "Findings:\n",
    "\n",
    "Overall, even though there weren't many use cases for the data set we were still able to reach some very interesting findings.\n",
    "\n",
    "1. In general domains such as (.biz and .net) tend to be red flags for dga websites. However, it is important to keep in mind that even a .com website can still be a dga website.\n",
    "2. The domain can also be a big give away of a website being dga, as we can see longer domain names can be a red flag of a dga website as well."
   ]
  },
  {
   "cell_type": "markdown",
   "id": "f4026465",
   "metadata": {
    "papermill": {
     "duration": 0.014496,
     "end_time": "2022-04-01T14:28:50.533724",
     "exception": false,
     "start_time": "2022-04-01T14:28:50.519228",
     "status": "completed"
    },
    "tags": []
   },
   "source": []
  }
 ],
 "metadata": {
  "kernelspec": {
   "display_name": "Python 3",
   "language": "python",
   "name": "python3"
  },
  "language_info": {
   "codemirror_mode": {
    "name": "ipython",
    "version": 3
   },
   "file_extension": ".py",
   "mimetype": "text/x-python",
   "name": "python",
   "nbconvert_exporter": "python",
   "pygments_lexer": "ipython3",
   "version": "3.7.12"
  },
  "papermill": {
   "default_parameters": {},
   "duration": 14.993622,
   "end_time": "2022-04-01T14:28:51.159289",
   "environment_variables": {},
   "exception": null,
   "input_path": "__notebook__.ipynb",
   "output_path": "__notebook__.ipynb",
   "parameters": {},
   "start_time": "2022-04-01T14:28:36.165667",
   "version": "2.3.3"
  }
 },
 "nbformat": 4,
 "nbformat_minor": 5
}
