{
 "cells": [
  {
   "cell_type": "code",
   "execution_count": 1,
   "id": "eae1475d",
   "metadata": {
    "_cell_guid": "b1076dfc-b9ad-4769-8c92-a6c4dae69d19",
    "_uuid": "8f2839f25d086af736a60e9eeb907d3b93b6e0e5",
    "execution": {
     "iopub.execute_input": "2022-04-01T16:38:44.360253Z",
     "iopub.status.busy": "2022-04-01T16:38:44.358572Z",
     "iopub.status.idle": "2022-04-01T16:38:44.377541Z",
     "shell.execute_reply": "2022-04-01T16:38:44.378259Z",
     "shell.execute_reply.started": "2022-04-01T15:25:52.500718Z"
    },
    "papermill": {
     "duration": 0.034339,
     "end_time": "2022-04-01T16:38:44.378639",
     "exception": false,
     "start_time": "2022-04-01T16:38:44.344300",
     "status": "completed"
    },
    "tags": []
   },
   "outputs": [
    {
     "name": "stdout",
     "output_type": "stream",
     "text": [
      "/kaggle/input/dds-honeypots-dataset/marx.csv\n"
     ]
    }
   ],
   "source": [
    "# This Python 3 environment comes with many helpful analytics libraries installed\n",
    "# It is defined by the kaggle/python Docker image: https://github.com/kaggle/docker-python\n",
    "# For example, here's several helpful packages to load\n",
    "\n",
    "import numpy as np # linear algebra\n",
    "import pandas as pd # data processing, CSV file I/O (e.g. pd.read_csv)\n",
    "\n",
    "# Input data files are available in the read-only \"../input/\" directory\n",
    "# For example, running this (by clicking run or pressing Shift+Enter) will list all files under the input directory\n",
    "\n",
    "import os\n",
    "for dirname, _, filenames in os.walk('/kaggle/input'):\n",
    "    for filename in filenames:\n",
    "        print(os.path.join(dirname, filename))\n",
    "\n",
    "# You can write up to 20GB to the current directory (/kaggle/working/) that gets preserved as output when you create a version using \"Save & Run All\" \n",
    "# You can also write temporary files to /kaggle/temp/, but they won't be saved outside of the current session"
   ]
  },
  {
   "cell_type": "code",
   "execution_count": 2,
   "id": "61189191",
   "metadata": {
    "execution": {
     "iopub.execute_input": "2022-04-01T16:38:44.399225Z",
     "iopub.status.busy": "2022-04-01T16:38:44.398475Z",
     "iopub.status.idle": "2022-04-01T16:38:45.173699Z",
     "shell.execute_reply": "2022-04-01T16:38:45.173160Z",
     "shell.execute_reply.started": "2022-04-01T15:25:52.509296Z"
    },
    "papermill": {
     "duration": 0.785335,
     "end_time": "2022-04-01T16:38:45.173843",
     "exception": false,
     "start_time": "2022-04-01T16:38:44.388508",
     "status": "completed"
    },
    "tags": []
   },
   "outputs": [],
   "source": [
    "data = pd.read_csv(\"../input/dds-honeypots-dataset/marx.csv\")"
   ]
  },
  {
   "cell_type": "code",
   "execution_count": 3,
   "id": "5cf99d8d",
   "metadata": {
    "execution": {
     "iopub.execute_input": "2022-04-01T16:38:45.203068Z",
     "iopub.status.busy": "2022-04-01T16:38:45.200864Z",
     "iopub.status.idle": "2022-04-01T16:38:45.237098Z",
     "shell.execute_reply": "2022-04-01T16:38:45.237546Z",
     "shell.execute_reply.started": "2022-04-01T15:25:53.030559Z"
    },
    "papermill": {
     "duration": 0.058646,
     "end_time": "2022-04-01T16:38:45.237707",
     "exception": false,
     "start_time": "2022-04-01T16:38:45.179061",
     "status": "completed"
    },
    "tags": []
   },
   "outputs": [
    {
     "data": {
      "text/plain": [
       "proto\n",
       "ICMP     44811\n",
       "TCP     327991\n",
       "UDP      78779\n",
       "dtype: int64"
      ]
     },
     "execution_count": 3,
     "metadata": {},
     "output_type": "execute_result"
    }
   ],
   "source": [
    "data.groupby('proto').size()"
   ]
  },
  {
   "cell_type": "code",
   "execution_count": 4,
   "id": "9bc26df4",
   "metadata": {
    "execution": {
     "iopub.execute_input": "2022-04-01T16:38:45.251452Z",
     "iopub.status.busy": "2022-04-01T16:38:45.250574Z",
     "iopub.status.idle": "2022-04-01T16:38:45.294187Z",
     "shell.execute_reply": "2022-04-01T16:38:45.293727Z",
     "shell.execute_reply.started": "2022-04-01T15:25:53.070436Z"
    },
    "papermill": {
     "duration": 0.051446,
     "end_time": "2022-04-01T16:38:45.294342",
     "exception": false,
     "start_time": "2022-04-01T16:38:45.242896",
     "status": "completed"
    },
    "tags": []
   },
   "outputs": [
    {
     "data": {
      "text/plain": [
       "host\n",
       "groucho-eu            23954\n",
       "groucho-norcal        24566\n",
       "groucho-oregon        94076\n",
       "groucho-sa            24316\n",
       "groucho-singapore     78151\n",
       "groucho-sydney        24456\n",
       "groucho-tokyo        126189\n",
       "groucho-us-east       31779\n",
       "zeppo-norcal          24094\n",
       "dtype: int64"
      ]
     },
     "execution_count": 4,
     "metadata": {},
     "output_type": "execute_result"
    }
   ],
   "source": [
    "data.groupby('host').size()"
   ]
  },
  {
   "cell_type": "markdown",
   "id": "a3bd463a",
   "metadata": {
    "papermill": {
     "duration": 0.005391,
     "end_time": "2022-04-01T16:38:45.305524",
     "exception": false,
     "start_time": "2022-04-01T16:38:45.300133",
     "status": "completed"
    },
    "tags": []
   },
   "source": [
    "Unfortunately there is not much things to analyze with this database, although it is cool being able to see locations of some of the honeypots and some of the protocols that Amazon web services uses."
   ]
  }
 ],
 "metadata": {
  "kernelspec": {
   "display_name": "Python 3",
   "language": "python",
   "name": "python3"
  },
  "language_info": {
   "codemirror_mode": {
    "name": "ipython",
    "version": 3
   },
   "file_extension": ".py",
   "mimetype": "text/x-python",
   "name": "python",
   "nbconvert_exporter": "python",
   "pygments_lexer": "ipython3",
   "version": "3.7.12"
  },
  "papermill": {
   "default_parameters": {},
   "duration": 9.943004,
   "end_time": "2022-04-01T16:38:45.920971",
   "environment_variables": {},
   "exception": null,
   "input_path": "__notebook__.ipynb",
   "output_path": "__notebook__.ipynb",
   "parameters": {},
   "start_time": "2022-04-01T16:38:35.977967",
   "version": "2.3.3"
  }
 },
 "nbformat": 4,
 "nbformat_minor": 5
}
