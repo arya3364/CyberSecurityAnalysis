{
 "cells": [
  {
   "cell_type": "code",
   "execution_count": 1,
   "id": "315024cf",
   "metadata": {
    "_cell_guid": "b1076dfc-b9ad-4769-8c92-a6c4dae69d19",
    "_uuid": "8f2839f25d086af736a60e9eeb907d3b93b6e0e5",
    "execution": {
     "iopub.execute_input": "2022-05-02T15:12:27.765878Z",
     "iopub.status.busy": "2022-05-02T15:12:27.763989Z",
     "iopub.status.idle": "2022-05-02T15:12:27.783835Z",
     "shell.execute_reply": "2022-05-02T15:12:27.782787Z",
     "shell.execute_reply.started": "2022-05-02T15:06:30.849405Z"
    },
    "papermill": {
     "duration": 0.046281,
     "end_time": "2022-05-02T15:12:27.784095",
     "exception": false,
     "start_time": "2022-05-02T15:12:27.737814",
     "status": "completed"
    },
    "tags": []
   },
   "outputs": [
    {
     "name": "stdout",
     "output_type": "stream",
     "text": [
      "/kaggle/input/pdf-malware-2022-dataset/PDFMalware2022.csv\n"
     ]
    }
   ],
   "source": [
    "# This Python 3 environment comes with many helpful analytics libraries installed\n",
    "# It is defined by the kaggle/python Docker image: https://github.com/kaggle/docker-python\n",
    "# For example, here's several helpful packages to load\n",
    "\n",
    "import numpy as np # linear algebra\n",
    "import pandas as pd # data processing, CSV file I/O (e.g. pd.read_csv)\n",
    "\n",
    "# Input data files are available in the read-only \"../input/\" directory\n",
    "# For example, running this (by clicking run or pressing Shift+Enter) will list all files under the input directory\n",
    "\n",
    "import os\n",
    "for dirname, _, filenames in os.walk('/kaggle/input'):\n",
    "    for filename in filenames:\n",
    "        print(os.path.join(dirname, filename))\n",
    "\n",
    "# You can write up to 20GB to the current directory (/kaggle/working/) that gets preserved as output when you create a version using \"Save & Run All\" \n",
    "# You can also write temporary files to /kaggle/temp/, but they won't be saved outside of the current session"
   ]
  },
  {
   "cell_type": "code",
   "execution_count": 2,
   "id": "4733f2ee",
   "metadata": {
    "execution": {
     "iopub.execute_input": "2022-05-02T15:12:27.834006Z",
     "iopub.status.busy": "2022-05-02T15:12:27.832764Z",
     "iopub.status.idle": "2022-05-02T15:12:27.915577Z",
     "shell.execute_reply": "2022-05-02T15:12:27.915012Z",
     "shell.execute_reply.started": "2022-05-02T15:06:30.858768Z"
    },
    "papermill": {
     "duration": 0.111618,
     "end_time": "2022-05-02T15:12:27.915723",
     "exception": false,
     "start_time": "2022-05-02T15:12:27.804105",
     "status": "completed"
    },
    "tags": []
   },
   "outputs": [],
   "source": [
    "data = pd.read_csv(\"../input/pdf-malware-2022-dataset/PDFMalware2022.csv\")"
   ]
  },
  {
   "cell_type": "code",
   "execution_count": 3,
   "id": "077ddc28",
   "metadata": {
    "execution": {
     "iopub.execute_input": "2022-05-02T15:12:27.956250Z",
     "iopub.status.busy": "2022-05-02T15:12:27.955643Z",
     "iopub.status.idle": "2022-05-02T15:12:27.991923Z",
     "shell.execute_reply": "2022-05-02T15:12:27.991257Z",
     "shell.execute_reply.started": "2022-05-02T15:06:30.931916Z"
    },
    "papermill": {
     "duration": 0.057232,
     "end_time": "2022-05-02T15:12:27.992050",
     "exception": false,
     "start_time": "2022-05-02T15:12:27.934818",
     "status": "completed"
    },
    "tags": []
   },
   "outputs": [
    {
     "data": {
      "text/html": [
       "<div>\n",
       "<style scoped>\n",
       "    .dataframe tbody tr th:only-of-type {\n",
       "        vertical-align: middle;\n",
       "    }\n",
       "\n",
       "    .dataframe tbody tr th {\n",
       "        vertical-align: top;\n",
       "    }\n",
       "\n",
       "    .dataframe thead th {\n",
       "        text-align: right;\n",
       "    }\n",
       "</style>\n",
       "<table border=\"1\" class=\"dataframe\">\n",
       "  <thead>\n",
       "    <tr style=\"text-align: right;\">\n",
       "      <th></th>\n",
       "      <th>Fine name</th>\n",
       "      <th>pdfsize</th>\n",
       "      <th>metadata size</th>\n",
       "      <th>pages</th>\n",
       "      <th>xref Length</th>\n",
       "      <th>title characters</th>\n",
       "      <th>isEncrypted</th>\n",
       "      <th>embedded files</th>\n",
       "      <th>images</th>\n",
       "      <th>text</th>\n",
       "      <th>...</th>\n",
       "      <th>AA</th>\n",
       "      <th>OpenAction</th>\n",
       "      <th>Acroform</th>\n",
       "      <th>JBIG2Decode</th>\n",
       "      <th>RichMedia</th>\n",
       "      <th>launch</th>\n",
       "      <th>EmbeddedFile</th>\n",
       "      <th>XFA</th>\n",
       "      <th>Colors</th>\n",
       "      <th>Class</th>\n",
       "    </tr>\n",
       "  </thead>\n",
       "  <tbody>\n",
       "    <tr>\n",
       "      <th>0</th>\n",
       "      <td>aedaf3c5428a2e3ba600c44b96ad78dfdf8ed76e7df129...</td>\n",
       "      <td>8.0</td>\n",
       "      <td>180.0</td>\n",
       "      <td>1.0</td>\n",
       "      <td>11.0</td>\n",
       "      <td>0.0</td>\n",
       "      <td>0.0</td>\n",
       "      <td>0.0</td>\n",
       "      <td>0</td>\n",
       "      <td>No</td>\n",
       "      <td>...</td>\n",
       "      <td>0</td>\n",
       "      <td>1</td>\n",
       "      <td>0</td>\n",
       "      <td>0</td>\n",
       "      <td>0</td>\n",
       "      <td>0</td>\n",
       "      <td>0</td>\n",
       "      <td>0</td>\n",
       "      <td>0.0</td>\n",
       "      <td>Malicious</td>\n",
       "    </tr>\n",
       "    <tr>\n",
       "      <th>1</th>\n",
       "      <td>fe767fb2584a10c010626263ea950643ac25f6ca24628f...</td>\n",
       "      <td>15.0</td>\n",
       "      <td>224.0</td>\n",
       "      <td>0.0</td>\n",
       "      <td>20.0</td>\n",
       "      <td>7.0</td>\n",
       "      <td>0.0</td>\n",
       "      <td>0.0</td>\n",
       "      <td>0</td>\n",
       "      <td>No</td>\n",
       "      <td>...</td>\n",
       "      <td>0</td>\n",
       "      <td>0</td>\n",
       "      <td>1</td>\n",
       "      <td>0</td>\n",
       "      <td>0</td>\n",
       "      <td>0</td>\n",
       "      <td>8</td>\n",
       "      <td>1</td>\n",
       "      <td>0.0</td>\n",
       "      <td>Malicious</td>\n",
       "    </tr>\n",
       "    <tr>\n",
       "      <th>2</th>\n",
       "      <td>544c5223ee301affad514b6fa585b3191625aba0a7222b...</td>\n",
       "      <td>4.0</td>\n",
       "      <td>468.0</td>\n",
       "      <td>2.0</td>\n",
       "      <td>13.0</td>\n",
       "      <td>16.0</td>\n",
       "      <td>0.0</td>\n",
       "      <td>0.0</td>\n",
       "      <td>0</td>\n",
       "      <td>Yes</td>\n",
       "      <td>...</td>\n",
       "      <td>0</td>\n",
       "      <td>1</td>\n",
       "      <td>0</td>\n",
       "      <td>0</td>\n",
       "      <td>0</td>\n",
       "      <td>0</td>\n",
       "      <td>0</td>\n",
       "      <td>0</td>\n",
       "      <td>0.0</td>\n",
       "      <td>Malicious</td>\n",
       "    </tr>\n",
       "    <tr>\n",
       "      <th>3</th>\n",
       "      <td>669772e626deccb9cfb7eb6a61e13d248d0ea08f1abe15...</td>\n",
       "      <td>17.0</td>\n",
       "      <td>250.0</td>\n",
       "      <td>1.0</td>\n",
       "      <td>15.0</td>\n",
       "      <td>0.0</td>\n",
       "      <td>0.0</td>\n",
       "      <td>0.0</td>\n",
       "      <td>0</td>\n",
       "      <td>No</td>\n",
       "      <td>...</td>\n",
       "      <td>0</td>\n",
       "      <td>1</td>\n",
       "      <td>1</td>\n",
       "      <td>0</td>\n",
       "      <td>0</td>\n",
       "      <td>0</td>\n",
       "      <td>0</td>\n",
       "      <td>0</td>\n",
       "      <td>0.0</td>\n",
       "      <td>Malicious</td>\n",
       "    </tr>\n",
       "    <tr>\n",
       "      <th>4</th>\n",
       "      <td>e434c884f45a691b0bf33d765f61794007eb0b8bb9f590...</td>\n",
       "      <td>7.0</td>\n",
       "      <td>252.0</td>\n",
       "      <td>3.0</td>\n",
       "      <td>16.0</td>\n",
       "      <td>45.0</td>\n",
       "      <td>0.0</td>\n",
       "      <td>0.0</td>\n",
       "      <td>0</td>\n",
       "      <td>Yes</td>\n",
       "      <td>...</td>\n",
       "      <td>0</td>\n",
       "      <td>1</td>\n",
       "      <td>0</td>\n",
       "      <td>0</td>\n",
       "      <td>0</td>\n",
       "      <td>0</td>\n",
       "      <td>0</td>\n",
       "      <td>0</td>\n",
       "      <td>0.0</td>\n",
       "      <td>Malicious</td>\n",
       "    </tr>\n",
       "  </tbody>\n",
       "</table>\n",
       "<p>5 rows × 33 columns</p>\n",
       "</div>"
      ],
      "text/plain": [
       "                                           Fine name  pdfsize  metadata size  \\\n",
       "0  aedaf3c5428a2e3ba600c44b96ad78dfdf8ed76e7df129...      8.0          180.0   \n",
       "1  fe767fb2584a10c010626263ea950643ac25f6ca24628f...     15.0          224.0   \n",
       "2  544c5223ee301affad514b6fa585b3191625aba0a7222b...      4.0          468.0   \n",
       "3  669772e626deccb9cfb7eb6a61e13d248d0ea08f1abe15...     17.0          250.0   \n",
       "4  e434c884f45a691b0bf33d765f61794007eb0b8bb9f590...      7.0          252.0   \n",
       "\n",
       "   pages  xref Length  title characters  isEncrypted  embedded files images  \\\n",
       "0    1.0         11.0               0.0          0.0             0.0      0   \n",
       "1    0.0         20.0               7.0          0.0             0.0      0   \n",
       "2    2.0         13.0              16.0          0.0             0.0      0   \n",
       "3    1.0         15.0               0.0          0.0             0.0      0   \n",
       "4    3.0         16.0              45.0          0.0             0.0      0   \n",
       "\n",
       "  text  ... AA OpenAction Acroform  JBIG2Decode RichMedia launch  \\\n",
       "0   No  ...  0          1        0            0         0      0   \n",
       "1   No  ...  0          0        1            0         0      0   \n",
       "2  Yes  ...  0          1        0            0         0      0   \n",
       "3   No  ...  0          1        1            0         0      0   \n",
       "4  Yes  ...  0          1        0            0         0      0   \n",
       "\n",
       "   EmbeddedFile XFA Colors      Class  \n",
       "0             0   0    0.0  Malicious  \n",
       "1             8   1    0.0  Malicious  \n",
       "2             0   0    0.0  Malicious  \n",
       "3             0   0    0.0  Malicious  \n",
       "4             0   0    0.0  Malicious  \n",
       "\n",
       "[5 rows x 33 columns]"
      ]
     },
     "execution_count": 3,
     "metadata": {},
     "output_type": "execute_result"
    }
   ],
   "source": [
    "data.head()"
   ]
  },
  {
   "cell_type": "code",
   "execution_count": 4,
   "id": "d1b05373",
   "metadata": {
    "execution": {
     "iopub.execute_input": "2022-05-02T15:12:28.040721Z",
     "iopub.status.busy": "2022-05-02T15:12:28.040095Z",
     "iopub.status.idle": "2022-05-02T15:12:28.045868Z",
     "shell.execute_reply": "2022-05-02T15:12:28.045402Z",
     "shell.execute_reply.started": "2022-05-02T15:06:30.966307Z"
    },
    "papermill": {
     "duration": 0.034827,
     "end_time": "2022-05-02T15:12:28.046000",
     "exception": false,
     "start_time": "2022-05-02T15:12:28.011173",
     "status": "completed"
    },
    "tags": []
   },
   "outputs": [
    {
     "data": {
      "text/plain": [
       "Class\n",
       "Benign       4468\n",
       "Malicious    5557\n",
       "dtype: int64"
      ]
     },
     "execution_count": 4,
     "metadata": {},
     "output_type": "execute_result"
    }
   ],
   "source": [
    "# We use this command just to see how many files are either malicious/not malicious (benign).\n",
    "data.groupby('Class').size()"
   ]
  },
  {
   "cell_type": "markdown",
   "id": "bdd346fd",
   "metadata": {
    "papermill": {
     "duration": 0.019266,
     "end_time": "2022-05-02T15:12:28.084739",
     "exception": false,
     "start_time": "2022-05-02T15:12:28.065473",
     "status": "completed"
    },
    "tags": []
   },
   "source": [
    "The website for the data set specified that there would be 4,468 benign records and 5,557 malicious records, which seems to be accurate with our findings."
   ]
  },
  {
   "cell_type": "markdown",
   "id": "af1c3ddd",
   "metadata": {
    "papermill": {
     "duration": 0.019124,
     "end_time": "2022-05-02T15:12:28.123307",
     "exception": false,
     "start_time": "2022-05-02T15:12:28.104183",
     "status": "completed"
    },
    "tags": []
   },
   "source": [
    "To start with this project I first want to figure out by comparing malicious PDF files with benign PDF files and see if there is any noticable difference between the two categories when compared with different files."
   ]
  },
  {
   "cell_type": "code",
   "execution_count": 5,
   "id": "db7a4241",
   "metadata": {
    "execution": {
     "iopub.execute_input": "2022-05-02T15:12:28.165778Z",
     "iopub.status.busy": "2022-05-02T15:12:28.164831Z",
     "iopub.status.idle": "2022-05-02T15:12:28.379435Z",
     "shell.execute_reply": "2022-05-02T15:12:28.378843Z",
     "shell.execute_reply.started": "2022-05-02T15:06:30.988606Z"
    },
    "papermill": {
     "duration": 0.236921,
     "end_time": "2022-05-02T15:12:28.379589",
     "exception": false,
     "start_time": "2022-05-02T15:12:28.142668",
     "status": "completed"
    },
    "tags": []
   },
   "outputs": [
    {
     "data": {
      "text/plain": [
       "<AxesSubplot:ylabel='Class'>"
      ]
     },
     "execution_count": 5,
     "metadata": {},
     "output_type": "execute_result"
    },
    {
     "data": {
      "image/png": "[encoded data removed]",
      "text/plain": [
       "<Figure size 432x288 with 1 Axes>"
      ]
     },
     "metadata": {
      "needs_background": "light"
     },
     "output_type": "display_data"
    }
   ],
   "source": [
    "data.groupby('Class').pdfsize.mean().plot.barh()"
   ]
  },
  {
   "cell_type": "code",
   "execution_count": 6,
   "id": "7ee734d4",
   "metadata": {
    "execution": {
     "iopub.execute_input": "2022-05-02T15:12:28.427994Z",
     "iopub.status.busy": "2022-05-02T15:12:28.427343Z",
     "iopub.status.idle": "2022-05-02T15:12:28.694197Z",
     "shell.execute_reply": "2022-05-02T15:12:28.693659Z",
     "shell.execute_reply.started": "2022-05-02T15:06:31.177992Z"
    },
    "papermill": {
     "duration": 0.294091,
     "end_time": "2022-05-02T15:12:28.694341",
     "exception": false,
     "start_time": "2022-05-02T15:12:28.400250",
     "status": "completed"
    },
    "tags": []
   },
   "outputs": [
    {
     "data": {
      "text/plain": [
       "<AxesSubplot:ylabel='Class'>"
      ]
     },
     "execution_count": 6,
     "metadata": {},
     "output_type": "execute_result"
    },
    {
     "data": {
      "image/png": "[encoded data removed]",
      "text/plain": [
       "<Figure size 432x288 with 1 Axes>"
      ]
     },
     "metadata": {
      "needs_background": "light"
     },
     "output_type": "display_data"
    }
   ],
   "source": [
    "data.groupby('Class').stream.mean().plot.barh()"
   ]
  },
  {
   "cell_type": "code",
   "execution_count": 7,
   "id": "81d990fb",
   "metadata": {
    "execution": {
     "iopub.execute_input": "2022-05-02T15:12:28.742871Z",
     "iopub.status.busy": "2022-05-02T15:12:28.742289Z",
     "iopub.status.idle": "2022-05-02T15:12:28.926662Z",
     "shell.execute_reply": "2022-05-02T15:12:28.927198Z",
     "shell.execute_reply.started": "2022-05-02T15:06:31.371236Z"
    },
    "papermill": {
     "duration": 0.2099,
     "end_time": "2022-05-02T15:12:28.927357",
     "exception": false,
     "start_time": "2022-05-02T15:12:28.717457",
     "status": "completed"
    },
    "tags": []
   },
   "outputs": [
    {
     "data": {
      "text/plain": [
       "<AxesSubplot:ylabel='Class'>"
      ]
     },
     "execution_count": 7,
     "metadata": {},
     "output_type": "execute_result"
    },
    {
     "data": {
      "image/png": "[encoded data removed]",
      "text/plain": [
       "<Figure size 432x288 with 1 Axes>"
      ]
     },
     "metadata": {
      "needs_background": "light"
     },
     "output_type": "display_data"
    }
   ],
   "source": [
    "data.groupby('Class').trailer.mean().plot.barh()"
   ]
  },
  {
   "cell_type": "code",
   "execution_count": 8,
   "id": "13f022e3",
   "metadata": {
    "execution": {
     "iopub.execute_input": "2022-05-02T15:12:28.977330Z",
     "iopub.status.busy": "2022-05-02T15:12:28.976639Z",
     "iopub.status.idle": "2022-05-02T15:12:29.151164Z",
     "shell.execute_reply": "2022-05-02T15:12:29.150609Z",
     "shell.execute_reply.started": "2022-05-02T15:06:31.577025Z"
    },
    "papermill": {
     "duration": 0.200901,
     "end_time": "2022-05-02T15:12:29.151312",
     "exception": false,
     "start_time": "2022-05-02T15:12:28.950411",
     "status": "completed"
    },
    "tags": []
   },
   "outputs": [
    {
     "data": {
      "text/plain": [
       "<AxesSubplot:ylabel='Class'>"
      ]
     },
     "execution_count": 8,
     "metadata": {},
     "output_type": "execute_result"
    },
    {
     "data": {
      "image/png": "[encoded data removed]",
      "text/plain": [
       "<Figure size 432x288 with 1 Axes>"
      ]
     },
     "metadata": {
      "needs_background": "light"
     },
     "output_type": "display_data"
    }
   ],
   "source": [
    "data.groupby('Class').ObjStm.mean().plot.barh()"
   ]
  },
  {
   "cell_type": "code",
   "execution_count": 9,
   "id": "d53b1004",
   "metadata": {
    "execution": {
     "iopub.execute_input": "2022-05-02T15:12:29.203493Z",
     "iopub.status.busy": "2022-05-02T15:12:29.202840Z",
     "iopub.status.idle": "2022-05-02T15:12:29.379737Z",
     "shell.execute_reply": "2022-05-02T15:12:29.378789Z",
     "shell.execute_reply.started": "2022-05-02T15:06:31.776207Z"
    },
    "papermill": {
     "duration": 0.204018,
     "end_time": "2022-05-02T15:12:29.379911",
     "exception": false,
     "start_time": "2022-05-02T15:12:29.175893",
     "status": "completed"
    },
    "tags": []
   },
   "outputs": [
    {
     "data": {
      "text/plain": [
       "<AxesSubplot:ylabel='Class'>"
      ]
     },
     "execution_count": 9,
     "metadata": {},
     "output_type": "execute_result"
    },
    {
     "data": {
      "image/png": "[encoded data removed]",
      "text/plain": [
       "<Figure size 432x288 with 1 Axes>"
      ]
     },
     "metadata": {
      "needs_background": "light"
     },
     "output_type": "display_data"
    }
   ],
   "source": [
    "data.groupby('Class').Colors.mean().plot.barh()"
   ]
  },
  {
   "cell_type": "markdown",
   "id": "6248dc66",
   "metadata": {
    "papermill": {
     "duration": 0.02589,
     "end_time": "2022-05-02T15:12:29.432571",
     "exception": false,
     "start_time": "2022-05-02T15:12:29.406681",
     "status": "completed"
    },
    "tags": []
   },
   "source": [
    "After making bar plots to figure out what information I can gather, I found that compared to malicious PDF files that benign PDF files tend to have more colors, stream objects, rich media (keywords), stream, and a larger PDF size."
   ]
  },
  {
   "cell_type": "markdown",
   "id": "615b7f8c",
   "metadata": {
    "papermill": {
     "duration": 0.02584,
     "end_time": "2022-05-02T15:12:29.485486",
     "exception": false,
     "start_time": "2022-05-02T15:12:29.459646",
     "status": "completed"
    },
    "tags": []
   },
   "source": [
    "Conclusions from Bar Charts: What my conclusions came down to is that the PDF file's stream size and stream objects is a good indicator on if a file may be malicious. As we can see from the bar charts above these two categories show the greatest difference in means between the malicious and benign categories. Not to mention, I believe that because most hackers are trying to create malicious files as quickly as possible to maximize efficieny, it may be possible take short cuts such as adding less stream objects when compare to the typical benign PDF file. We may be able to use this to our advantage by flagging PDF files with small stream sizes and less stream objects."
   ]
  },
  {
   "cell_type": "code",
   "execution_count": 10,
   "id": "5854aee8",
   "metadata": {
    "execution": {
     "iopub.execute_input": "2022-05-02T15:12:29.539929Z",
     "iopub.status.busy": "2022-05-02T15:12:29.538998Z",
     "iopub.status.idle": "2022-05-02T15:12:29.764137Z",
     "shell.execute_reply": "2022-05-02T15:12:29.763537Z",
     "shell.execute_reply.started": "2022-05-02T15:06:31.977065Z"
    },
    "papermill": {
     "duration": 0.253441,
     "end_time": "2022-05-02T15:12:29.764280",
     "exception": false,
     "start_time": "2022-05-02T15:12:29.510839",
     "status": "completed"
    },
    "tags": []
   },
   "outputs": [
    {
     "data": {
      "text/html": [
       "<div>\n",
       "<style scoped>\n",
       "    .dataframe tbody tr th:only-of-type {\n",
       "        vertical-align: middle;\n",
       "    }\n",
       "\n",
       "    .dataframe tbody tr th {\n",
       "        vertical-align: top;\n",
       "    }\n",
       "\n",
       "    .dataframe thead th {\n",
       "        text-align: right;\n",
       "    }\n",
       "</style>\n",
       "<table border=\"1\" class=\"dataframe\">\n",
       "  <thead>\n",
       "    <tr style=\"text-align: right;\">\n",
       "      <th></th>\n",
       "      <th>Fine name</th>\n",
       "      <th>pdfsize</th>\n",
       "      <th>metadata size</th>\n",
       "      <th>pages</th>\n",
       "      <th>xref Length</th>\n",
       "      <th>title characters</th>\n",
       "      <th>isEncrypted</th>\n",
       "      <th>embedded files</th>\n",
       "      <th>images</th>\n",
       "      <th>text</th>\n",
       "      <th>...</th>\n",
       "      <th>OpenAction</th>\n",
       "      <th>Acroform</th>\n",
       "      <th>JBIG2Decode</th>\n",
       "      <th>RichMedia</th>\n",
       "      <th>launch</th>\n",
       "      <th>EmbeddedFile</th>\n",
       "      <th>XFA</th>\n",
       "      <th>Colors</th>\n",
       "      <th>Class</th>\n",
       "      <th>suspicious</th>\n",
       "    </tr>\n",
       "  </thead>\n",
       "  <tbody>\n",
       "    <tr>\n",
       "      <th>0</th>\n",
       "      <td>aedaf3c5428a2e3ba600c44b96ad78dfdf8ed76e7df129...</td>\n",
       "      <td>8.0</td>\n",
       "      <td>180.0</td>\n",
       "      <td>1.0</td>\n",
       "      <td>11.0</td>\n",
       "      <td>0.0</td>\n",
       "      <td>0.0</td>\n",
       "      <td>0.0</td>\n",
       "      <td>0</td>\n",
       "      <td>No</td>\n",
       "      <td>...</td>\n",
       "      <td>1</td>\n",
       "      <td>0</td>\n",
       "      <td>0</td>\n",
       "      <td>0</td>\n",
       "      <td>0</td>\n",
       "      <td>0</td>\n",
       "      <td>0</td>\n",
       "      <td>0.0</td>\n",
       "      <td>Malicious</td>\n",
       "      <td>Suspicious</td>\n",
       "    </tr>\n",
       "    <tr>\n",
       "      <th>1</th>\n",
       "      <td>fe767fb2584a10c010626263ea950643ac25f6ca24628f...</td>\n",
       "      <td>15.0</td>\n",
       "      <td>224.0</td>\n",
       "      <td>0.0</td>\n",
       "      <td>20.0</td>\n",
       "      <td>7.0</td>\n",
       "      <td>0.0</td>\n",
       "      <td>0.0</td>\n",
       "      <td>0</td>\n",
       "      <td>No</td>\n",
       "      <td>...</td>\n",
       "      <td>0</td>\n",
       "      <td>1</td>\n",
       "      <td>0</td>\n",
       "      <td>0</td>\n",
       "      <td>0</td>\n",
       "      <td>8</td>\n",
       "      <td>1</td>\n",
       "      <td>0.0</td>\n",
       "      <td>Malicious</td>\n",
       "      <td>Not Suspicious</td>\n",
       "    </tr>\n",
       "    <tr>\n",
       "      <th>2</th>\n",
       "      <td>544c5223ee301affad514b6fa585b3191625aba0a7222b...</td>\n",
       "      <td>4.0</td>\n",
       "      <td>468.0</td>\n",
       "      <td>2.0</td>\n",
       "      <td>13.0</td>\n",
       "      <td>16.0</td>\n",
       "      <td>0.0</td>\n",
       "      <td>0.0</td>\n",
       "      <td>0</td>\n",
       "      <td>Yes</td>\n",
       "      <td>...</td>\n",
       "      <td>1</td>\n",
       "      <td>0</td>\n",
       "      <td>0</td>\n",
       "      <td>0</td>\n",
       "      <td>0</td>\n",
       "      <td>0</td>\n",
       "      <td>0</td>\n",
       "      <td>0.0</td>\n",
       "      <td>Malicious</td>\n",
       "      <td>Suspicious</td>\n",
       "    </tr>\n",
       "    <tr>\n",
       "      <th>3</th>\n",
       "      <td>669772e626deccb9cfb7eb6a61e13d248d0ea08f1abe15...</td>\n",
       "      <td>17.0</td>\n",
       "      <td>250.0</td>\n",
       "      <td>1.0</td>\n",
       "      <td>15.0</td>\n",
       "      <td>0.0</td>\n",
       "      <td>0.0</td>\n",
       "      <td>0.0</td>\n",
       "      <td>0</td>\n",
       "      <td>No</td>\n",
       "      <td>...</td>\n",
       "      <td>1</td>\n",
       "      <td>1</td>\n",
       "      <td>0</td>\n",
       "      <td>0</td>\n",
       "      <td>0</td>\n",
       "      <td>0</td>\n",
       "      <td>0</td>\n",
       "      <td>0.0</td>\n",
       "      <td>Malicious</td>\n",
       "      <td>Suspicious</td>\n",
       "    </tr>\n",
       "    <tr>\n",
       "      <th>4</th>\n",
       "      <td>e434c884f45a691b0bf33d765f61794007eb0b8bb9f590...</td>\n",
       "      <td>7.0</td>\n",
       "      <td>252.0</td>\n",
       "      <td>3.0</td>\n",
       "      <td>16.0</td>\n",
       "      <td>45.0</td>\n",
       "      <td>0.0</td>\n",
       "      <td>0.0</td>\n",
       "      <td>0</td>\n",
       "      <td>Yes</td>\n",
       "      <td>...</td>\n",
       "      <td>1</td>\n",
       "      <td>0</td>\n",
       "      <td>0</td>\n",
       "      <td>0</td>\n",
       "      <td>0</td>\n",
       "      <td>0</td>\n",
       "      <td>0</td>\n",
       "      <td>0.0</td>\n",
       "      <td>Malicious</td>\n",
       "      <td>Suspicious</td>\n",
       "    </tr>\n",
       "    <tr>\n",
       "      <th>...</th>\n",
       "      <td>...</td>\n",
       "      <td>...</td>\n",
       "      <td>...</td>\n",
       "      <td>...</td>\n",
       "      <td>...</td>\n",
       "      <td>...</td>\n",
       "      <td>...</td>\n",
       "      <td>...</td>\n",
       "      <td>...</td>\n",
       "      <td>...</td>\n",
       "      <td>...</td>\n",
       "      <td>...</td>\n",
       "      <td>...</td>\n",
       "      <td>...</td>\n",
       "      <td>...</td>\n",
       "      <td>...</td>\n",
       "      <td>...</td>\n",
       "      <td>...</td>\n",
       "      <td>...</td>\n",
       "      <td>...</td>\n",
       "      <td>...</td>\n",
       "    </tr>\n",
       "    <tr>\n",
       "      <th>10021</th>\n",
       "      <td>908f8e3411d1bdf5e0fa7ca953c85cc4f133729fd4c71a...</td>\n",
       "      <td>529.0</td>\n",
       "      <td>296.0</td>\n",
       "      <td>1.0</td>\n",
       "      <td>87.0</td>\n",
       "      <td>8.0</td>\n",
       "      <td>0.0</td>\n",
       "      <td>0.0</td>\n",
       "      <td>3</td>\n",
       "      <td>No</td>\n",
       "      <td>...</td>\n",
       "      <td>1</td>\n",
       "      <td>0</td>\n",
       "      <td>0</td>\n",
       "      <td>0</td>\n",
       "      <td>0</td>\n",
       "      <td>0</td>\n",
       "      <td>0</td>\n",
       "      <td>0.0</td>\n",
       "      <td>Malicious</td>\n",
       "      <td>Suspicious</td>\n",
       "    </tr>\n",
       "    <tr>\n",
       "      <th>10022</th>\n",
       "      <td>72654b36f6a240d953a9ce3e898a4dfa381031ba7f5e2a...</td>\n",
       "      <td>73.0</td>\n",
       "      <td>314.0</td>\n",
       "      <td>1.0</td>\n",
       "      <td>16.0</td>\n",
       "      <td>3.0</td>\n",
       "      <td>0.0</td>\n",
       "      <td>0.0</td>\n",
       "      <td>-1</td>\n",
       "      <td>unclear</td>\n",
       "      <td>...</td>\n",
       "      <td>1</td>\n",
       "      <td>0</td>\n",
       "      <td>0</td>\n",
       "      <td>0</td>\n",
       "      <td>0</td>\n",
       "      <td>0</td>\n",
       "      <td>0</td>\n",
       "      <td>0.0</td>\n",
       "      <td>Malicious</td>\n",
       "      <td>Suspicious</td>\n",
       "    </tr>\n",
       "    <tr>\n",
       "      <th>10023</th>\n",
       "      <td>dad02289bc442e235961f4cf87cbde364a2250bdc57632...</td>\n",
       "      <td>4.0</td>\n",
       "      <td>377.0</td>\n",
       "      <td>2.0</td>\n",
       "      <td>13.0</td>\n",
       "      <td>11.0</td>\n",
       "      <td>0.0</td>\n",
       "      <td>0.0</td>\n",
       "      <td>0</td>\n",
       "      <td>Yes</td>\n",
       "      <td>...</td>\n",
       "      <td>1</td>\n",
       "      <td>0</td>\n",
       "      <td>0</td>\n",
       "      <td>0</td>\n",
       "      <td>0</td>\n",
       "      <td>0</td>\n",
       "      <td>0</td>\n",
       "      <td>0.0</td>\n",
       "      <td>Malicious</td>\n",
       "      <td>Suspicious</td>\n",
       "    </tr>\n",
       "    <tr>\n",
       "      <th>10024</th>\n",
       "      <td>b219390e223ea263476d65277d00804cfd0a93023e1903...</td>\n",
       "      <td>38.0</td>\n",
       "      <td>338.0</td>\n",
       "      <td>1.0</td>\n",
       "      <td>200006.0</td>\n",
       "      <td>13.0</td>\n",
       "      <td>0.0</td>\n",
       "      <td>0.0</td>\n",
       "      <td>0</td>\n",
       "      <td>Yes</td>\n",
       "      <td>...</td>\n",
       "      <td>1</td>\n",
       "      <td>0</td>\n",
       "      <td>0</td>\n",
       "      <td>0</td>\n",
       "      <td>0</td>\n",
       "      <td>0</td>\n",
       "      <td>0</td>\n",
       "      <td>0.0</td>\n",
       "      <td>Malicious</td>\n",
       "      <td>Suspicious</td>\n",
       "    </tr>\n",
       "    <tr>\n",
       "      <th>10025</th>\n",
       "      <td>b76c4910d7c637f32ebf175247d489a311c2a584a1ac6d...</td>\n",
       "      <td>2.0</td>\n",
       "      <td>180.0</td>\n",
       "      <td>1.0</td>\n",
       "      <td>11.0</td>\n",
       "      <td>0.0</td>\n",
       "      <td>0.0</td>\n",
       "      <td>1.0</td>\n",
       "      <td>0</td>\n",
       "      <td>Yes</td>\n",
       "      <td>...</td>\n",
       "      <td>0</td>\n",
       "      <td>0</td>\n",
       "      <td>0</td>\n",
       "      <td>0</td>\n",
       "      <td>0</td>\n",
       "      <td>0</td>\n",
       "      <td>0</td>\n",
       "      <td>0.0</td>\n",
       "      <td>Malicious</td>\n",
       "      <td>Not Suspicious</td>\n",
       "    </tr>\n",
       "  </tbody>\n",
       "</table>\n",
       "<p>10026 rows × 34 columns</p>\n",
       "</div>"
      ],
      "text/plain": [
       "                                               Fine name  pdfsize  \\\n",
       "0      aedaf3c5428a2e3ba600c44b96ad78dfdf8ed76e7df129...      8.0   \n",
       "1      fe767fb2584a10c010626263ea950643ac25f6ca24628f...     15.0   \n",
       "2      544c5223ee301affad514b6fa585b3191625aba0a7222b...      4.0   \n",
       "3      669772e626deccb9cfb7eb6a61e13d248d0ea08f1abe15...     17.0   \n",
       "4      e434c884f45a691b0bf33d765f61794007eb0b8bb9f590...      7.0   \n",
       "...                                                  ...      ...   \n",
       "10021  908f8e3411d1bdf5e0fa7ca953c85cc4f133729fd4c71a...    529.0   \n",
       "10022  72654b36f6a240d953a9ce3e898a4dfa381031ba7f5e2a...     73.0   \n",
       "10023  dad02289bc442e235961f4cf87cbde364a2250bdc57632...      4.0   \n",
       "10024  b219390e223ea263476d65277d00804cfd0a93023e1903...     38.0   \n",
       "10025  b76c4910d7c637f32ebf175247d489a311c2a584a1ac6d...      2.0   \n",
       "\n",
       "       metadata size  pages  xref Length  title characters  isEncrypted  \\\n",
       "0              180.0    1.0         11.0               0.0          0.0   \n",
       "1              224.0    0.0         20.0               7.0          0.0   \n",
       "2              468.0    2.0         13.0              16.0          0.0   \n",
       "3              250.0    1.0         15.0               0.0          0.0   \n",
       "4              252.0    3.0         16.0              45.0          0.0   \n",
       "...              ...    ...          ...               ...          ...   \n",
       "10021          296.0    1.0         87.0               8.0          0.0   \n",
       "10022          314.0    1.0         16.0               3.0          0.0   \n",
       "10023          377.0    2.0         13.0              11.0          0.0   \n",
       "10024          338.0    1.0     200006.0              13.0          0.0   \n",
       "10025          180.0    1.0         11.0               0.0          0.0   \n",
       "\n",
       "       embedded files images     text  ... OpenAction Acroform JBIG2Decode  \\\n",
       "0                 0.0      0       No  ...          1        0           0   \n",
       "1                 0.0      0       No  ...          0        1           0   \n",
       "2                 0.0      0      Yes  ...          1        0           0   \n",
       "3                 0.0      0       No  ...          1        1           0   \n",
       "4                 0.0      0      Yes  ...          1        0           0   \n",
       "...               ...    ...      ...  ...        ...      ...         ...   \n",
       "10021             0.0      3       No  ...          1        0           0   \n",
       "10022             0.0     -1  unclear  ...          1        0           0   \n",
       "10023             0.0      0      Yes  ...          1        0           0   \n",
       "10024             0.0      0      Yes  ...          1        0           0   \n",
       "10025             1.0      0      Yes  ...          0        0           0   \n",
       "\n",
       "       RichMedia launch EmbeddedFile  XFA Colors      Class      suspicious  \n",
       "0              0      0            0    0    0.0  Malicious      Suspicious  \n",
       "1              0      0            8    1    0.0  Malicious  Not Suspicious  \n",
       "2              0      0            0    0    0.0  Malicious      Suspicious  \n",
       "3              0      0            0    0    0.0  Malicious      Suspicious  \n",
       "4              0      0            0    0    0.0  Malicious      Suspicious  \n",
       "...          ...    ...          ...  ...    ...        ...             ...  \n",
       "10021          0      0            0    0    0.0  Malicious      Suspicious  \n",
       "10022          0      0            0    0    0.0  Malicious      Suspicious  \n",
       "10023          0      0            0    0    0.0  Malicious      Suspicious  \n",
       "10024          0      0            0    0    0.0  Malicious      Suspicious  \n",
       "10025          0      0            0    0    0.0  Malicious  Not Suspicious  \n",
       "\n",
       "[10026 rows x 34 columns]"
      ]
     },
     "execution_count": 10,
     "metadata": {},
     "output_type": "execute_result"
    }
   ],
   "source": [
    "def suspicious_func(df):\n",
    "    if ((df['stream'] >= 7) or (df['ObjStm'] >= 0.5)):\n",
    "        return 'Not Suspicious'\n",
    "    else:\n",
    "        return 'Suspicious'\n",
    "    \n",
    "data['suspicious'] = data.apply(suspicious_func, axis = 1)\n",
    "\n",
    "data\n"
   ]
  },
  {
   "cell_type": "markdown",
   "id": "ffdfadb8",
   "metadata": {
    "papermill": {
     "duration": 0.025732,
     "end_time": "2022-05-02T15:12:29.815923",
     "exception": false,
     "start_time": "2022-05-02T15:12:29.790191",
     "status": "completed"
    },
    "tags": []
   },
   "source": [
    "So what I did with above function is I looked at a value where we start to see PDF files seperate from malicious to benign. For the stream that value is 0.5 and for stream objects that value was 7. Then I made a new column in the CSV that distinguishes between if we should be suspicious or not suspicious of the PDF file."
   ]
  },
  {
   "cell_type": "code",
   "execution_count": 11,
   "id": "276c551d",
   "metadata": {
    "execution": {
     "iopub.execute_input": "2022-05-02T15:12:29.872315Z",
     "iopub.status.busy": "2022-05-02T15:12:29.871314Z",
     "iopub.status.idle": "2022-05-02T15:12:29.880574Z",
     "shell.execute_reply": "2022-05-02T15:12:29.879972Z",
     "shell.execute_reply.started": "2022-05-02T15:06:32.223398Z"
    },
    "papermill": {
     "duration": 0.038717,
     "end_time": "2022-05-02T15:12:29.880705",
     "exception": false,
     "start_time": "2022-05-02T15:12:29.841988",
     "status": "completed"
    },
    "tags": []
   },
   "outputs": [
    {
     "data": {
      "text/plain": [
       "suspicious\n",
       "Not Suspicious    4442\n",
       "Suspicious        5584\n",
       "dtype: int64"
      ]
     },
     "execution_count": 11,
     "metadata": {},
     "output_type": "execute_result"
    }
   ],
   "source": [
    "data.groupby('suspicious').size()"
   ]
  },
  {
   "cell_type": "code",
   "execution_count": 12,
   "id": "baf1dae3",
   "metadata": {
    "execution": {
     "iopub.execute_input": "2022-05-02T15:12:29.940570Z",
     "iopub.status.busy": "2022-05-02T15:12:29.939914Z",
     "iopub.status.idle": "2022-05-02T15:12:29.944692Z",
     "shell.execute_reply": "2022-05-02T15:12:29.945282Z",
     "shell.execute_reply.started": "2022-05-02T15:06:32.238106Z"
    },
    "papermill": {
     "duration": 0.037937,
     "end_time": "2022-05-02T15:12:29.945442",
     "exception": false,
     "start_time": "2022-05-02T15:12:29.907505",
     "status": "completed"
    },
    "tags": []
   },
   "outputs": [
    {
     "data": {
      "text/plain": [
       "Class\n",
       "Benign       4468\n",
       "Malicious    5557\n",
       "dtype: int64"
      ]
     },
     "execution_count": 12,
     "metadata": {},
     "output_type": "execute_result"
    }
   ],
   "source": [
    "data.groupby('Class').size()"
   ]
  },
  {
   "cell_type": "markdown",
   "id": "6a41d12c",
   "metadata": {
    "papermill": {
     "duration": 0.026807,
     "end_time": "2022-05-02T15:12:29.999442",
     "exception": false,
     "start_time": "2022-05-02T15:12:29.972635",
     "status": "completed"
    },
    "tags": []
   },
   "source": [
    "So as we can see comparing the suspicious column with the class column our results very accurate. As in a csv of 10,000 files on 26 of those files could be marked as false positives. Which is very accurate and could be very useful to Interstates when simply just trying to figure out the malicious possibility of a PDF file."
   ]
  },
  {
   "cell_type": "markdown",
   "id": "674ee10b",
   "metadata": {
    "papermill": {
     "duration": 0.026963,
     "end_time": "2022-05-02T15:12:30.053588",
     "exception": false,
     "start_time": "2022-05-02T15:12:30.026625",
     "status": "completed"
    },
    "tags": []
   },
   "source": [
    "Going forward this method won't guarantee that a PDF file is indeed safe to open, as there are no real guarantees as technology continues to advance. However we can use this method to atleast give us an idea for every PDF file that enters the organization to make sure if it is malicious or not before opening it. Since at the end of the day having some idea is better than having no idea at all."
   ]
  },
  {
   "cell_type": "code",
   "execution_count": 13,
   "id": "f07dee42",
   "metadata": {
    "execution": {
     "iopub.execute_input": "2022-05-02T15:12:30.113227Z",
     "iopub.status.busy": "2022-05-02T15:12:30.112566Z",
     "iopub.status.idle": "2022-05-02T15:12:30.116261Z",
     "shell.execute_reply": "2022-05-02T15:12:30.116788Z",
     "shell.execute_reply.started": "2022-05-02T15:07:30.4807Z"
    },
    "papermill": {
     "duration": 0.036004,
     "end_time": "2022-05-02T15:12:30.116953",
     "exception": false,
     "start_time": "2022-05-02T15:12:30.080949",
     "status": "completed"
    },
    "tags": []
   },
   "outputs": [
    {
     "name": "stdout",
     "output_type": "stream",
     "text": [
      "nan\n"
     ]
    }
   ],
   "source": [
    "x = data['pdfsize'].values\n",
    "y = data['ObjStm'].values\n",
    "\n",
    "mean_x = np.mean(x)\n",
    "mean_y = np.mean(y)\n",
    "\n",
    "print(mean_y)"
   ]
  }
 ],
 "metadata": {
  "kernelspec": {
   "display_name": "Python 3",
   "language": "python",
   "name": "python3"
  },
  "language_info": {
   "codemirror_mode": {
    "name": "ipython",
    "version": 3
   },
   "file_extension": ".py",
   "mimetype": "text/x-python",
   "name": "python",
   "nbconvert_exporter": "python",
   "pygments_lexer": "ipython3",
   "version": "3.7.12"
  },
  "papermill": {
   "default_parameters": {},
   "duration": 12.546844,
   "end_time": "2022-05-02T15:12:30.754996",
   "environment_variables": {},
   "exception": null,
   "input_path": "__notebook__.ipynb",
   "output_path": "__notebook__.ipynb",
   "parameters": {},
   "start_time": "2022-05-02T15:12:18.208152",
   "version": "2.3.3"
  }
 },
 "nbformat": 4,
 "nbformat_minor": 5
}
