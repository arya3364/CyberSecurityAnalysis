{
 "cells": [
  {
   "cell_type": "code",
   "execution_count": 1,
   "id": "80815ed3",
   "metadata": {
    "_cell_guid": "b1076dfc-b9ad-4769-8c92-a6c4dae69d19",
    "_uuid": "8f2839f25d086af736a60e9eeb907d3b93b6e0e5",
    "execution": {
     "iopub.execute_input": "2022-02-24T20:38:07.021432Z",
     "iopub.status.busy": "2022-02-24T20:38:07.019638Z",
     "iopub.status.idle": "2022-02-24T20:38:07.037203Z",
     "shell.execute_reply": "2022-02-24T20:38:07.037691Z",
     "shell.execute_reply.started": "2022-02-24T20:07:45.726834Z"
    },
    "papermill": {
     "duration": 0.032959,
     "end_time": "2022-02-24T20:38:07.038002",
     "exception": false,
     "start_time": "2022-02-24T20:38:07.005043",
     "status": "completed"
    },
    "tags": []
   },
   "outputs": [
    {
     "name": "stdout",
     "output_type": "stream",
     "text": [
      "/kaggle/input/pdf-malware-2022-dataset/PDFMalware2022.csv\n"
     ]
    }
   ],
   "source": [
    "# This Python 3 environment comes with many helpful analytics libraries installed\n",
    "# It is defined by the kaggle/python Docker image: https://github.com/kaggle/docker-python\n",
    "# For example, here's several helpful packages to load\n",
    "\n",
    "import numpy as np # linear algebra\n",
    "import pandas as pd # data processing, CSV file I/O (e.g. pd.read_csv)\n",
    "\n",
    "# Input data files are available in the read-only \"../input/\" directory\n",
    "# For example, running this (by clicking run or pressing Shift+Enter) will list all files under the input directory\n",
    "\n",
    "import os\n",
    "for dirname, _, filenames in os.walk('/kaggle/input'):\n",
    "    for filename in filenames:\n",
    "        print(os.path.join(dirname, filename))\n",
    "\n",
    "# You can write up to 20GB to the current directory (/kaggle/working/) that gets preserved as output when you create a version using \"Save & Run All\" \n",
    "# You can also write temporary files to /kaggle/temp/, but they won't be saved outside of the current session"
   ]
  },
  {
   "cell_type": "markdown",
   "id": "a78d2273",
   "metadata": {
    "papermill": {
     "duration": 0.008697,
     "end_time": "2022-02-24T20:38:07.056235",
     "exception": false,
     "start_time": "2022-02-24T20:38:07.047538",
     "status": "completed"
    },
    "tags": []
   },
   "source": [
    "Initially when looking at the data set the first thing that comes to mind is that files that are not marked as malicious tend to have no JS or JavaScript."
   ]
  },
  {
   "cell_type": "code",
   "execution_count": 2,
   "id": "c1fd1188",
   "metadata": {
    "execution": {
     "iopub.execute_input": "2022-02-24T20:38:07.078966Z",
     "iopub.status.busy": "2022-02-24T20:38:07.078318Z",
     "iopub.status.idle": "2022-02-24T20:38:07.164644Z",
     "shell.execute_reply": "2022-02-24T20:38:07.165225Z",
     "shell.execute_reply.started": "2022-02-24T20:07:45.754477Z"
    },
    "papermill": {
     "duration": 0.100254,
     "end_time": "2022-02-24T20:38:07.165414",
     "exception": false,
     "start_time": "2022-02-24T20:38:07.065160",
     "status": "completed"
    },
    "tags": []
   },
   "outputs": [],
   "source": [
    "data = pd.read_csv(\"../input/pdf-malware-2022-dataset/PDFMalware2022.csv\")"
   ]
  },
  {
   "cell_type": "code",
   "execution_count": 3,
   "id": "d4056f23",
   "metadata": {
    "execution": {
     "iopub.execute_input": "2022-02-24T20:38:07.191284Z",
     "iopub.status.busy": "2022-02-24T20:38:07.190657Z",
     "iopub.status.idle": "2022-02-24T20:38:07.222508Z",
     "shell.execute_reply": "2022-02-24T20:38:07.223017Z",
     "shell.execute_reply.started": "2022-02-24T20:07:45.82643Z"
    },
    "papermill": {
     "duration": 0.048885,
     "end_time": "2022-02-24T20:38:07.223213",
     "exception": false,
     "start_time": "2022-02-24T20:38:07.174328",
     "status": "completed"
    },
    "tags": []
   },
   "outputs": [
    {
     "data": {
      "text/html": [
       "<div>\n",
       "<style scoped>\n",
       "    .dataframe tbody tr th:only-of-type {\n",
       "        vertical-align: middle;\n",
       "    }\n",
       "\n",
       "    .dataframe tbody tr th {\n",
       "        vertical-align: top;\n",
       "    }\n",
       "\n",
       "    .dataframe thead th {\n",
       "        text-align: right;\n",
       "    }\n",
       "</style>\n",
       "<table border=\"1\" class=\"dataframe\">\n",
       "  <thead>\n",
       "    <tr style=\"text-align: right;\">\n",
       "      <th></th>\n",
       "      <th>Fine name</th>\n",
       "      <th>pdfsize</th>\n",
       "      <th>metadata size</th>\n",
       "      <th>pages</th>\n",
       "      <th>xref Length</th>\n",
       "      <th>title characters</th>\n",
       "      <th>isEncrypted</th>\n",
       "      <th>embedded files</th>\n",
       "      <th>images</th>\n",
       "      <th>text</th>\n",
       "      <th>...</th>\n",
       "      <th>AA</th>\n",
       "      <th>OpenAction</th>\n",
       "      <th>Acroform</th>\n",
       "      <th>JBIG2Decode</th>\n",
       "      <th>RichMedia</th>\n",
       "      <th>launch</th>\n",
       "      <th>EmbeddedFile</th>\n",
       "      <th>XFA</th>\n",
       "      <th>Colors</th>\n",
       "      <th>Class</th>\n",
       "    </tr>\n",
       "  </thead>\n",
       "  <tbody>\n",
       "    <tr>\n",
       "      <th>0</th>\n",
       "      <td>aedaf3c5428a2e3ba600c44b96ad78dfdf8ed76e7df129...</td>\n",
       "      <td>8.0</td>\n",
       "      <td>180.0</td>\n",
       "      <td>1.0</td>\n",
       "      <td>11.0</td>\n",
       "      <td>0.0</td>\n",
       "      <td>0.0</td>\n",
       "      <td>0.0</td>\n",
       "      <td>0</td>\n",
       "      <td>No</td>\n",
       "      <td>...</td>\n",
       "      <td>0</td>\n",
       "      <td>1</td>\n",
       "      <td>0</td>\n",
       "      <td>0</td>\n",
       "      <td>0</td>\n",
       "      <td>0</td>\n",
       "      <td>0</td>\n",
       "      <td>0</td>\n",
       "      <td>0.0</td>\n",
       "      <td>Malicious</td>\n",
       "    </tr>\n",
       "    <tr>\n",
       "      <th>1</th>\n",
       "      <td>fe767fb2584a10c010626263ea950643ac25f6ca24628f...</td>\n",
       "      <td>15.0</td>\n",
       "      <td>224.0</td>\n",
       "      <td>0.0</td>\n",
       "      <td>20.0</td>\n",
       "      <td>7.0</td>\n",
       "      <td>0.0</td>\n",
       "      <td>0.0</td>\n",
       "      <td>0</td>\n",
       "      <td>No</td>\n",
       "      <td>...</td>\n",
       "      <td>0</td>\n",
       "      <td>0</td>\n",
       "      <td>1</td>\n",
       "      <td>0</td>\n",
       "      <td>0</td>\n",
       "      <td>0</td>\n",
       "      <td>8</td>\n",
       "      <td>1</td>\n",
       "      <td>0.0</td>\n",
       "      <td>Malicious</td>\n",
       "    </tr>\n",
       "    <tr>\n",
       "      <th>2</th>\n",
       "      <td>544c5223ee301affad514b6fa585b3191625aba0a7222b...</td>\n",
       "      <td>4.0</td>\n",
       "      <td>468.0</td>\n",
       "      <td>2.0</td>\n",
       "      <td>13.0</td>\n",
       "      <td>16.0</td>\n",
       "      <td>0.0</td>\n",
       "      <td>0.0</td>\n",
       "      <td>0</td>\n",
       "      <td>Yes</td>\n",
       "      <td>...</td>\n",
       "      <td>0</td>\n",
       "      <td>1</td>\n",
       "      <td>0</td>\n",
       "      <td>0</td>\n",
       "      <td>0</td>\n",
       "      <td>0</td>\n",
       "      <td>0</td>\n",
       "      <td>0</td>\n",
       "      <td>0.0</td>\n",
       "      <td>Malicious</td>\n",
       "    </tr>\n",
       "    <tr>\n",
       "      <th>3</th>\n",
       "      <td>669772e626deccb9cfb7eb6a61e13d248d0ea08f1abe15...</td>\n",
       "      <td>17.0</td>\n",
       "      <td>250.0</td>\n",
       "      <td>1.0</td>\n",
       "      <td>15.0</td>\n",
       "      <td>0.0</td>\n",
       "      <td>0.0</td>\n",
       "      <td>0.0</td>\n",
       "      <td>0</td>\n",
       "      <td>No</td>\n",
       "      <td>...</td>\n",
       "      <td>0</td>\n",
       "      <td>1</td>\n",
       "      <td>1</td>\n",
       "      <td>0</td>\n",
       "      <td>0</td>\n",
       "      <td>0</td>\n",
       "      <td>0</td>\n",
       "      <td>0</td>\n",
       "      <td>0.0</td>\n",
       "      <td>Malicious</td>\n",
       "    </tr>\n",
       "    <tr>\n",
       "      <th>4</th>\n",
       "      <td>e434c884f45a691b0bf33d765f61794007eb0b8bb9f590...</td>\n",
       "      <td>7.0</td>\n",
       "      <td>252.0</td>\n",
       "      <td>3.0</td>\n",
       "      <td>16.0</td>\n",
       "      <td>45.0</td>\n",
       "      <td>0.0</td>\n",
       "      <td>0.0</td>\n",
       "      <td>0</td>\n",
       "      <td>Yes</td>\n",
       "      <td>...</td>\n",
       "      <td>0</td>\n",
       "      <td>1</td>\n",
       "      <td>0</td>\n",
       "      <td>0</td>\n",
       "      <td>0</td>\n",
       "      <td>0</td>\n",
       "      <td>0</td>\n",
       "      <td>0</td>\n",
       "      <td>0.0</td>\n",
       "      <td>Malicious</td>\n",
       "    </tr>\n",
       "  </tbody>\n",
       "</table>\n",
       "<p>5 rows × 33 columns</p>\n",
       "</div>"
      ],
      "text/plain": [
       "                                           Fine name  pdfsize  metadata size  \\\n",
       "0  aedaf3c5428a2e3ba600c44b96ad78dfdf8ed76e7df129...      8.0          180.0   \n",
       "1  fe767fb2584a10c010626263ea950643ac25f6ca24628f...     15.0          224.0   \n",
       "2  544c5223ee301affad514b6fa585b3191625aba0a7222b...      4.0          468.0   \n",
       "3  669772e626deccb9cfb7eb6a61e13d248d0ea08f1abe15...     17.0          250.0   \n",
       "4  e434c884f45a691b0bf33d765f61794007eb0b8bb9f590...      7.0          252.0   \n",
       "\n",
       "   pages  xref Length  title characters  isEncrypted  embedded files images  \\\n",
       "0    1.0         11.0               0.0          0.0             0.0      0   \n",
       "1    0.0         20.0               7.0          0.0             0.0      0   \n",
       "2    2.0         13.0              16.0          0.0             0.0      0   \n",
       "3    1.0         15.0               0.0          0.0             0.0      0   \n",
       "4    3.0         16.0              45.0          0.0             0.0      0   \n",
       "\n",
       "  text  ... AA OpenAction Acroform  JBIG2Decode RichMedia launch  \\\n",
       "0   No  ...  0          1        0            0         0      0   \n",
       "1   No  ...  0          0        1            0         0      0   \n",
       "2  Yes  ...  0          1        0            0         0      0   \n",
       "3   No  ...  0          1        1            0         0      0   \n",
       "4  Yes  ...  0          1        0            0         0      0   \n",
       "\n",
       "   EmbeddedFile XFA Colors      Class  \n",
       "0             0   0    0.0  Malicious  \n",
       "1             8   1    0.0  Malicious  \n",
       "2             0   0    0.0  Malicious  \n",
       "3             0   0    0.0  Malicious  \n",
       "4             0   0    0.0  Malicious  \n",
       "\n",
       "[5 rows x 33 columns]"
      ]
     },
     "execution_count": 3,
     "metadata": {},
     "output_type": "execute_result"
    }
   ],
   "source": [
    "data.head()"
   ]
  },
  {
   "cell_type": "code",
   "execution_count": 4,
   "id": "4c289a4f",
   "metadata": {
    "execution": {
     "iopub.execute_input": "2022-02-24T20:38:07.245324Z",
     "iopub.status.busy": "2022-02-24T20:38:07.244714Z",
     "iopub.status.idle": "2022-02-24T20:38:07.258118Z",
     "shell.execute_reply": "2022-02-24T20:38:07.257592Z",
     "shell.execute_reply.started": "2022-02-24T20:07:45.861934Z"
    },
    "papermill": {
     "duration": 0.025516,
     "end_time": "2022-02-24T20:38:07.258261",
     "exception": false,
     "start_time": "2022-02-24T20:38:07.232745",
     "status": "completed"
    },
    "tags": []
   },
   "outputs": [
    {
     "data": {
      "text/plain": [
       "Class\n",
       "Benign       4468\n",
       "Malicious    5557\n",
       "dtype: int64"
      ]
     },
     "execution_count": 4,
     "metadata": {},
     "output_type": "execute_result"
    }
   ],
   "source": [
    "# We use this command just to see how many files are either malicious/not malicious (benign).\n",
    "data.groupby('Class').size()"
   ]
  },
  {
   "cell_type": "code",
   "execution_count": 5,
   "id": "24851ad6",
   "metadata": {
    "execution": {
     "iopub.execute_input": "2022-02-24T20:38:07.285643Z",
     "iopub.status.busy": "2022-02-24T20:38:07.285002Z",
     "iopub.status.idle": "2022-02-24T20:38:07.493976Z",
     "shell.execute_reply": "2022-02-24T20:38:07.494560Z",
     "shell.execute_reply.started": "2022-02-24T20:36:40.210884Z"
    },
    "papermill": {
     "duration": 0.226617,
     "end_time": "2022-02-24T20:38:07.494795",
     "exception": false,
     "start_time": "2022-02-24T20:38:07.268178",
     "status": "completed"
    },
    "tags": []
   },
   "outputs": [
    {
     "data": {
      "text/plain": [
       "<AxesSubplot:ylabel='Class'>"
      ]
     },
     "execution_count": 5,
     "metadata": {},
     "output_type": "execute_result"
    },
    {
     "data": {
      "image/png": "[encoded data removed]",
      "text/plain": [
       "<Figure size 432x288 with 1 Axes>"
      ]
     },
     "metadata": {
      "needs_background": "light"
     },
     "output_type": "display_data"
    }
   ],
   "source": [
    "data.groupby('Class').pdfsize.mean().plot.barh()"
   ]
  },
  {
   "cell_type": "code",
   "execution_count": 6,
   "id": "fcec1755",
   "metadata": {
    "execution": {
     "iopub.execute_input": "2022-02-24T20:38:07.533764Z",
     "iopub.status.busy": "2022-02-24T20:38:07.532950Z",
     "iopub.status.idle": "2022-02-24T20:38:07.809238Z",
     "shell.execute_reply": "2022-02-24T20:38:07.809697Z",
     "shell.execute_reply.started": "2022-02-24T20:37:07.024822Z"
    },
    "papermill": {
     "duration": 0.301533,
     "end_time": "2022-02-24T20:38:07.809869",
     "exception": false,
     "start_time": "2022-02-24T20:38:07.508336",
     "status": "completed"
    },
    "tags": []
   },
   "outputs": [
    {
     "data": {
      "text/plain": [
       "<AxesSubplot:ylabel='Class'>"
      ]
     },
     "execution_count": 6,
     "metadata": {},
     "output_type": "execute_result"
    },
    {
     "data": {
      "image/png": "[encoded data removed]",
      "text/plain": [
       "<Figure size 432x288 with 1 Axes>"
      ]
     },
     "metadata": {
      "needs_background": "light"
     },
     "output_type": "display_data"
    }
   ],
   "source": [
    "data.groupby('Class').pdfsize.median().plot.barh()"
   ]
  },
  {
   "cell_type": "markdown",
   "id": "d6916196",
   "metadata": {
    "papermill": {
     "duration": 0.012011,
     "end_time": "2022-02-24T20:38:07.834102",
     "exception": false,
     "start_time": "2022-02-24T20:38:07.822091",
     "status": "completed"
    },
    "tags": []
   },
   "source": []
  }
 ],
 "metadata": {
  "kernelspec": {
   "display_name": "Python 3",
   "language": "python",
   "name": "python3"
  },
  "language_info": {
   "codemirror_mode": {
    "name": "ipython",
    "version": 3
   },
   "file_extension": ".py",
   "mimetype": "text/x-python",
   "name": "python",
   "nbconvert_exporter": "python",
   "pygments_lexer": "ipython3",
   "version": "3.7.12"
  },
  "papermill": {
   "default_parameters": {},
   "duration": 13.486122,
   "end_time": "2022-02-24T20:38:11.288173",
   "environment_variables": {},
   "exception": null,
   "input_path": "__notebook__.ipynb",
   "output_path": "__notebook__.ipynb",
   "parameters": {},
   "start_time": "2022-02-24T20:37:57.802051",
   "version": "2.3.3"
  }
 },
 "nbformat": 4,
 "nbformat_minor": 5
}
