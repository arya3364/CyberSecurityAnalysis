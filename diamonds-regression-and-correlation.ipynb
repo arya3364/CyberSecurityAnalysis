{
 "cells": [
  {
   "cell_type": "code",
   "execution_count": 1,
   "id": "f6e37e18",
   "metadata": {
    "_cell_guid": "b1076dfc-b9ad-4769-8c92-a6c4dae69d19",
    "_uuid": "8f2839f25d086af736a60e9eeb907d3b93b6e0e5",
    "execution": {
     "iopub.execute_input": "2022-05-05T00:43:22.719543Z",
     "iopub.status.busy": "2022-05-05T00:43:22.719189Z",
     "iopub.status.idle": "2022-05-05T00:43:23.735245Z",
     "shell.execute_reply": "2022-05-05T00:43:23.734063Z"
    },
    "papermill": {
     "duration": 1.059508,
     "end_time": "2022-05-05T00:43:23.738493",
     "exception": false,
     "start_time": "2022-05-05T00:43:22.678985",
     "status": "completed"
    },
    "tags": []
   },
   "outputs": [
    {
     "name": "stdout",
     "output_type": "stream",
     "text": [
      "/kaggle/input/diamonds/diamonds.csv\n"
     ]
    }
   ],
   "source": [
    "# This Python 3 environment comes with many helpful analytics libraries installed\n",
    "# It is defined by the kaggle/python Docker image: https://github.com/kaggle/docker-python\n",
    "# For example, here's several helpful packages to load\n",
    "\n",
    "import numpy as np # linear algebra\n",
    "import pandas as pd # data processing, CSV file I/O (e.g. pd.read_csv)\n",
    "from scipy.stats import spearmanr\n",
    "from scipy.stats import pearsonr\n",
    "\n",
    "# Input data files are available in the read-only \"../input/\" directory\n",
    "# For example, running this (by clicking run or pressing Shift+Enter) will list all files under the input directory\n",
    "\n",
    "import os\n",
    "for dirname, _, filenames in os.walk('/kaggle/input'):\n",
    "    for filename in filenames:\n",
    "        print(os.path.join(dirname, filename))\n",
    "\n",
    "# You can write up to 20GB to the current directory (/kaggle/working/) that gets preserved as output when you create a version using \"Save & Run All\" \n",
    "# You can also write temporary files to /kaggle/temp/, but they won't be saved outside of the current session"
   ]
  },
  {
   "cell_type": "markdown",
   "id": "91ab9797",
   "metadata": {
    "papermill": {
     "duration": 0.042053,
     "end_time": "2022-05-05T00:43:23.822597",
     "exception": false,
     "start_time": "2022-05-05T00:43:23.780544",
     "status": "completed"
    },
    "tags": []
   },
   "source": [
    "The goal of this Python script is to find out if there is a relationship between the two variables the carat of a diamond and the price of a diamond, and to see what type of relationship exists between the two variables."
   ]
  },
  {
   "cell_type": "markdown",
   "id": "686d6a6c",
   "metadata": {
    "papermill": {
     "duration": 0.037941,
     "end_time": "2022-05-05T00:43:23.899477",
     "exception": false,
     "start_time": "2022-05-05T00:43:23.861536",
     "status": "completed"
    },
    "tags": []
   },
   "source": [
    "Hypothesis for carat vs price:\n",
    "\n",
    "I believe that there will be a positive relationship between the carat of a diamond and the price of a diamond, since in general we normally see the more carats a diamond has the higher of a price value the diamond tends to have as well."
   ]
  },
  {
   "cell_type": "markdown",
   "id": "6a56e2bd",
   "metadata": {
    "papermill": {
     "duration": 0.041184,
     "end_time": "2022-05-05T00:43:23.984104",
     "exception": false,
     "start_time": "2022-05-05T00:43:23.942920",
     "status": "completed"
    },
    "tags": []
   },
   "source": [
    "To start I will perform a linear regression on the two variables carat of a diamond and price of a diamond. The goal of a regression is to investigate/predict if there is a relationship between the independent and dependent variable. A linear regression specifically is when data is modelled in a straight line in order to predict the value of a variable."
   ]
  },
  {
   "cell_type": "code",
   "execution_count": 2,
   "id": "63980aef",
   "metadata": {
    "execution": {
     "iopub.execute_input": "2022-05-05T00:43:24.061223Z",
     "iopub.status.busy": "2022-05-05T00:43:24.060736Z",
     "iopub.status.idle": "2022-05-05T00:43:24.191972Z",
     "shell.execute_reply": "2022-05-05T00:43:24.190896Z"
    },
    "papermill": {
     "duration": 0.172326,
     "end_time": "2022-05-05T00:43:24.194071",
     "exception": false,
     "start_time": "2022-05-05T00:43:24.021745",
     "status": "completed"
    },
    "tags": []
   },
   "outputs": [
    {
     "data": {
      "text/html": [
       "<div>\n",
       "<style scoped>\n",
       "    .dataframe tbody tr th:only-of-type {\n",
       "        vertical-align: middle;\n",
       "    }\n",
       "\n",
       "    .dataframe tbody tr th {\n",
       "        vertical-align: top;\n",
       "    }\n",
       "\n",
       "    .dataframe thead th {\n",
       "        text-align: right;\n",
       "    }\n",
       "</style>\n",
       "<table border=\"1\" class=\"dataframe\">\n",
       "  <thead>\n",
       "    <tr style=\"text-align: right;\">\n",
       "      <th></th>\n",
       "      <th>Unnamed: 0</th>\n",
       "      <th>carat</th>\n",
       "      <th>cut</th>\n",
       "      <th>color</th>\n",
       "      <th>clarity</th>\n",
       "      <th>depth</th>\n",
       "      <th>table</th>\n",
       "      <th>price</th>\n",
       "      <th>x</th>\n",
       "      <th>y</th>\n",
       "      <th>z</th>\n",
       "    </tr>\n",
       "  </thead>\n",
       "  <tbody>\n",
       "    <tr>\n",
       "      <th>0</th>\n",
       "      <td>1</td>\n",
       "      <td>0.23</td>\n",
       "      <td>Ideal</td>\n",
       "      <td>E</td>\n",
       "      <td>SI2</td>\n",
       "      <td>61.5</td>\n",
       "      <td>55.0</td>\n",
       "      <td>326</td>\n",
       "      <td>3.95</td>\n",
       "      <td>3.98</td>\n",
       "      <td>2.43</td>\n",
       "    </tr>\n",
       "    <tr>\n",
       "      <th>1</th>\n",
       "      <td>2</td>\n",
       "      <td>0.21</td>\n",
       "      <td>Premium</td>\n",
       "      <td>E</td>\n",
       "      <td>SI1</td>\n",
       "      <td>59.8</td>\n",
       "      <td>61.0</td>\n",
       "      <td>326</td>\n",
       "      <td>3.89</td>\n",
       "      <td>3.84</td>\n",
       "      <td>2.31</td>\n",
       "    </tr>\n",
       "    <tr>\n",
       "      <th>2</th>\n",
       "      <td>3</td>\n",
       "      <td>0.23</td>\n",
       "      <td>Good</td>\n",
       "      <td>E</td>\n",
       "      <td>VS1</td>\n",
       "      <td>56.9</td>\n",
       "      <td>65.0</td>\n",
       "      <td>327</td>\n",
       "      <td>4.05</td>\n",
       "      <td>4.07</td>\n",
       "      <td>2.31</td>\n",
       "    </tr>\n",
       "    <tr>\n",
       "      <th>3</th>\n",
       "      <td>4</td>\n",
       "      <td>0.29</td>\n",
       "      <td>Premium</td>\n",
       "      <td>I</td>\n",
       "      <td>VS2</td>\n",
       "      <td>62.4</td>\n",
       "      <td>58.0</td>\n",
       "      <td>334</td>\n",
       "      <td>4.20</td>\n",
       "      <td>4.23</td>\n",
       "      <td>2.63</td>\n",
       "    </tr>\n",
       "    <tr>\n",
       "      <th>4</th>\n",
       "      <td>5</td>\n",
       "      <td>0.31</td>\n",
       "      <td>Good</td>\n",
       "      <td>J</td>\n",
       "      <td>SI2</td>\n",
       "      <td>63.3</td>\n",
       "      <td>58.0</td>\n",
       "      <td>335</td>\n",
       "      <td>4.34</td>\n",
       "      <td>4.35</td>\n",
       "      <td>2.75</td>\n",
       "    </tr>\n",
       "  </tbody>\n",
       "</table>\n",
       "</div>"
      ],
      "text/plain": [
       "   Unnamed: 0  carat      cut color clarity  depth  table  price     x     y  \\\n",
       "0           1   0.23    Ideal     E     SI2   61.5   55.0    326  3.95  3.98   \n",
       "1           2   0.21  Premium     E     SI1   59.8   61.0    326  3.89  3.84   \n",
       "2           3   0.23     Good     E     VS1   56.9   65.0    327  4.05  4.07   \n",
       "3           4   0.29  Premium     I     VS2   62.4   58.0    334  4.20  4.23   \n",
       "4           5   0.31     Good     J     SI2   63.3   58.0    335  4.34  4.35   \n",
       "\n",
       "      z  \n",
       "0  2.43  \n",
       "1  2.31  \n",
       "2  2.31  \n",
       "3  2.63  \n",
       "4  2.75  "
      ]
     },
     "execution_count": 2,
     "metadata": {},
     "output_type": "execute_result"
    }
   ],
   "source": [
    "data = pd.read_csv(\"../input/diamonds/diamonds.csv\")\n",
    "data.head()"
   ]
  },
  {
   "cell_type": "markdown",
   "id": "8dd2f12c",
   "metadata": {
    "papermill": {
     "duration": 0.044417,
     "end_time": "2022-05-05T00:43:24.282145",
     "exception": false,
     "start_time": "2022-05-05T00:43:24.237728",
     "status": "completed"
    },
    "tags": []
   },
   "source": [
    "To start we attribute arrays x and y to the columns we plan to analyze within this data set. We then check each column to confirm there are no values of 'nan' within the data set using two for loops. Finally we recieve our length of the data set which is 53,940 different values which meets the requirement of 10,000 values."
   ]
  },
  {
   "cell_type": "code",
   "execution_count": 3,
   "id": "7f0710cc",
   "metadata": {
    "execution": {
     "iopub.execute_input": "2022-05-05T00:43:24.366198Z",
     "iopub.status.busy": "2022-05-05T00:43:24.365794Z",
     "iopub.status.idle": "2022-05-05T00:43:24.494156Z",
     "shell.execute_reply": "2022-05-05T00:43:24.492878Z"
    },
    "papermill": {
     "duration": 0.172557,
     "end_time": "2022-05-05T00:43:24.496355",
     "exception": false,
     "start_time": "2022-05-05T00:43:24.323798",
     "status": "completed"
    },
    "tags": []
   },
   "outputs": [
    {
     "name": "stdout",
     "output_type": "stream",
     "text": [
      "The length of this dataset is: 53940\n"
     ]
    }
   ],
   "source": [
    "x = data['carat'].values\n",
    "y = data['price'].values\n",
    "\n",
    "new_x = []\n",
    "new_y = []\n",
    "\n",
    "for item in x:\n",
    "    if str(item) != 'nan':\n",
    "        new_x.append(item)\n",
    "\n",
    "for item in y:\n",
    "    if str(item) != 'nan':\n",
    "        new_y.append(item)\n",
    "        \n",
    "print('The length of this dataset is:', len(new_x))"
   ]
  },
  {
   "cell_type": "markdown",
   "id": "e5d9020f",
   "metadata": {
    "papermill": {
     "duration": 0.026068,
     "end_time": "2022-05-05T00:43:24.549521",
     "exception": false,
     "start_time": "2022-05-05T00:43:24.523453",
     "status": "completed"
    },
    "tags": []
   },
   "source": [
    "Now in order to find r squared for our linear regression model, we must first start by finding out the equation for ypred. We will do this by first finding our new slope (b1), then finding our new intercept (b0)."
   ]
  },
  {
   "cell_type": "code",
   "execution_count": 4,
   "id": "29b11e6c",
   "metadata": {
    "execution": {
     "iopub.execute_input": "2022-05-05T00:43:24.604068Z",
     "iopub.status.busy": "2022-05-05T00:43:24.603114Z",
     "iopub.status.idle": "2022-05-05T00:43:24.846327Z",
     "shell.execute_reply": "2022-05-05T00:43:24.845395Z"
    },
    "papermill": {
     "duration": 0.272911,
     "end_time": "2022-05-05T00:43:24.848455",
     "exception": false,
     "start_time": "2022-05-05T00:43:24.575544",
     "status": "completed"
    },
    "tags": []
   },
   "outputs": [
    {
     "name": "stdout",
     "output_type": "stream",
     "text": [
      "ypred new slope: 7756.425617967361\n",
      "ypred new intercept: -2256.360580044546\n"
     ]
    }
   ],
   "source": [
    "mean_x = np.mean(new_x)\n",
    "mean_y = np.mean(new_y)\n",
    "\n",
    "num = 0\n",
    "den = 0\n",
    "\n",
    "m = len(new_x)\n",
    "\n",
    "# Used to find variables for the new m for the ypred equation\n",
    "for i in range(m):\n",
    "    num += (new_x[i] - mean_x) * (new_y[i] - mean_y)\n",
    "    den += (new_x[i] - mean_x) ** 2\n",
    "    \n",
    "b1 = num / den # solves for m in the ypred equation\n",
    "b0 = mean_y - (b1 * mean_x) # solves for intercept in the ypred equation\n",
    "\n",
    "print('ypred new slope:',b1)\n",
    "print('ypred new intercept:',b0)"
   ]
  },
  {
   "cell_type": "markdown",
   "id": "6828e5b4",
   "metadata": {
    "papermill": {
     "duration": 0.026231,
     "end_time": "2022-05-05T00:43:24.902319",
     "exception": false,
     "start_time": "2022-05-05T00:43:24.876088",
     "status": "completed"
    },
    "tags": []
   },
   "source": [
    "The intercept in this model is negative but that is because it is the value expected when all independent variables are set to 0. It is a predicted value which is why it is able to be negative, however, if our x (carat) never equals 0 in the data set then this really has no essential meaning.\n",
    "\n",
    "The slope for this model means for each carat we are esentially expecting an increase of $7756.43 in the price."
   ]
  },
  {
   "cell_type": "markdown",
   "id": "92a030d5",
   "metadata": {
    "papermill": {
     "duration": 0.027879,
     "end_time": "2022-05-05T00:43:24.957707",
     "exception": false,
     "start_time": "2022-05-05T00:43:24.929828",
     "status": "completed"
    },
    "tags": []
   },
   "source": [
    "This calculations we use to find r-squared. When find r-squared it is important that we also find the total sum of squares and the total sum of squares of residuals in order to make sure we have all the components necessary to perform the r-squared equation."
   ]
  },
  {
   "cell_type": "code",
   "execution_count": 5,
   "id": "8f7548ed",
   "metadata": {
    "execution": {
     "iopub.execute_input": "2022-05-05T00:43:25.016032Z",
     "iopub.status.busy": "2022-05-05T00:43:25.015545Z",
     "iopub.status.idle": "2022-05-05T00:43:25.399789Z",
     "shell.execute_reply": "2022-05-05T00:43:25.398821Z"
    },
    "papermill": {
     "duration": 0.416103,
     "end_time": "2022-05-05T00:43:25.401874",
     "exception": false,
     "start_time": "2022-05-05T00:43:24.985771",
     "status": "completed"
    },
    "tags": []
   },
   "outputs": [
    {
     "name": "stdout",
     "output_type": "stream",
     "text": [
      "r-squared value:  0.8493305264354793\n"
     ]
    }
   ],
   "source": [
    "TSS = 0 #Total sum of squares\n",
    "RSS = 0 #Total sum of square of residuals\n",
    "\n",
    "for i in range(m):\n",
    "    ypred = (b1 * new_x[i]) + b0 #y = mx + b which we will do for each value of i\n",
    "    TSS += (new_y[i] - mean_y) ** 2\n",
    "    RSS += (new_y[i] - ypred) ** 2\n",
    "\n",
    "r2 = 1 - (RSS / TSS) #Formula for r-squared\n",
    "\n",
    "print('r-squared value: ', r2)"
   ]
  },
  {
   "cell_type": "markdown",
   "id": "69eb0cad",
   "metadata": {
    "papermill": {
     "duration": 0.040799,
     "end_time": "2022-05-05T00:43:25.486161",
     "exception": false,
     "start_time": "2022-05-05T00:43:25.445362",
     "status": "completed"
    },
    "tags": []
   },
   "source": [
    "Results of the Linear Regression for Carat vs Price:\n",
    "\n",
    "What an r-squared value of .849 means is that 84.9% of the variation in the output variable can be explained by the input variable. In other words,the there is a strong positive relationship between the carat of a diamond and the price of a diamond, which can be attributed due to having an r-squared value of .849. This also means that our original hypothesis was indeed correct that there is a relationship between the carat of a diamond and the price of a diamond. This makes sense because as I may have mentioned earlier, the carat of a diamond does generally tend to be more expensive the higher the value of the carat is."
   ]
  },
  {
   "cell_type": "markdown",
   "id": "2708dbe0",
   "metadata": {
    "papermill": {
     "duration": 0.040035,
     "end_time": "2022-05-05T00:43:25.566336",
     "exception": false,
     "start_time": "2022-05-05T00:43:25.526301",
     "status": "completed"
    },
    "tags": []
   },
   "source": [
    "Next up I would like to perform a correlation on both the variables price of a diamond and the carat of a diamond. A correlation is the measure of how closely related two variables are to each other. Specifically we are going to be looking at both Person's and Spearman's correlation. Pearson's correlation is the strength of the linear relationship between two variables, so somewhat similar to regression. Spearman's correlation measures the strength and direction of monotonic (less-restrictive) association between two variables."
   ]
  },
  {
   "cell_type": "code",
   "execution_count": 6,
   "id": "9b725634",
   "metadata": {
    "execution": {
     "iopub.execute_input": "2022-05-05T00:43:25.649206Z",
     "iopub.status.busy": "2022-05-05T00:43:25.648822Z",
     "iopub.status.idle": "2022-05-05T00:43:25.684943Z",
     "shell.execute_reply": "2022-05-05T00:43:25.684275Z"
    },
    "papermill": {
     "duration": 0.08013,
     "end_time": "2022-05-05T00:43:25.686970",
     "exception": false,
     "start_time": "2022-05-05T00:43:25.606840",
     "status": "completed"
    },
    "tags": []
   },
   "outputs": [
    {
     "name": "stdout",
     "output_type": "stream",
     "text": [
      "Pearsons Correlation:   0.9215913011934773\n",
      "Spearmans Correlation:  0.9215913011934773\n"
     ]
    }
   ],
   "source": [
    "corr, _ = spearmanr(new_x, new_y)\n",
    "corr, _ = pearsonr(new_x, new_y)\n",
    "\n",
    "print('Pearsons Correlation:  ', corr)\n",
    "print('Spearmans Correlation: ', corr)"
   ]
  },
  {
   "cell_type": "markdown",
   "id": "42019d86",
   "metadata": {
    "papermill": {
     "duration": 0.050843,
     "end_time": "2022-05-05T00:43:25.788311",
     "exception": false,
     "start_time": "2022-05-05T00:43:25.737468",
     "status": "completed"
    },
    "tags": []
   },
   "source": [
    "Results of the Correlation Testing for Carat vs Price:\n",
    "\n",
    "As we see from the results for both methods we get a correlation of .922. This is a very strong correlation, thus indicating that there is a strong positive relationship between the two variables carat of a diamond and the price of a diamond. Which means that as the carat of a diamond increases the price of the diamond increases as well. This result gives us more confirmation with the results of our previous linear regression test."
   ]
  },
  {
   "cell_type": "markdown",
   "id": "3eb6ffee",
   "metadata": {
    "papermill": {
     "duration": 0.042523,
     "end_time": "2022-05-05T00:43:25.874919",
     "exception": false,
     "start_time": "2022-05-05T00:43:25.832396",
     "status": "completed"
    },
    "tags": []
   },
   "source": [
    "Hypothesis for Carat vs Length, Width, and Depth: \n",
    "\n",
    "I believe that there will be a positive relationship between the carat of a diamond and the length of a diamond, since diamonds of high carat tend to have more value so I'm thinking they may bigger in size as well. Which is why I am keeping this hypothesis for length, width, and depth as well."
   ]
  },
  {
   "cell_type": "code",
   "execution_count": 7,
   "id": "a0ba1ce0",
   "metadata": {
    "execution": {
     "iopub.execute_input": "2022-05-05T00:43:25.945634Z",
     "iopub.status.busy": "2022-05-05T00:43:25.945401Z",
     "iopub.status.idle": "2022-05-05T00:43:26.018456Z",
     "shell.execute_reply": "2022-05-05T00:43:26.017072Z"
    },
    "papermill": {
     "duration": 0.10321,
     "end_time": "2022-05-05T00:43:26.021088",
     "exception": false,
     "start_time": "2022-05-05T00:43:25.917878",
     "status": "completed"
    },
    "tags": []
   },
   "outputs": [
    {
     "name": "stdout",
     "output_type": "stream",
     "text": [
      "The length of this dataset is: 53940\n"
     ]
    }
   ],
   "source": [
    "x = data['carat'].values\n",
    "y = data['x'].values\n",
    "\n",
    "new_x = []\n",
    "new_y = []\n",
    "\n",
    "for item in x:\n",
    "    if str(item) != 'nan':\n",
    "        new_x.append(item)\n",
    "\n",
    "for item in y:\n",
    "    if str(item) != 'nan':\n",
    "        new_y.append(item)\n",
    "        \n",
    "print('The length of this dataset is:', len(new_x))"
   ]
  },
  {
   "cell_type": "code",
   "execution_count": 8,
   "id": "9b9331db",
   "metadata": {
    "execution": {
     "iopub.execute_input": "2022-05-05T00:43:26.111333Z",
     "iopub.status.busy": "2022-05-05T00:43:26.111054Z",
     "iopub.status.idle": "2022-05-05T00:43:26.180401Z",
     "shell.execute_reply": "2022-05-05T00:43:26.179076Z"
    },
    "papermill": {
     "duration": 0.117476,
     "end_time": "2022-05-05T00:43:26.182628",
     "exception": false,
     "start_time": "2022-05-05T00:43:26.065152",
     "status": "completed"
    },
    "tags": []
   },
   "outputs": [
    {
     "name": "stdout",
     "output_type": "stream",
     "text": [
      "ypred new slope: 2.307587511637267\n",
      "ypred new intercept: 3.8898414144975324\n"
     ]
    }
   ],
   "source": [
    "mean_x = np.mean(new_x)\n",
    "mean_y = np.mean(new_y)\n",
    "\n",
    "num = 0\n",
    "den = 0\n",
    "\n",
    "m = len(new_x)\n",
    "\n",
    "# Used to find variables for the new m for the ypred equation\n",
    "for i in range(m):\n",
    "    num += (new_x[i] - mean_x) * (new_y[i] - mean_y)\n",
    "    den += (new_x[i] - mean_x) ** 2\n",
    "    \n",
    "b1 = num / den # solves for m in the ypred equation\n",
    "b0 = mean_y - (b1 * mean_x) # solves for intercept in the ypred equation\n",
    "\n",
    "print('ypred new slope:',b1)\n",
    "print('ypred new intercept:',b0)"
   ]
  },
  {
   "cell_type": "markdown",
   "id": "13a74052",
   "metadata": {
    "papermill": {
     "duration": 0.027648,
     "end_time": "2022-05-05T00:43:26.239467",
     "exception": false,
     "start_time": "2022-05-05T00:43:26.211819",
     "status": "completed"
    },
    "tags": []
   },
   "source": [
    "The intercept in this model means the predicted value of y when the carat is 0 would be 3.88mm in length. However, once again the data set has no carat of 0 in it so this would have no essential meaning it is simply a predicted value.\n",
    "\n",
    "The slope for this model means for each carat we are esentially expecting an increase of 2.3mm for the length."
   ]
  },
  {
   "cell_type": "code",
   "execution_count": 9,
   "id": "e9f9243a",
   "metadata": {
    "execution": {
     "iopub.execute_input": "2022-05-05T00:43:26.301116Z",
     "iopub.status.busy": "2022-05-05T00:43:26.300401Z",
     "iopub.status.idle": "2022-05-05T00:43:26.454194Z",
     "shell.execute_reply": "2022-05-05T00:43:26.452486Z"
    },
    "papermill": {
     "duration": 0.187273,
     "end_time": "2022-05-05T00:43:26.456314",
     "exception": false,
     "start_time": "2022-05-05T00:43:26.269041",
     "status": "completed"
    },
    "tags": []
   },
   "outputs": [
    {
     "name": "stdout",
     "output_type": "stream",
     "text": [
      "r-squared value:  0.9508087509951948\n"
     ]
    }
   ],
   "source": [
    "TSS = 0 #Total sum of squares\n",
    "RSS = 0 #Total sum of square of residuals\n",
    "\n",
    "for i in range(m):\n",
    "    ypred = (b1 * new_x[i]) + b0 #y = mx + b which we will do for each value of i\n",
    "    TSS += (new_y[i] - mean_y) ** 2\n",
    "    RSS += (new_y[i] - ypred) ** 2\n",
    "\n",
    "r2 = 1 - (RSS / TSS) #Formula for r-squared\n",
    "\n",
    "print('r-squared value: ', r2)"
   ]
  },
  {
   "cell_type": "markdown",
   "id": "9ad135fb",
   "metadata": {
    "papermill": {
     "duration": 0.028233,
     "end_time": "2022-05-05T00:43:26.512709",
     "exception": false,
     "start_time": "2022-05-05T00:43:26.484476",
     "status": "completed"
    },
    "tags": []
   },
   "source": [
    "Results of the Linear Regression for Carat vs Length:\n",
    "\n",
    "What an r-squared value of .951 means is that 95.1% of the variation in the output variable can be explained by the input variable. In other words,the there is a strong positive relationship between the carat of a diamond and the length of a diamond. This makes sense because as I may have mentioned earlier, the carat of a diamond does generally tend to be more expensive the higher the value of the carat is, so it makes sense that the bigger diamond would have a higher carat value."
   ]
  },
  {
   "cell_type": "code",
   "execution_count": 10,
   "id": "97631558",
   "metadata": {
    "execution": {
     "iopub.execute_input": "2022-05-05T00:43:26.573465Z",
     "iopub.status.busy": "2022-05-05T00:43:26.572745Z",
     "iopub.status.idle": "2022-05-05T00:43:26.635179Z",
     "shell.execute_reply": "2022-05-05T00:43:26.633740Z"
    },
    "papermill": {
     "duration": 0.095732,
     "end_time": "2022-05-05T00:43:26.637226",
     "exception": false,
     "start_time": "2022-05-05T00:43:26.541494",
     "status": "completed"
    },
    "tags": []
   },
   "outputs": [
    {
     "name": "stdout",
     "output_type": "stream",
     "text": [
      "The length of this dataset is: 53940\n"
     ]
    }
   ],
   "source": [
    "x = data['carat'].values\n",
    "y = data['y'].values\n",
    "\n",
    "new_x = []\n",
    "new_y = []\n",
    "\n",
    "for item in x:\n",
    "    if str(item) != 'nan':\n",
    "        new_x.append(item)\n",
    "\n",
    "for item in y:\n",
    "    if str(item) != 'nan':\n",
    "        new_y.append(item)\n",
    "        \n",
    "print('The length of this dataset is:', len(new_x))"
   ]
  },
  {
   "cell_type": "code",
   "execution_count": 11,
   "id": "a0564990",
   "metadata": {
    "execution": {
     "iopub.execute_input": "2022-05-05T00:43:26.695730Z",
     "iopub.status.busy": "2022-05-05T00:43:26.695408Z",
     "iopub.status.idle": "2022-05-05T00:43:26.836044Z",
     "shell.execute_reply": "2022-05-05T00:43:26.834327Z"
    },
    "papermill": {
     "duration": 0.172354,
     "end_time": "2022-05-05T00:43:26.838837",
     "exception": false,
     "start_time": "2022-05-05T00:43:26.666483",
     "status": "completed"
    },
    "tags": []
   },
   "outputs": [
    {
     "name": "stdout",
     "output_type": "stream",
     "text": [
      "ypred new slope: 2.293183835732053\n",
      "ypred new intercept: 3.904703423065543\n"
     ]
    }
   ],
   "source": [
    "mean_x = np.mean(new_x)\n",
    "mean_y = np.mean(new_y)\n",
    "\n",
    "num = 0\n",
    "den = 0\n",
    "\n",
    "m = len(new_x)\n",
    "\n",
    "# Used to find variables for the new m for the ypred equation\n",
    "for i in range(m):\n",
    "    num += (new_x[i] - mean_x) * (new_y[i] - mean_y)\n",
    "    den += (new_x[i] - mean_x) ** 2\n",
    "    \n",
    "b1 = num / den # solves for m in the ypred equation\n",
    "b0 = mean_y - (b1 * mean_x) # solves for intercept in the ypred equation\n",
    "\n",
    "print('ypred new slope:',b1)\n",
    "print('ypred new intercept:',b0)"
   ]
  },
  {
   "cell_type": "markdown",
   "id": "d5bbbccc",
   "metadata": {
    "papermill": {
     "duration": 0.030076,
     "end_time": "2022-05-05T00:43:26.898128",
     "exception": false,
     "start_time": "2022-05-05T00:43:26.868052",
     "status": "completed"
    },
    "tags": []
   },
   "source": [
    "The intercept in this model means the predicted value of y when the carat is 0 would be 3.9 mm in width. However, once again the data set has no carat of 0 in it so this would have no essential meaning it is simply a predicted value.\n",
    "\n",
    "The slope for this model means for each carat we are esentially expecting an increase of 2.3mm for the width."
   ]
  },
  {
   "cell_type": "code",
   "execution_count": 12,
   "id": "5e405e0e",
   "metadata": {
    "execution": {
     "iopub.execute_input": "2022-05-05T00:43:26.957271Z",
     "iopub.status.busy": "2022-05-05T00:43:26.956806Z",
     "iopub.status.idle": "2022-05-05T00:43:27.030355Z",
     "shell.execute_reply": "2022-05-05T00:43:27.029367Z"
    },
    "papermill": {
     "duration": 0.105694,
     "end_time": "2022-05-05T00:43:27.033052",
     "exception": false,
     "start_time": "2022-05-05T00:43:26.927358",
     "status": "completed"
    },
    "tags": []
   },
   "outputs": [
    {
     "name": "stdout",
     "output_type": "stream",
     "text": [
      "r-squared value:  0.905775144094108\n"
     ]
    }
   ],
   "source": [
    "TSS = 0 #Total sum of squares\n",
    "RSS = 0 #Total sum of square of residuals\n",
    "\n",
    "for i in range(m):\n",
    "    ypred = (b1 * new_x[i]) + b0 #y = mx + b which we will do for each value of i\n",
    "    TSS += (new_y[i] - mean_y) ** 2\n",
    "    RSS += (new_y[i] - ypred) ** 2\n",
    "\n",
    "r2 = 1 - (RSS / TSS) #Formula for r-squared\n",
    "\n",
    "print('r-squared value: ', r2)"
   ]
  },
  {
   "cell_type": "markdown",
   "id": "3686eed7",
   "metadata": {
    "papermill": {
     "duration": 0.030234,
     "end_time": "2022-05-05T00:43:27.092602",
     "exception": false,
     "start_time": "2022-05-05T00:43:27.062368",
     "status": "completed"
    },
    "tags": []
   },
   "source": [
    "Results of the Linear Regression for Carat vs Width:\n",
    "\n",
    "What an r-squared value of .906 means is that 90.6% of the variation in the output variable can be explained by the input variable. In other words,the there is a strong positive relationship between the carat of a diamond and the width of a diamond. This makes sense because as I may have mentioned earlier, the carat of a diamond does generally tend to be more expensive the higher the value of the carat is, so it makes sense that the bigger diamond would have a higher carat value."
   ]
  },
  {
   "cell_type": "code",
   "execution_count": 13,
   "id": "f703a0cf",
   "metadata": {
    "execution": {
     "iopub.execute_input": "2022-05-05T00:43:27.156062Z",
     "iopub.status.busy": "2022-05-05T00:43:27.155804Z",
     "iopub.status.idle": "2022-05-05T00:43:27.263987Z",
     "shell.execute_reply": "2022-05-05T00:43:27.262444Z"
    },
    "papermill": {
     "duration": 0.142748,
     "end_time": "2022-05-05T00:43:27.266009",
     "exception": false,
     "start_time": "2022-05-05T00:43:27.123261",
     "status": "completed"
    },
    "tags": []
   },
   "outputs": [
    {
     "name": "stdout",
     "output_type": "stream",
     "text": [
      "The length of this dataset is: 53940\n"
     ]
    }
   ],
   "source": [
    "x = data['carat'].values\n",
    "y = data['z'].values\n",
    "\n",
    "new_x = []\n",
    "new_y = []\n",
    "\n",
    "for item in x:\n",
    "    if str(item) != 'nan':\n",
    "        new_x.append(item)\n",
    "\n",
    "for item in y:\n",
    "    if str(item) != 'nan':\n",
    "        new_y.append(item)\n",
    "        \n",
    "print('The length of this dataset is:', len(new_x))"
   ]
  },
  {
   "cell_type": "code",
   "execution_count": 14,
   "id": "1042067b",
   "metadata": {
    "execution": {
     "iopub.execute_input": "2022-05-05T00:43:27.360103Z",
     "iopub.status.busy": "2022-05-05T00:43:27.359744Z",
     "iopub.status.idle": "2022-05-05T00:43:27.426986Z",
     "shell.execute_reply": "2022-05-05T00:43:27.425762Z"
    },
    "papermill": {
     "duration": 0.117859,
     "end_time": "2022-05-05T00:43:27.429207",
     "exception": false,
     "start_time": "2022-05-05T00:43:27.311348",
     "status": "completed"
    },
    "tags": []
   },
   "outputs": [
    {
     "name": "stdout",
     "output_type": "stream",
     "text": [
      "ypred new slope: 1.4193848418146597\n",
      "ypred new intercept: 2.4061501954669016\n"
     ]
    }
   ],
   "source": [
    "mean_x = np.mean(new_x)\n",
    "mean_y = np.mean(new_y)\n",
    "\n",
    "num = 0\n",
    "den = 0\n",
    "\n",
    "m = len(new_x)\n",
    "\n",
    "# Used to find variables for the new m for the ypred equation\n",
    "for i in range(m):\n",
    "    num += (new_x[i] - mean_x) * (new_y[i] - mean_y)\n",
    "    den += (new_x[i] - mean_x) ** 2\n",
    "    \n",
    "b1 = num / den # solves for m in the ypred equation\n",
    "b0 = mean_y - (b1 * mean_x) # solves for intercept in the ypred equation\n",
    "\n",
    "print('ypred new slope:',b1)\n",
    "print('ypred new intercept:',b0)"
   ]
  },
  {
   "cell_type": "markdown",
   "id": "72ce81ef",
   "metadata": {
    "papermill": {
     "duration": 0.046962,
     "end_time": "2022-05-05T00:43:27.508310",
     "exception": false,
     "start_time": "2022-05-05T00:43:27.461348",
     "status": "completed"
    },
    "tags": []
   },
   "source": [
    "The intercept in this model means the predicted value of y when the carat is 0 would be 3.9 mm in width. However, once again the data set has no carat of 0 in it so this would have no essential meaning it is simply a predicted value.\n",
    "\n",
    "The slope for this model means for each carat we are esentially expecting an increase of 2.3mm for the width."
   ]
  },
  {
   "cell_type": "code",
   "execution_count": 15,
   "id": "3db3518b",
   "metadata": {
    "execution": {
     "iopub.execute_input": "2022-05-05T00:43:27.601327Z",
     "iopub.status.busy": "2022-05-05T00:43:27.600792Z",
     "iopub.status.idle": "2022-05-05T00:43:27.679255Z",
     "shell.execute_reply": "2022-05-05T00:43:27.678037Z"
    },
    "papermill": {
     "duration": 0.128105,
     "end_time": "2022-05-05T00:43:27.681896",
     "exception": false,
     "start_time": "2022-05-05T00:43:27.553791",
     "status": "completed"
    },
    "tags": []
   },
   "outputs": [
    {
     "name": "stdout",
     "output_type": "stream",
     "text": [
      "r-squared value:  0.908947497413759\n"
     ]
    }
   ],
   "source": [
    "TSS = 0 #Total sum of squares\n",
    "RSS = 0 #Total sum of square of residuals\n",
    "\n",
    "for i in range(m):\n",
    "    ypred = (b1 * new_x[i]) + b0 #y = mx + b which we will do for each value of i\n",
    "    TSS += (new_y[i] - mean_y) ** 2\n",
    "    RSS += (new_y[i] - ypred) ** 2\n",
    "\n",
    "r2 = 1 - (RSS / TSS) #Formula for r-squared\n",
    "\n",
    "print('r-squared value: ', r2)"
   ]
  },
  {
   "cell_type": "markdown",
   "id": "642b5f1e",
   "metadata": {
    "papermill": {
     "duration": 0.037493,
     "end_time": "2022-05-05T00:43:27.769814",
     "exception": false,
     "start_time": "2022-05-05T00:43:27.732321",
     "status": "completed"
    },
    "tags": []
   },
   "source": [
    "Results of the Linear Regression for Carat vs Depth:\n",
    "\n",
    "What an r-squared value of .909 means is that 90.9% of the variation in the output variable can be explained by the input variable. In other words,the there is a strong positive relationship between the carat of a diamond and the depth of a diamond. This makes sense because as I may have mentioned earlier, the carat of a diamond does generally tend to be more expensive the higher the value of the carat is, so it makes sense that the bigger diamond would have a higher carat value."
   ]
  },
  {
   "cell_type": "markdown",
   "id": "d4d6bee6",
   "metadata": {
    "papermill": {
     "duration": 0.031839,
     "end_time": "2022-05-05T00:43:27.834748",
     "exception": false,
     "start_time": "2022-05-05T00:43:27.802909",
     "status": "completed"
    },
    "tags": []
   },
   "source": [
    "Hypothesis for Carat vs Clarity: \n",
    "\n",
    "I believe that there will be a positive relationship between the carat of a diamond and the clarity of a diamond, since diamonds of high carat tend to have more value I think that they would want to be more see through which may result in the diamonds being more expensive."
   ]
  },
  {
   "cell_type": "code",
   "execution_count": 16,
   "id": "09c9e3a0",
   "metadata": {
    "execution": {
     "iopub.execute_input": "2022-05-05T00:43:27.902867Z",
     "iopub.status.busy": "2022-05-05T00:43:27.902611Z",
     "iopub.status.idle": "2022-05-05T00:43:28.092821Z",
     "shell.execute_reply": "2022-05-05T00:43:28.091152Z"
    },
    "papermill": {
     "duration": 0.227691,
     "end_time": "2022-05-05T00:43:28.095316",
     "exception": false,
     "start_time": "2022-05-05T00:43:27.867625",
     "status": "completed"
    },
    "tags": []
   },
   "outputs": [
    {
     "name": "stdout",
     "output_type": "stream",
     "text": [
      "The length of this dataset is: 53940\n"
     ]
    }
   ],
   "source": [
    "x = data['carat'].values\n",
    "y = data['clarity'].values\n",
    "\n",
    "new_x = []\n",
    "new_y = []\n",
    "\n",
    "for item in x:\n",
    "    if str(item) != 'nan':\n",
    "        new_x.append(item)\n",
    "\n",
    "for item in y:\n",
    "    if str(item) == 'I1':\n",
    "        new_y.append(1)\n",
    "    if str(item) == 'SI2':\n",
    "        new_y.append(2)\n",
    "    if str(item) == 'SI1':\n",
    "        new_y.append(3)\n",
    "    if str(item) == 'VS2':\n",
    "        new_y.append(4)\n",
    "    if str(item) == 'VS1':\n",
    "        new_y.append(5)\n",
    "    if str(item) == 'VVS2':\n",
    "        new_y.append(6)\n",
    "    if str(item) == 'VVS1':\n",
    "        new_y.append(7)\n",
    "    if str(item) == 'IF':\n",
    "        new_y.append(8)\n",
    "        \n",
    "        \n",
    "print('The length of this dataset is:', len(new_y))"
   ]
  },
  {
   "cell_type": "code",
   "execution_count": 17,
   "id": "b3b823fe",
   "metadata": {
    "execution": {
     "iopub.execute_input": "2022-05-05T00:43:28.162566Z",
     "iopub.status.busy": "2022-05-05T00:43:28.161449Z",
     "iopub.status.idle": "2022-05-05T00:43:28.312067Z",
     "shell.execute_reply": "2022-05-05T00:43:28.311163Z"
    },
    "papermill": {
     "duration": 0.187137,
     "end_time": "2022-05-05T00:43:28.315299",
     "exception": false,
     "start_time": "2022-05-05T00:43:28.128162",
     "status": "completed"
    },
    "tags": []
   },
   "outputs": [
    {
     "name": "stdout",
     "output_type": "stream",
     "text": [
      "ypred new slope: -1.2260815203644486\n",
      "ypred new intercept: 5.029358830689814\n"
     ]
    }
   ],
   "source": [
    "mean_x = np.mean(new_x)\n",
    "mean_y = np.mean(new_y)\n",
    "\n",
    "num = 0\n",
    "den = 0\n",
    "\n",
    "m = len(new_x)\n",
    "\n",
    "# Used to find variables for the new m for the ypred equation\n",
    "for i in range(m):\n",
    "    num += (new_x[i] - mean_x) * (new_y[i] - mean_y)\n",
    "    den += (new_x[i] - mean_x) ** 2\n",
    "    \n",
    "b1 = num / den # solves for m in the ypred equation\n",
    "b0 = mean_y - (b1 * mean_x) # solves for intercept in the ypred equation\n",
    "\n",
    "print('ypred new slope:',b1)\n",
    "print('ypred new intercept:',b0)"
   ]
  },
  {
   "cell_type": "markdown",
   "id": "a7220776",
   "metadata": {
    "papermill": {
     "duration": 0.03126,
     "end_time": "2022-05-05T00:43:28.382227",
     "exception": false,
     "start_time": "2022-05-05T00:43:28.350967",
     "status": "completed"
    },
    "tags": []
   },
   "source": [
    "The intercept in this model means the predicted value of y when the carat is 0 would be a clarity of 5 which is equivalent to VS1. However, once again the data set has no carat of 0 in it so this would have no essential meaning it is simply a predicted value. What I found interesting about this intercept value is that I would assume a carat of 0 would be a intercept of 0 since from my hypothesis I thought it would have the least clarity. However, according to these results it seems to not be the case therefore I already feel like there may not be much of a relationship between these two variables already.\n",
    "\n",
    "The slope for this model means for each carat we are esentially expecting a decrease in the level of clarity by about 1 each time. Which doesn't make much sense to me once again since I expected the clarity level to increase as the carats of diamond moved up."
   ]
  },
  {
   "cell_type": "code",
   "execution_count": 18,
   "id": "4e730380",
   "metadata": {
    "execution": {
     "iopub.execute_input": "2022-05-05T00:43:28.449120Z",
     "iopub.status.busy": "2022-05-05T00:43:28.448858Z",
     "iopub.status.idle": "2022-05-05T00:43:28.572412Z",
     "shell.execute_reply": "2022-05-05T00:43:28.570901Z"
    },
    "papermill": {
     "duration": 0.161492,
     "end_time": "2022-05-05T00:43:28.574813",
     "exception": false,
     "start_time": "2022-05-05T00:43:28.413321",
     "status": "completed"
    },
    "tags": []
   },
   "outputs": [
    {
     "name": "stdout",
     "output_type": "stream",
     "text": [
      "r-squared value:  0.12449646687579252\n"
     ]
    }
   ],
   "source": [
    "TSS = 0 #Total sum of squares\n",
    "RSS = 0 #Total sum of square of residuals\n",
    "\n",
    "for i in range(m):\n",
    "    ypred = (b1 * new_x[i]) + b0 #y = mx + b which we will do for each value of i\n",
    "    TSS += (new_y[i] - mean_y) ** 2\n",
    "    RSS += (new_y[i] - ypred) ** 2\n",
    "\n",
    "r2 = 1 - (RSS / TSS) #Formula for r-squared\n",
    "\n",
    "print('r-squared value: ', r2)"
   ]
  },
  {
   "cell_type": "markdown",
   "id": "ea16f748",
   "metadata": {
    "papermill": {
     "duration": 0.03251,
     "end_time": "2022-05-05T00:43:28.640315",
     "exception": false,
     "start_time": "2022-05-05T00:43:28.607805",
     "status": "completed"
    },
    "tags": []
   },
   "source": [
    "Results of the Linear Regression for Carat vs Clarity:\n",
    "\n",
    "What an r-squared value of .124 means that 12.4% of the variation in the output variable can be explained by the input variable. Which means there really isn't much of relationship between the carat of a diamond and the clarity of a diamond. This was a suprising result since it contradicts the hypothesis I made earlier, thus it seems there really isn't much of relationship between the carat of a diamond and the clarity of a diamond."
   ]
  }
 ],
 "metadata": {
  "kernelspec": {
   "display_name": "Python 3",
   "language": "python",
   "name": "python3"
  },
  "language_info": {
   "codemirror_mode": {
    "name": "ipython",
    "version": 3
   },
   "file_extension": ".py",
   "mimetype": "text/x-python",
   "name": "python",
   "nbconvert_exporter": "python",
   "pygments_lexer": "ipython3",
   "version": "3.7.12"
  },
  "papermill": {
   "default_parameters": {},
   "duration": 17.935716,
   "end_time": "2022-05-05T00:43:29.595919",
   "environment_variables": {},
   "exception": null,
   "input_path": "__notebook__.ipynb",
   "output_path": "__notebook__.ipynb",
   "parameters": {},
   "start_time": "2022-05-05T00:43:11.660203",
   "version": "2.3.4"
  }
 },
 "nbformat": 4,
 "nbformat_minor": 5
}
