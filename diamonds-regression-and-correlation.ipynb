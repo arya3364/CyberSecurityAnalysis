{
 "cells": [
  {
   "cell_type": "code",
   "execution_count": 1,
   "id": "f5464739",
   "metadata": {
    "_cell_guid": "b1076dfc-b9ad-4769-8c92-a6c4dae69d19",
    "_uuid": "8f2839f25d086af736a60e9eeb907d3b93b6e0e5",
    "execution": {
     "iopub.execute_input": "2022-05-02T20:25:01.819485Z",
     "iopub.status.busy": "2022-05-02T20:25:01.818953Z",
     "iopub.status.idle": "2022-05-02T20:25:01.842406Z",
     "shell.execute_reply": "2022-05-02T20:25:01.841126Z"
    },
    "papermill": {
     "duration": 0.035412,
     "end_time": "2022-05-02T20:25:01.844478",
     "exception": false,
     "start_time": "2022-05-02T20:25:01.809066",
     "status": "completed"
    },
    "tags": []
   },
   "outputs": [
    {
     "name": "stdout",
     "output_type": "stream",
     "text": [
      "/kaggle/input/diamonds/diamonds.csv\n"
     ]
    }
   ],
   "source": [
    "# This Python 3 environment comes with many helpful analytics libraries installed\n",
    "# It is defined by the kaggle/python Docker image: https://github.com/kaggle/docker-python\n",
    "# For example, here's several helpful packages to load\n",
    "\n",
    "import numpy as np # linear algebra\n",
    "import pandas as pd # data processing, CSV file I/O (e.g. pd.read_csv)\n",
    "\n",
    "# Input data files are available in the read-only \"../input/\" directory\n",
    "# For example, running this (by clicking run or pressing Shift+Enter) will list all files under the input directory\n",
    "\n",
    "import os\n",
    "for dirname, _, filenames in os.walk('/kaggle/input'):\n",
    "    for filename in filenames:\n",
    "        print(os.path.join(dirname, filename))\n",
    "\n",
    "# You can write up to 20GB to the current directory (/kaggle/working/) that gets preserved as output when you create a version using \"Save & Run All\" \n",
    "# You can also write temporary files to /kaggle/temp/, but they won't be saved outside of the current session"
   ]
  },
  {
   "cell_type": "code",
   "execution_count": 2,
   "id": "4dbc6e42",
   "metadata": {
    "execution": {
     "iopub.execute_input": "2022-05-02T20:25:01.860469Z",
     "iopub.status.busy": "2022-05-02T20:25:01.860181Z",
     "iopub.status.idle": "2022-05-02T20:25:02.015963Z",
     "shell.execute_reply": "2022-05-02T20:25:02.014981Z"
    },
    "papermill": {
     "duration": 0.166396,
     "end_time": "2022-05-02T20:25:02.018533",
     "exception": false,
     "start_time": "2022-05-02T20:25:01.852137",
     "status": "completed"
    },
    "tags": []
   },
   "outputs": [
    {
     "data": {
      "text/html": [
       "<div>\n",
       "<style scoped>\n",
       "    .dataframe tbody tr th:only-of-type {\n",
       "        vertical-align: middle;\n",
       "    }\n",
       "\n",
       "    .dataframe tbody tr th {\n",
       "        vertical-align: top;\n",
       "    }\n",
       "\n",
       "    .dataframe thead th {\n",
       "        text-align: right;\n",
       "    }\n",
       "</style>\n",
       "<table border=\"1\" class=\"dataframe\">\n",
       "  <thead>\n",
       "    <tr style=\"text-align: right;\">\n",
       "      <th></th>\n",
       "      <th>Unnamed: 0</th>\n",
       "      <th>carat</th>\n",
       "      <th>cut</th>\n",
       "      <th>color</th>\n",
       "      <th>clarity</th>\n",
       "      <th>depth</th>\n",
       "      <th>table</th>\n",
       "      <th>price</th>\n",
       "      <th>x</th>\n",
       "      <th>y</th>\n",
       "      <th>z</th>\n",
       "    </tr>\n",
       "  </thead>\n",
       "  <tbody>\n",
       "    <tr>\n",
       "      <th>0</th>\n",
       "      <td>1</td>\n",
       "      <td>0.23</td>\n",
       "      <td>Ideal</td>\n",
       "      <td>E</td>\n",
       "      <td>SI2</td>\n",
       "      <td>61.5</td>\n",
       "      <td>55.0</td>\n",
       "      <td>326</td>\n",
       "      <td>3.95</td>\n",
       "      <td>3.98</td>\n",
       "      <td>2.43</td>\n",
       "    </tr>\n",
       "    <tr>\n",
       "      <th>1</th>\n",
       "      <td>2</td>\n",
       "      <td>0.21</td>\n",
       "      <td>Premium</td>\n",
       "      <td>E</td>\n",
       "      <td>SI1</td>\n",
       "      <td>59.8</td>\n",
       "      <td>61.0</td>\n",
       "      <td>326</td>\n",
       "      <td>3.89</td>\n",
       "      <td>3.84</td>\n",
       "      <td>2.31</td>\n",
       "    </tr>\n",
       "    <tr>\n",
       "      <th>2</th>\n",
       "      <td>3</td>\n",
       "      <td>0.23</td>\n",
       "      <td>Good</td>\n",
       "      <td>E</td>\n",
       "      <td>VS1</td>\n",
       "      <td>56.9</td>\n",
       "      <td>65.0</td>\n",
       "      <td>327</td>\n",
       "      <td>4.05</td>\n",
       "      <td>4.07</td>\n",
       "      <td>2.31</td>\n",
       "    </tr>\n",
       "    <tr>\n",
       "      <th>3</th>\n",
       "      <td>4</td>\n",
       "      <td>0.29</td>\n",
       "      <td>Premium</td>\n",
       "      <td>I</td>\n",
       "      <td>VS2</td>\n",
       "      <td>62.4</td>\n",
       "      <td>58.0</td>\n",
       "      <td>334</td>\n",
       "      <td>4.20</td>\n",
       "      <td>4.23</td>\n",
       "      <td>2.63</td>\n",
       "    </tr>\n",
       "    <tr>\n",
       "      <th>4</th>\n",
       "      <td>5</td>\n",
       "      <td>0.31</td>\n",
       "      <td>Good</td>\n",
       "      <td>J</td>\n",
       "      <td>SI2</td>\n",
       "      <td>63.3</td>\n",
       "      <td>58.0</td>\n",
       "      <td>335</td>\n",
       "      <td>4.34</td>\n",
       "      <td>4.35</td>\n",
       "      <td>2.75</td>\n",
       "    </tr>\n",
       "  </tbody>\n",
       "</table>\n",
       "</div>"
      ],
      "text/plain": [
       "   Unnamed: 0  carat      cut color clarity  depth  table  price     x     y  \\\n",
       "0           1   0.23    Ideal     E     SI2   61.5   55.0    326  3.95  3.98   \n",
       "1           2   0.21  Premium     E     SI1   59.8   61.0    326  3.89  3.84   \n",
       "2           3   0.23     Good     E     VS1   56.9   65.0    327  4.05  4.07   \n",
       "3           4   0.29  Premium     I     VS2   62.4   58.0    334  4.20  4.23   \n",
       "4           5   0.31     Good     J     SI2   63.3   58.0    335  4.34  4.35   \n",
       "\n",
       "      z  \n",
       "0  2.43  \n",
       "1  2.31  \n",
       "2  2.31  \n",
       "3  2.63  \n",
       "4  2.75  "
      ]
     },
     "execution_count": 2,
     "metadata": {},
     "output_type": "execute_result"
    }
   ],
   "source": [
    "data = pd.read_csv(\"../input/diamonds/diamonds.csv\")\n",
    "data.head()"
   ]
  },
  {
   "cell_type": "code",
   "execution_count": 3,
   "id": "252b797f",
   "metadata": {
    "execution": {
     "iopub.execute_input": "2022-05-02T20:25:02.034975Z",
     "iopub.status.busy": "2022-05-02T20:25:02.034712Z",
     "iopub.status.idle": "2022-05-02T20:25:02.143788Z",
     "shell.execute_reply": "2022-05-02T20:25:02.142885Z"
    },
    "papermill": {
     "duration": 0.119968,
     "end_time": "2022-05-02T20:25:02.146093",
     "exception": false,
     "start_time": "2022-05-02T20:25:02.026125",
     "status": "completed"
    },
    "tags": []
   },
   "outputs": [
    {
     "name": "stdout",
     "output_type": "stream",
     "text": [
      "The length of this dataset is: 53940\n"
     ]
    }
   ],
   "source": [
    "x = data['carat'].values\n",
    "y = data['price'].values\n",
    "\n",
    "new_x = []\n",
    "new_y = []\n",
    "\n",
    "for item in x:\n",
    "    if str(item) != 'nan':\n",
    "        new_x.append(item)\n",
    "\n",
    "for item in y:\n",
    "    if str(item) != 'nan':\n",
    "        new_y.append(item)\n",
    "        \n",
    "print('The length of this dataset is:', len(new_x))"
   ]
  },
  {
   "cell_type": "code",
   "execution_count": 4,
   "id": "70b77a7b",
   "metadata": {
    "execution": {
     "iopub.execute_input": "2022-05-02T20:25:02.164757Z",
     "iopub.status.busy": "2022-05-02T20:25:02.164262Z",
     "iopub.status.idle": "2022-05-02T20:25:02.454913Z",
     "shell.execute_reply": "2022-05-02T20:25:02.453920Z"
    },
    "papermill": {
     "duration": 0.30272,
     "end_time": "2022-05-02T20:25:02.457417",
     "exception": false,
     "start_time": "2022-05-02T20:25:02.154697",
     "status": "completed"
    },
    "tags": []
   },
   "outputs": [
    {
     "name": "stdout",
     "output_type": "stream",
     "text": [
      "7756.425617967361\n",
      "-2256.360580044546\n"
     ]
    }
   ],
   "source": [
    "mean_x = np.mean(new_x)\n",
    "mean_y = np.mean(new_y)\n",
    "\n",
    "num = 0\n",
    "den = 0\n",
    "\n",
    "m = len(new_x)\n",
    "\n",
    "for i in range(m):\n",
    "    num += (new_x[i] - mean_x) * (new_y[i] - mean_y)\n",
    "    den += (new_x[i] - mean_x) ** 2\n",
    "    \n",
    "b1 = num / den\n",
    "b0 = mean_y - (b1 * mean_x)\n",
    "\n",
    "print(b1)\n",
    "print(b0)"
   ]
  },
  {
   "cell_type": "code",
   "execution_count": 5,
   "id": "2a84637e",
   "metadata": {
    "execution": {
     "iopub.execute_input": "2022-05-02T20:25:02.475919Z",
     "iopub.status.busy": "2022-05-02T20:25:02.475250Z",
     "iopub.status.idle": "2022-05-02T20:25:02.976469Z",
     "shell.execute_reply": "2022-05-02T20:25:02.975490Z"
    },
    "papermill": {
     "duration": 0.512597,
     "end_time": "2022-05-02T20:25:02.978462",
     "exception": false,
     "start_time": "2022-05-02T20:25:02.465865",
     "status": "completed"
    },
    "tags": []
   },
   "outputs": [
    {
     "name": "stdout",
     "output_type": "stream",
     "text": [
      "0.8493305264354793\n"
     ]
    }
   ],
   "source": [
    "TSS = 0\n",
    "RSS = 0\n",
    "\n",
    "for i in range(m):\n",
    "    ypred = (b1 * new_x[i]) + b0\n",
    "    TSS += (new_y[i] - mean_y) ** 2\n",
    "    RSS += (new_y[i] - ypred) ** 2\n",
    "\n",
    "r2 = 1 - (RSS / TSS)\n",
    "\n",
    "print(r2)"
   ]
  }
 ],
 "metadata": {
  "kernelspec": {
   "display_name": "Python 3",
   "language": "python",
   "name": "python3"
  },
  "language_info": {
   "codemirror_mode": {
    "name": "ipython",
    "version": 3
   },
   "file_extension": ".py",
   "mimetype": "text/x-python",
   "name": "python",
   "nbconvert_exporter": "python",
   "pygments_lexer": "ipython3",
   "version": "3.7.12"
  },
  "papermill": {
   "default_parameters": {},
   "duration": 11.794492,
   "end_time": "2022-05-02T20:25:03.608500",
   "environment_variables": {},
   "exception": null,
   "input_path": "__notebook__.ipynb",
   "output_path": "__notebook__.ipynb",
   "parameters": {},
   "start_time": "2022-05-02T20:24:51.814008",
   "version": "2.3.4"
  }
 },
 "nbformat": 4,
 "nbformat_minor": 5
}
