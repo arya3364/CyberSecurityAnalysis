{
 "cells": [
  {
   "cell_type": "code",
   "execution_count": 1,
   "id": "73150fb7",
   "metadata": {
    "_cell_guid": "b1076dfc-b9ad-4769-8c92-a6c4dae69d19",
    "_uuid": "8f2839f25d086af736a60e9eeb907d3b93b6e0e5",
    "execution": {
     "iopub.execute_input": "2022-05-04T02:14:51.307490Z",
     "iopub.status.busy": "2022-05-04T02:14:51.307131Z",
     "iopub.status.idle": "2022-05-04T02:14:52.332953Z",
     "shell.execute_reply": "2022-05-04T02:14:52.331809Z"
    },
    "papermill": {
     "duration": 1.065745,
     "end_time": "2022-05-04T02:14:52.335409",
     "exception": false,
     "start_time": "2022-05-04T02:14:51.269664",
     "status": "completed"
    },
    "tags": []
   },
   "outputs": [
    {
     "name": "stdout",
     "output_type": "stream",
     "text": [
      "/kaggle/input/diamonds/diamonds.csv\n"
     ]
    }
   ],
   "source": [
    "# This Python 3 environment comes with many helpful analytics libraries installed\n",
    "# It is defined by the kaggle/python Docker image: https://github.com/kaggle/docker-python\n",
    "# For example, here's several helpful packages to load\n",
    "\n",
    "import numpy as np # linear algebra\n",
    "import pandas as pd # data processing, CSV file I/O (e.g. pd.read_csv)\n",
    "from scipy.stats import spearmanr\n",
    "from scipy.stats import pearsonr\n",
    "\n",
    "# Input data files are available in the read-only \"../input/\" directory\n",
    "# For example, running this (by clicking run or pressing Shift+Enter) will list all files under the input directory\n",
    "\n",
    "import os\n",
    "for dirname, _, filenames in os.walk('/kaggle/input'):\n",
    "    for filename in filenames:\n",
    "        print(os.path.join(dirname, filename))\n",
    "\n",
    "# You can write up to 20GB to the current directory (/kaggle/working/) that gets preserved as output when you create a version using \"Save & Run All\" \n",
    "# You can also write temporary files to /kaggle/temp/, but they won't be saved outside of the current session"
   ]
  },
  {
   "cell_type": "markdown",
   "id": "2057c22b",
   "metadata": {
    "papermill": {
     "duration": 0.032727,
     "end_time": "2022-05-04T02:14:52.401090",
     "exception": false,
     "start_time": "2022-05-04T02:14:52.368363",
     "status": "completed"
    },
    "tags": []
   },
   "source": [
    "The goal of this Python script is to find out if there is a relationship between the two variables the carat of a diamond and the price of a diamond, and to see what type of relationship exists between the two variables."
   ]
  },
  {
   "cell_type": "markdown",
   "id": "b32f3ad4",
   "metadata": {
    "papermill": {
     "duration": 0.032852,
     "end_time": "2022-05-04T02:14:52.465992",
     "exception": false,
     "start_time": "2022-05-04T02:14:52.433140",
     "status": "completed"
    },
    "tags": []
   },
   "source": [
    "Hypothesis for carat vs price:\n",
    "\n",
    "I believe that there will be a positive relationship between the carat of a diamond and the price of a diamond, since in general we normally see the more carats a diamond has the higher of a price value the diamond tends to have as well."
   ]
  },
  {
   "cell_type": "markdown",
   "id": "8634a27f",
   "metadata": {
    "papermill": {
     "duration": 0.03043,
     "end_time": "2022-05-04T02:14:52.527524",
     "exception": false,
     "start_time": "2022-05-04T02:14:52.497094",
     "status": "completed"
    },
    "tags": []
   },
   "source": [
    "To start I will perform a linear regression on the two variables carat of a diamond and price of a diamond. The goal of a regression is to investigate/predict if there is a relationship between the independent and dependent variable. A linear regression specifically is when data is modelled in a straight line in order to predict the value of a variable."
   ]
  },
  {
   "cell_type": "code",
   "execution_count": 2,
   "id": "dbfca57e",
   "metadata": {
    "execution": {
     "iopub.execute_input": "2022-05-04T02:14:52.592310Z",
     "iopub.status.busy": "2022-05-04T02:14:52.591873Z",
     "iopub.status.idle": "2022-05-04T02:14:52.740139Z",
     "shell.execute_reply": "2022-05-04T02:14:52.739227Z"
    },
    "papermill": {
     "duration": 0.184076,
     "end_time": "2022-05-04T02:14:52.742929",
     "exception": false,
     "start_time": "2022-05-04T02:14:52.558853",
     "status": "completed"
    },
    "tags": []
   },
   "outputs": [
    {
     "data": {
      "text/html": [
       "<div>\n",
       "<style scoped>\n",
       "    .dataframe tbody tr th:only-of-type {\n",
       "        vertical-align: middle;\n",
       "    }\n",
       "\n",
       "    .dataframe tbody tr th {\n",
       "        vertical-align: top;\n",
       "    }\n",
       "\n",
       "    .dataframe thead th {\n",
       "        text-align: right;\n",
       "    }\n",
       "</style>\n",
       "<table border=\"1\" class=\"dataframe\">\n",
       "  <thead>\n",
       "    <tr style=\"text-align: right;\">\n",
       "      <th></th>\n",
       "      <th>Unnamed: 0</th>\n",
       "      <th>carat</th>\n",
       "      <th>cut</th>\n",
       "      <th>color</th>\n",
       "      <th>clarity</th>\n",
       "      <th>depth</th>\n",
       "      <th>table</th>\n",
       "      <th>price</th>\n",
       "      <th>x</th>\n",
       "      <th>y</th>\n",
       "      <th>z</th>\n",
       "    </tr>\n",
       "  </thead>\n",
       "  <tbody>\n",
       "    <tr>\n",
       "      <th>0</th>\n",
       "      <td>1</td>\n",
       "      <td>0.23</td>\n",
       "      <td>Ideal</td>\n",
       "      <td>E</td>\n",
       "      <td>SI2</td>\n",
       "      <td>61.5</td>\n",
       "      <td>55.0</td>\n",
       "      <td>326</td>\n",
       "      <td>3.95</td>\n",
       "      <td>3.98</td>\n",
       "      <td>2.43</td>\n",
       "    </tr>\n",
       "    <tr>\n",
       "      <th>1</th>\n",
       "      <td>2</td>\n",
       "      <td>0.21</td>\n",
       "      <td>Premium</td>\n",
       "      <td>E</td>\n",
       "      <td>SI1</td>\n",
       "      <td>59.8</td>\n",
       "      <td>61.0</td>\n",
       "      <td>326</td>\n",
       "      <td>3.89</td>\n",
       "      <td>3.84</td>\n",
       "      <td>2.31</td>\n",
       "    </tr>\n",
       "    <tr>\n",
       "      <th>2</th>\n",
       "      <td>3</td>\n",
       "      <td>0.23</td>\n",
       "      <td>Good</td>\n",
       "      <td>E</td>\n",
       "      <td>VS1</td>\n",
       "      <td>56.9</td>\n",
       "      <td>65.0</td>\n",
       "      <td>327</td>\n",
       "      <td>4.05</td>\n",
       "      <td>4.07</td>\n",
       "      <td>2.31</td>\n",
       "    </tr>\n",
       "    <tr>\n",
       "      <th>3</th>\n",
       "      <td>4</td>\n",
       "      <td>0.29</td>\n",
       "      <td>Premium</td>\n",
       "      <td>I</td>\n",
       "      <td>VS2</td>\n",
       "      <td>62.4</td>\n",
       "      <td>58.0</td>\n",
       "      <td>334</td>\n",
       "      <td>4.20</td>\n",
       "      <td>4.23</td>\n",
       "      <td>2.63</td>\n",
       "    </tr>\n",
       "    <tr>\n",
       "      <th>4</th>\n",
       "      <td>5</td>\n",
       "      <td>0.31</td>\n",
       "      <td>Good</td>\n",
       "      <td>J</td>\n",
       "      <td>SI2</td>\n",
       "      <td>63.3</td>\n",
       "      <td>58.0</td>\n",
       "      <td>335</td>\n",
       "      <td>4.34</td>\n",
       "      <td>4.35</td>\n",
       "      <td>2.75</td>\n",
       "    </tr>\n",
       "  </tbody>\n",
       "</table>\n",
       "</div>"
      ],
      "text/plain": [
       "   Unnamed: 0  carat      cut color clarity  depth  table  price     x     y  \\\n",
       "0           1   0.23    Ideal     E     SI2   61.5   55.0    326  3.95  3.98   \n",
       "1           2   0.21  Premium     E     SI1   59.8   61.0    326  3.89  3.84   \n",
       "2           3   0.23     Good     E     VS1   56.9   65.0    327  4.05  4.07   \n",
       "3           4   0.29  Premium     I     VS2   62.4   58.0    334  4.20  4.23   \n",
       "4           5   0.31     Good     J     SI2   63.3   58.0    335  4.34  4.35   \n",
       "\n",
       "      z  \n",
       "0  2.43  \n",
       "1  2.31  \n",
       "2  2.31  \n",
       "3  2.63  \n",
       "4  2.75  "
      ]
     },
     "execution_count": 2,
     "metadata": {},
     "output_type": "execute_result"
    }
   ],
   "source": [
    "data = pd.read_csv(\"../input/diamonds/diamonds.csv\")\n",
    "data.head()"
   ]
  },
  {
   "cell_type": "markdown",
   "id": "6ba7ea49",
   "metadata": {
    "papermill": {
     "duration": 0.033836,
     "end_time": "2022-05-04T02:14:52.810861",
     "exception": false,
     "start_time": "2022-05-04T02:14:52.777025",
     "status": "completed"
    },
    "tags": []
   },
   "source": [
    "To start we attribute arrays x and y to the columns we plan to analyze within this data set. We then check each column to confirm there are no values of 'nan' within the data set using two for loops. Finally we recieve our length of the data set which is 53,940 different values which meets the requirement of 10,000 values."
   ]
  },
  {
   "cell_type": "code",
   "execution_count": 3,
   "id": "4866712f",
   "metadata": {
    "execution": {
     "iopub.execute_input": "2022-05-04T02:14:52.877015Z",
     "iopub.status.busy": "2022-05-04T02:14:52.876179Z",
     "iopub.status.idle": "2022-05-04T02:14:52.983292Z",
     "shell.execute_reply": "2022-05-04T02:14:52.982409Z"
    },
    "papermill": {
     "duration": 0.142804,
     "end_time": "2022-05-04T02:14:52.986178",
     "exception": false,
     "start_time": "2022-05-04T02:14:52.843374",
     "status": "completed"
    },
    "tags": []
   },
   "outputs": [
    {
     "name": "stdout",
     "output_type": "stream",
     "text": [
      "The length of this dataset is: 53940\n"
     ]
    }
   ],
   "source": [
    "x = data['carat'].values\n",
    "y = data['price'].values\n",
    "\n",
    "new_x = []\n",
    "new_y = []\n",
    "\n",
    "for item in x:\n",
    "    if str(item) != 'nan':\n",
    "        new_x.append(item)\n",
    "\n",
    "for item in y:\n",
    "    if str(item) != 'nan':\n",
    "        new_y.append(item)\n",
    "        \n",
    "print('The length of this dataset is:', len(new_x))"
   ]
  },
  {
   "cell_type": "markdown",
   "id": "31496661",
   "metadata": {
    "papermill": {
     "duration": 0.031909,
     "end_time": "2022-05-04T02:14:53.051563",
     "exception": false,
     "start_time": "2022-05-04T02:14:53.019654",
     "status": "completed"
    },
    "tags": []
   },
   "source": [
    "Now in order to find r squared for our linear regression model, we must first start by finding out the equation for ypred. We will do this by first finding our new slope (b1), then finding our new intercept (b0)."
   ]
  },
  {
   "cell_type": "code",
   "execution_count": 4,
   "id": "bdc0b6c8",
   "metadata": {
    "execution": {
     "iopub.execute_input": "2022-05-04T02:14:53.117553Z",
     "iopub.status.busy": "2022-05-04T02:14:53.117226Z",
     "iopub.status.idle": "2022-05-04T02:14:53.417710Z",
     "shell.execute_reply": "2022-05-04T02:14:53.416897Z"
    },
    "papermill": {
     "duration": 0.336394,
     "end_time": "2022-05-04T02:14:53.419893",
     "exception": false,
     "start_time": "2022-05-04T02:14:53.083499",
     "status": "completed"
    },
    "tags": []
   },
   "outputs": [
    {
     "name": "stdout",
     "output_type": "stream",
     "text": [
      "ypred new slope: 7756.425617967361\n",
      "ypred new intercept: -2256.360580044546\n"
     ]
    }
   ],
   "source": [
    "mean_x = np.mean(new_x)\n",
    "mean_y = np.mean(new_y)\n",
    "\n",
    "num = 0\n",
    "den = 0\n",
    "\n",
    "m = len(new_x)\n",
    "\n",
    "# Used to find variables for the new m for the ypred equation\n",
    "for i in range(m):\n",
    "    num += (new_x[i] - mean_x) * (new_y[i] - mean_y)\n",
    "    den += (new_x[i] - mean_x) ** 2\n",
    "    \n",
    "b1 = num / den # solves for m in the ypred equation\n",
    "b0 = mean_y - (b1 * mean_x) # solves for intercept in the ypred equation\n",
    "\n",
    "print('ypred new slope:',b1)\n",
    "print('ypred new intercept:',b0)"
   ]
  },
  {
   "cell_type": "markdown",
   "id": "d5d653d7",
   "metadata": {
    "papermill": {
     "duration": 0.033072,
     "end_time": "2022-05-04T02:14:53.485252",
     "exception": false,
     "start_time": "2022-05-04T02:14:53.452180",
     "status": "completed"
    },
    "tags": []
   },
   "source": [
    "The intercept in this model is negative but that is because it is the value expected when all independent variables are set to 0. It is a predicted value which is why it is able to be negative, however, if our x (carat) never equals 0 in the data set then this really has no essential meaning.\n",
    "\n",
    "The slope for this model means for each carat we are esentially expecting an increase of $7756.43 in the price."
   ]
  },
  {
   "cell_type": "markdown",
   "id": "540e049b",
   "metadata": {
    "papermill": {
     "duration": 0.032055,
     "end_time": "2022-05-04T02:14:53.549524",
     "exception": false,
     "start_time": "2022-05-04T02:14:53.517469",
     "status": "completed"
    },
    "tags": []
   },
   "source": [
    "This calculations we use to find r-squared. When find r-squared it is important that we also find the total sum of squares and the total sum of squares of residuals in order to make sure we have all the components necessary to perform the r-squared equation."
   ]
  },
  {
   "cell_type": "code",
   "execution_count": 5,
   "id": "b6668688",
   "metadata": {
    "execution": {
     "iopub.execute_input": "2022-05-04T02:14:53.616189Z",
     "iopub.status.busy": "2022-05-04T02:14:53.615902Z",
     "iopub.status.idle": "2022-05-04T02:14:54.120885Z",
     "shell.execute_reply": "2022-05-04T02:14:54.119624Z"
    },
    "papermill": {
     "duration": 0.541246,
     "end_time": "2022-05-04T02:14:54.123054",
     "exception": false,
     "start_time": "2022-05-04T02:14:53.581808",
     "status": "completed"
    },
    "tags": []
   },
   "outputs": [
    {
     "name": "stdout",
     "output_type": "stream",
     "text": [
      "r-squared value:  0.8493305264354793\n"
     ]
    }
   ],
   "source": [
    "TSS = 0 #Total sum of squares\n",
    "RSS = 0 #Total sum of square of residuals\n",
    "\n",
    "for i in range(m):\n",
    "    ypred = (b1 * new_x[i]) + b0 #y = mx + b which we will do for each value of i\n",
    "    TSS += (new_y[i] - mean_y) ** 2\n",
    "    RSS += (new_y[i] - ypred) ** 2\n",
    "\n",
    "r2 = 1 - (RSS / TSS) #Formula for r-squared\n",
    "\n",
    "print('r-squared value: ', r2)"
   ]
  },
  {
   "cell_type": "markdown",
   "id": "a1816fe8",
   "metadata": {
    "papermill": {
     "duration": 0.032573,
     "end_time": "2022-05-04T02:14:54.188179",
     "exception": false,
     "start_time": "2022-05-04T02:14:54.155606",
     "status": "completed"
    },
    "tags": []
   },
   "source": [
    "Results of the Linear Regression for Carat vs Price:\n",
    "\n",
    "What an r-squared value of .849 means is that 84.9% of the variation in the output variable can be explained by the input variable. In other words,the there is a strong positive relationship between the carat of a diamond and the price of a diamond, which can be attributed due to having an r-squared value of .849. This also means that our original hypothesis was indeed correct that there is a relationship between the carat of a diamond and the price of a diamond. This makes sense because as I may have mentioned earlier, the carat of a diamond does generally tend to be more expensive the higher the value of the carat is."
   ]
  },
  {
   "cell_type": "markdown",
   "id": "c3eaf3a5",
   "metadata": {
    "papermill": {
     "duration": 0.032709,
     "end_time": "2022-05-04T02:14:54.253779",
     "exception": false,
     "start_time": "2022-05-04T02:14:54.221070",
     "status": "completed"
    },
    "tags": []
   },
   "source": [
    "Next up I would like to perform a correlation on both the variables price of a diamond and the carat of a diamond. A correlation is the measure of how closely related two variables are to each other. Specifically we are going to be looking at both Person's and Spearman's correlation. Pearson's correlation is the strength of the linear relationship between two variables, so somewhat similar to regression. Spearman's correlation measures the strength and direction of monotonic (less-restrictive) association between two variables."
   ]
  },
  {
   "cell_type": "code",
   "execution_count": 6,
   "id": "d3873170",
   "metadata": {
    "execution": {
     "iopub.execute_input": "2022-05-04T02:14:54.320756Z",
     "iopub.status.busy": "2022-05-04T02:14:54.320451Z",
     "iopub.status.idle": "2022-05-04T02:14:54.361426Z",
     "shell.execute_reply": "2022-05-04T02:14:54.360297Z"
    },
    "papermill": {
     "duration": 0.078125,
     "end_time": "2022-05-04T02:14:54.364536",
     "exception": false,
     "start_time": "2022-05-04T02:14:54.286411",
     "status": "completed"
    },
    "tags": []
   },
   "outputs": [
    {
     "name": "stdout",
     "output_type": "stream",
     "text": [
      "Pearsons Correlation:   0.9215913011934773\n",
      "Spearmans Correlation:  0.9215913011934773\n"
     ]
    }
   ],
   "source": [
    "corr, _ = spearmanr(new_x, new_y)\n",
    "corr, _ = pearsonr(new_x, new_y)\n",
    "\n",
    "print('Pearsons Correlation:  ', corr)\n",
    "print('Spearmans Correlation: ', corr)"
   ]
  },
  {
   "cell_type": "markdown",
   "id": "598dec5f",
   "metadata": {
    "papermill": {
     "duration": 0.056743,
     "end_time": "2022-05-04T02:14:54.481560",
     "exception": false,
     "start_time": "2022-05-04T02:14:54.424817",
     "status": "completed"
    },
    "tags": []
   },
   "source": [
    "Results of the Correlation Testing for Carat vs Price:\n",
    "\n",
    "As we see from the results for both methods we get a correlation of .922. This is a very strong correlation, thus indicating that there is a strong positive relationship between the two variables carat of a diamond and the price of a diamond. Which means that as the carat of a diamond increases the price of the diamond increases as well. This result gives us more confirmation with the results of our previous linear regression test."
   ]
  },
  {
   "cell_type": "markdown",
   "id": "f507930b",
   "metadata": {
    "papermill": {
     "duration": 0.032715,
     "end_time": "2022-05-04T02:14:54.547059",
     "exception": false,
     "start_time": "2022-05-04T02:14:54.514344",
     "status": "completed"
    },
    "tags": []
   },
   "source": [
    "Hypothesis for Carat vs Length, Width, and Depth: \n",
    "\n",
    "I believe that there will be a positive relationship between the carat of a diamond and the length of a diamond, since diamonds of high carat tend to have more value so I'm thinking they may bigger in size as well. Which is why I am keeping this hypothesis for length, width, and depth as well."
   ]
  },
  {
   "cell_type": "code",
   "execution_count": 7,
   "id": "6ca8986b",
   "metadata": {
    "execution": {
     "iopub.execute_input": "2022-05-04T02:14:54.614552Z",
     "iopub.status.busy": "2022-05-04T02:14:54.614296Z",
     "iopub.status.idle": "2022-05-04T02:14:54.699829Z",
     "shell.execute_reply": "2022-05-04T02:14:54.698963Z"
    },
    "papermill": {
     "duration": 0.121765,
     "end_time": "2022-05-04T02:14:54.701877",
     "exception": false,
     "start_time": "2022-05-04T02:14:54.580112",
     "status": "completed"
    },
    "tags": []
   },
   "outputs": [
    {
     "name": "stdout",
     "output_type": "stream",
     "text": [
      "The length of this dataset is: 53940\n"
     ]
    }
   ],
   "source": [
    "x = data['carat'].values\n",
    "y = data['x'].values\n",
    "\n",
    "new_x = []\n",
    "new_y = []\n",
    "\n",
    "for item in x:\n",
    "    if str(item) != 'nan':\n",
    "        new_x.append(item)\n",
    "\n",
    "for item in y:\n",
    "    if str(item) != 'nan':\n",
    "        new_y.append(item)\n",
    "        \n",
    "print('The length of this dataset is:', len(new_x))"
   ]
  },
  {
   "cell_type": "code",
   "execution_count": 8,
   "id": "ada6743f",
   "metadata": {
    "execution": {
     "iopub.execute_input": "2022-05-04T02:14:54.770444Z",
     "iopub.status.busy": "2022-05-04T02:14:54.769860Z",
     "iopub.status.idle": "2022-05-04T02:14:54.870203Z",
     "shell.execute_reply": "2022-05-04T02:14:54.869323Z"
    },
    "papermill": {
     "duration": 0.137359,
     "end_time": "2022-05-04T02:14:54.872298",
     "exception": false,
     "start_time": "2022-05-04T02:14:54.734939",
     "status": "completed"
    },
    "tags": []
   },
   "outputs": [
    {
     "name": "stdout",
     "output_type": "stream",
     "text": [
      "ypred new slope: 2.307587511637267\n",
      "ypred new intercept: 3.8898414144975324\n"
     ]
    }
   ],
   "source": [
    "mean_x = np.mean(new_x)\n",
    "mean_y = np.mean(new_y)\n",
    "\n",
    "num = 0\n",
    "den = 0\n",
    "\n",
    "m = len(new_x)\n",
    "\n",
    "# Used to find variables for the new m for the ypred equation\n",
    "for i in range(m):\n",
    "    num += (new_x[i] - mean_x) * (new_y[i] - mean_y)\n",
    "    den += (new_x[i] - mean_x) ** 2\n",
    "    \n",
    "b1 = num / den # solves for m in the ypred equation\n",
    "b0 = mean_y - (b1 * mean_x) # solves for intercept in the ypred equation\n",
    "\n",
    "print('ypred new slope:',b1)\n",
    "print('ypred new intercept:',b0)"
   ]
  },
  {
   "cell_type": "markdown",
   "id": "b51c565d",
   "metadata": {
    "papermill": {
     "duration": 0.033443,
     "end_time": "2022-05-04T02:14:54.943802",
     "exception": false,
     "start_time": "2022-05-04T02:14:54.910359",
     "status": "completed"
    },
    "tags": []
   },
   "source": [
    "The intercept in this model means the predicted value of y when the carat is 0 would be 3.88mm in length. However, once again the data set has no carat of 0 in it so this would have no essential meaning it is simply a predicted value.\n",
    "\n",
    "The slope for this model means for each carat we are esentially expecting an increase of 2.3mm for the length."
   ]
  },
  {
   "cell_type": "code",
   "execution_count": 9,
   "id": "f4422c3f",
   "metadata": {
    "execution": {
     "iopub.execute_input": "2022-05-04T02:14:55.013921Z",
     "iopub.status.busy": "2022-05-04T02:14:55.013601Z",
     "iopub.status.idle": "2022-05-04T02:14:55.134405Z",
     "shell.execute_reply": "2022-05-04T02:14:55.133321Z"
    },
    "papermill": {
     "duration": 0.15856,
     "end_time": "2022-05-04T02:14:55.136628",
     "exception": false,
     "start_time": "2022-05-04T02:14:54.978068",
     "status": "completed"
    },
    "tags": []
   },
   "outputs": [
    {
     "name": "stdout",
     "output_type": "stream",
     "text": [
      "r-squared value:  0.9508087509951948\n"
     ]
    }
   ],
   "source": [
    "TSS = 0 #Total sum of squares\n",
    "RSS = 0 #Total sum of square of residuals\n",
    "\n",
    "for i in range(m):\n",
    "    ypred = (b1 * new_x[i]) + b0 #y = mx + b which we will do for each value of i\n",
    "    TSS += (new_y[i] - mean_y) ** 2\n",
    "    RSS += (new_y[i] - ypred) ** 2\n",
    "\n",
    "r2 = 1 - (RSS / TSS) #Formula for r-squared\n",
    "\n",
    "print('r-squared value: ', r2)"
   ]
  },
  {
   "cell_type": "markdown",
   "id": "91b19c5a",
   "metadata": {
    "papermill": {
     "duration": 0.033575,
     "end_time": "2022-05-04T02:14:55.204465",
     "exception": false,
     "start_time": "2022-05-04T02:14:55.170890",
     "status": "completed"
    },
    "tags": []
   },
   "source": [
    "Results of the Linear Regression for Carat vs Length:\n",
    "\n",
    "What an r-squared value of .951 means is that 95.1% of the variation in the output variable can be explained by the input variable. In other words,the there is a strong positive relationship between the carat of a diamond and the length of a diamond. This makes sense because as I may have mentioned earlier, the carat of a diamond does generally tend to be more expensive the higher the value of the carat is, so it makes sense that the bigger diamond would have a higher carat value."
   ]
  },
  {
   "cell_type": "code",
   "execution_count": 10,
   "id": "2df0f93b",
   "metadata": {
    "execution": {
     "iopub.execute_input": "2022-05-04T02:14:55.273748Z",
     "iopub.status.busy": "2022-05-04T02:14:55.273421Z",
     "iopub.status.idle": "2022-05-04T02:14:55.358966Z",
     "shell.execute_reply": "2022-05-04T02:14:55.358084Z"
    },
    "papermill": {
     "duration": 0.122546,
     "end_time": "2022-05-04T02:14:55.360992",
     "exception": false,
     "start_time": "2022-05-04T02:14:55.238446",
     "status": "completed"
    },
    "tags": []
   },
   "outputs": [
    {
     "name": "stdout",
     "output_type": "stream",
     "text": [
      "The length of this dataset is: 53940\n"
     ]
    }
   ],
   "source": [
    "x = data['carat'].values\n",
    "y = data['y'].values\n",
    "\n",
    "new_x = []\n",
    "new_y = []\n",
    "\n",
    "for item in x:\n",
    "    if str(item) != 'nan':\n",
    "        new_x.append(item)\n",
    "\n",
    "for item in y:\n",
    "    if str(item) != 'nan':\n",
    "        new_y.append(item)\n",
    "        \n",
    "print('The length of this dataset is:', len(new_x))"
   ]
  },
  {
   "cell_type": "code",
   "execution_count": 11,
   "id": "4f174d9d",
   "metadata": {
    "execution": {
     "iopub.execute_input": "2022-05-04T02:14:55.432008Z",
     "iopub.status.busy": "2022-05-04T02:14:55.431700Z",
     "iopub.status.idle": "2022-05-04T02:14:55.534101Z",
     "shell.execute_reply": "2022-05-04T02:14:55.533074Z"
    },
    "papermill": {
     "duration": 0.141252,
     "end_time": "2022-05-04T02:14:55.536555",
     "exception": false,
     "start_time": "2022-05-04T02:14:55.395303",
     "status": "completed"
    },
    "tags": []
   },
   "outputs": [
    {
     "name": "stdout",
     "output_type": "stream",
     "text": [
      "ypred new slope: 2.293183835732053\n",
      "ypred new intercept: 3.904703423065543\n"
     ]
    }
   ],
   "source": [
    "mean_x = np.mean(new_x)\n",
    "mean_y = np.mean(new_y)\n",
    "\n",
    "num = 0\n",
    "den = 0\n",
    "\n",
    "m = len(new_x)\n",
    "\n",
    "# Used to find variables for the new m for the ypred equation\n",
    "for i in range(m):\n",
    "    num += (new_x[i] - mean_x) * (new_y[i] - mean_y)\n",
    "    den += (new_x[i] - mean_x) ** 2\n",
    "    \n",
    "b1 = num / den # solves for m in the ypred equation\n",
    "b0 = mean_y - (b1 * mean_x) # solves for intercept in the ypred equation\n",
    "\n",
    "print('ypred new slope:',b1)\n",
    "print('ypred new intercept:',b0)"
   ]
  },
  {
   "cell_type": "markdown",
   "id": "268034e1",
   "metadata": {
    "papermill": {
     "duration": 0.034662,
     "end_time": "2022-05-04T02:14:55.605965",
     "exception": false,
     "start_time": "2022-05-04T02:14:55.571303",
     "status": "completed"
    },
    "tags": []
   },
   "source": [
    "The intercept in this model means the predicted value of y when the carat is 0 would be 3.9 mm in width. However, once again the data set has no carat of 0 in it so this would have no essential meaning it is simply a predicted value.\n",
    "\n",
    "The slope for this model means for each carat we are esentially expecting an increase of 2.3mm for the width."
   ]
  },
  {
   "cell_type": "code",
   "execution_count": 12,
   "id": "49015da8",
   "metadata": {
    "execution": {
     "iopub.execute_input": "2022-05-04T02:14:55.677834Z",
     "iopub.status.busy": "2022-05-04T02:14:55.677533Z",
     "iopub.status.idle": "2022-05-04T02:14:55.795520Z",
     "shell.execute_reply": "2022-05-04T02:14:55.794227Z"
    },
    "papermill": {
     "duration": 0.156254,
     "end_time": "2022-05-04T02:14:55.797859",
     "exception": false,
     "start_time": "2022-05-04T02:14:55.641605",
     "status": "completed"
    },
    "tags": []
   },
   "outputs": [
    {
     "name": "stdout",
     "output_type": "stream",
     "text": [
      "r-squared value:  0.905775144094108\n"
     ]
    }
   ],
   "source": [
    "TSS = 0 #Total sum of squares\n",
    "RSS = 0 #Total sum of square of residuals\n",
    "\n",
    "for i in range(m):\n",
    "    ypred = (b1 * new_x[i]) + b0 #y = mx + b which we will do for each value of i\n",
    "    TSS += (new_y[i] - mean_y) ** 2\n",
    "    RSS += (new_y[i] - ypred) ** 2\n",
    "\n",
    "r2 = 1 - (RSS / TSS) #Formula for r-squared\n",
    "\n",
    "print('r-squared value: ', r2)"
   ]
  },
  {
   "cell_type": "markdown",
   "id": "92b22a44",
   "metadata": {
    "papermill": {
     "duration": 0.034818,
     "end_time": "2022-05-04T02:14:55.868056",
     "exception": false,
     "start_time": "2022-05-04T02:14:55.833238",
     "status": "completed"
    },
    "tags": []
   },
   "source": [
    "Results of the Linear Regression for Carat vs Width:\n",
    "\n",
    "What an r-squared value of .906 means is that 90.6% of the variation in the output variable can be explained by the input variable. In other words,the there is a strong positive relationship between the carat of a diamond and the width of a diamond. This makes sense because as I may have mentioned earlier, the carat of a diamond does generally tend to be more expensive the higher the value of the carat is, so it makes sense that the bigger diamond would have a higher carat value."
   ]
  },
  {
   "cell_type": "code",
   "execution_count": 13,
   "id": "77ee07ee",
   "metadata": {
    "execution": {
     "iopub.execute_input": "2022-05-04T02:14:55.941591Z",
     "iopub.status.busy": "2022-05-04T02:14:55.941289Z",
     "iopub.status.idle": "2022-05-04T02:14:56.027956Z",
     "shell.execute_reply": "2022-05-04T02:14:56.026453Z"
    },
    "papermill": {
     "duration": 0.125988,
     "end_time": "2022-05-04T02:14:56.030314",
     "exception": false,
     "start_time": "2022-05-04T02:14:55.904326",
     "status": "completed"
    },
    "tags": []
   },
   "outputs": [
    {
     "name": "stdout",
     "output_type": "stream",
     "text": [
      "The length of this dataset is: 53940\n"
     ]
    }
   ],
   "source": [
    "x = data['carat'].values\n",
    "y = data['z'].values\n",
    "\n",
    "new_x = []\n",
    "new_y = []\n",
    "\n",
    "for item in x:\n",
    "    if str(item) != 'nan':\n",
    "        new_x.append(item)\n",
    "\n",
    "for item in y:\n",
    "    if str(item) != 'nan':\n",
    "        new_y.append(item)\n",
    "        \n",
    "print('The length of this dataset is:', len(new_x))"
   ]
  },
  {
   "cell_type": "code",
   "execution_count": 14,
   "id": "7a68ae59",
   "metadata": {
    "execution": {
     "iopub.execute_input": "2022-05-04T02:14:56.103973Z",
     "iopub.status.busy": "2022-05-04T02:14:56.103649Z",
     "iopub.status.idle": "2022-05-04T02:14:56.205038Z",
     "shell.execute_reply": "2022-05-04T02:14:56.203824Z"
    },
    "papermill": {
     "duration": 0.140896,
     "end_time": "2022-05-04T02:14:56.207535",
     "exception": false,
     "start_time": "2022-05-04T02:14:56.066639",
     "status": "completed"
    },
    "tags": []
   },
   "outputs": [
    {
     "name": "stdout",
     "output_type": "stream",
     "text": [
      "ypred new slope: 1.4193848418146597\n",
      "ypred new intercept: 2.4061501954669016\n"
     ]
    }
   ],
   "source": [
    "mean_x = np.mean(new_x)\n",
    "mean_y = np.mean(new_y)\n",
    "\n",
    "num = 0\n",
    "den = 0\n",
    "\n",
    "m = len(new_x)\n",
    "\n",
    "# Used to find variables for the new m for the ypred equation\n",
    "for i in range(m):\n",
    "    num += (new_x[i] - mean_x) * (new_y[i] - mean_y)\n",
    "    den += (new_x[i] - mean_x) ** 2\n",
    "    \n",
    "b1 = num / den # solves for m in the ypred equation\n",
    "b0 = mean_y - (b1 * mean_x) # solves for intercept in the ypred equation\n",
    "\n",
    "print('ypred new slope:',b1)\n",
    "print('ypred new intercept:',b0)"
   ]
  },
  {
   "cell_type": "markdown",
   "id": "a4130007",
   "metadata": {
    "papermill": {
     "duration": 0.036651,
     "end_time": "2022-05-04T02:14:56.280462",
     "exception": false,
     "start_time": "2022-05-04T02:14:56.243811",
     "status": "completed"
    },
    "tags": []
   },
   "source": [
    "The intercept in this model means the predicted value of y when the carat is 0 would be 3.9 mm in width. However, once again the data set has no carat of 0 in it so this would have no essential meaning it is simply a predicted value.\n",
    "\n",
    "The slope for this model means for each carat we are esentially expecting an increase of 2.3mm for the width."
   ]
  },
  {
   "cell_type": "code",
   "execution_count": 15,
   "id": "0f989772",
   "metadata": {
    "execution": {
     "iopub.execute_input": "2022-05-04T02:14:56.354606Z",
     "iopub.status.busy": "2022-05-04T02:14:56.354295Z",
     "iopub.status.idle": "2022-05-04T02:14:56.472340Z",
     "shell.execute_reply": "2022-05-04T02:14:56.471756Z"
    },
    "papermill": {
     "duration": 0.158214,
     "end_time": "2022-05-04T02:14:56.474624",
     "exception": false,
     "start_time": "2022-05-04T02:14:56.316410",
     "status": "completed"
    },
    "tags": []
   },
   "outputs": [
    {
     "name": "stdout",
     "output_type": "stream",
     "text": [
      "r-squared value:  0.908947497413759\n"
     ]
    }
   ],
   "source": [
    "TSS = 0 #Total sum of squares\n",
    "RSS = 0 #Total sum of square of residuals\n",
    "\n",
    "for i in range(m):\n",
    "    ypred = (b1 * new_x[i]) + b0 #y = mx + b which we will do for each value of i\n",
    "    TSS += (new_y[i] - mean_y) ** 2\n",
    "    RSS += (new_y[i] - ypred) ** 2\n",
    "\n",
    "r2 = 1 - (RSS / TSS) #Formula for r-squared\n",
    "\n",
    "print('r-squared value: ', r2)"
   ]
  },
  {
   "cell_type": "markdown",
   "id": "51c94e71",
   "metadata": {
    "papermill": {
     "duration": 0.037136,
     "end_time": "2022-05-04T02:14:56.548734",
     "exception": false,
     "start_time": "2022-05-04T02:14:56.511598",
     "status": "completed"
    },
    "tags": []
   },
   "source": [
    "Results of the Linear Regression for Carat vs Depth:\n",
    "\n",
    "What an r-squared value of .909 means is that 90.9% of the variation in the output variable can be explained by the input variable. In other words,the there is a strong positive relationship between the carat of a diamond and the depth of a diamond. This makes sense because as I may have mentioned earlier, the carat of a diamond does generally tend to be more expensive the higher the value of the carat is, so it makes sense that the bigger diamond would have a higher carat value."
   ]
  },
  {
   "cell_type": "markdown",
   "id": "88759f7d",
   "metadata": {
    "papermill": {
     "duration": 0.03581,
     "end_time": "2022-05-04T02:14:56.622420",
     "exception": false,
     "start_time": "2022-05-04T02:14:56.586610",
     "status": "completed"
    },
    "tags": []
   },
   "source": [
    "Hypothesis for Carat vs Clarity: \n",
    "\n",
    "I believe that there will be a positive relationship between the carat of a diamond and the clarity of a diamond, since diamonds of high carat tend to have more value I think that they would want to be more see through which may result in the diamonds being more expensive."
   ]
  },
  {
   "cell_type": "code",
   "execution_count": 16,
   "id": "c16b6f14",
   "metadata": {
    "execution": {
     "iopub.execute_input": "2022-05-04T02:14:56.696284Z",
     "iopub.status.busy": "2022-05-04T02:14:56.695984Z",
     "iopub.status.idle": "2022-05-04T02:14:56.854196Z",
     "shell.execute_reply": "2022-05-04T02:14:56.853602Z"
    },
    "papermill": {
     "duration": 0.198173,
     "end_time": "2022-05-04T02:14:56.856620",
     "exception": false,
     "start_time": "2022-05-04T02:14:56.658447",
     "status": "completed"
    },
    "tags": []
   },
   "outputs": [
    {
     "name": "stdout",
     "output_type": "stream",
     "text": [
      "The length of this dataset is: 53940\n"
     ]
    }
   ],
   "source": [
    "x = data['carat'].values\n",
    "y = data['clarity'].values\n",
    "\n",
    "new_x = []\n",
    "new_y = []\n",
    "\n",
    "for item in x:\n",
    "    if str(item) != 'nan':\n",
    "        new_x.append(item)\n",
    "\n",
    "for item in y:\n",
    "    if str(item) == 'I1':\n",
    "        new_y.append(1)\n",
    "    if str(item) == 'SI2':\n",
    "        new_y.append(2)\n",
    "    if str(item) == 'SI1':\n",
    "        new_y.append(3)\n",
    "    if str(item) == 'VS2':\n",
    "        new_y.append(4)\n",
    "    if str(item) == 'VS1':\n",
    "        new_y.append(5)\n",
    "    if str(item) == 'VVS2':\n",
    "        new_y.append(6)\n",
    "    if str(item) == 'VVS1':\n",
    "        new_y.append(7)\n",
    "    if str(item) == 'IF':\n",
    "        new_y.append(8)\n",
    "        \n",
    "        \n",
    "print('The length of this dataset is:', len(new_y))"
   ]
  },
  {
   "cell_type": "code",
   "execution_count": 17,
   "id": "fc560226",
   "metadata": {
    "execution": {
     "iopub.execute_input": "2022-05-04T02:14:56.931990Z",
     "iopub.status.busy": "2022-05-04T02:14:56.931698Z",
     "iopub.status.idle": "2022-05-04T02:14:57.048641Z",
     "shell.execute_reply": "2022-05-04T02:14:57.047797Z"
    },
    "papermill": {
     "duration": 0.157235,
     "end_time": "2022-05-04T02:14:57.050824",
     "exception": false,
     "start_time": "2022-05-04T02:14:56.893589",
     "status": "completed"
    },
    "tags": []
   },
   "outputs": [
    {
     "name": "stdout",
     "output_type": "stream",
     "text": [
      "ypred new slope: -1.2260815203644486\n",
      "ypred new intercept: 5.029358830689814\n"
     ]
    }
   ],
   "source": [
    "mean_x = np.mean(new_x)\n",
    "mean_y = np.mean(new_y)\n",
    "\n",
    "num = 0\n",
    "den = 0\n",
    "\n",
    "m = len(new_x)\n",
    "\n",
    "# Used to find variables for the new m for the ypred equation\n",
    "for i in range(m):\n",
    "    num += (new_x[i] - mean_x) * (new_y[i] - mean_y)\n",
    "    den += (new_x[i] - mean_x) ** 2\n",
    "    \n",
    "b1 = num / den # solves for m in the ypred equation\n",
    "b0 = mean_y - (b1 * mean_x) # solves for intercept in the ypred equation\n",
    "\n",
    "print('ypred new slope:',b1)\n",
    "print('ypred new intercept:',b0)"
   ]
  },
  {
   "cell_type": "markdown",
   "id": "3eeadd07",
   "metadata": {
    "papermill": {
     "duration": 0.036764,
     "end_time": "2022-05-04T02:14:57.124779",
     "exception": false,
     "start_time": "2022-05-04T02:14:57.088015",
     "status": "completed"
    },
    "tags": []
   },
   "source": [
    "The intercept in this model means the predicted value of y when the carat is 0 would be a clarity of 5 which is equivalent to VS1. However, once again the data set has no carat of 0 in it so this would have no essential meaning it is simply a predicted value. What I found interesting about this intercept value is that I would assume a carat of 0 would be a intercept of 0 since from my hypothesis I thought it would have the least clarity. However, according to these results it seems to not be the case therefore I already feel like there may not be much of a relationship between these two variables already.\n",
    "\n",
    "The slope for this model means for each carat we are esentially expecting a decrease in the level of clarity by about 1 each time. Which doesn't make much sense to me once again since I expected the clarity level to increase as the carats of diamond moved up."
   ]
  },
  {
   "cell_type": "code",
   "execution_count": 18,
   "id": "00fba37a",
   "metadata": {
    "execution": {
     "iopub.execute_input": "2022-05-04T02:14:57.200959Z",
     "iopub.status.busy": "2022-05-04T02:14:57.200632Z",
     "iopub.status.idle": "2022-05-04T02:14:57.343744Z",
     "shell.execute_reply": "2022-05-04T02:14:57.342577Z"
    },
    "papermill": {
     "duration": 0.18364,
     "end_time": "2022-05-04T02:14:57.345887",
     "exception": false,
     "start_time": "2022-05-04T02:14:57.162247",
     "status": "completed"
    },
    "tags": []
   },
   "outputs": [
    {
     "name": "stdout",
     "output_type": "stream",
     "text": [
      "r-squared value:  0.12449646687579252\n"
     ]
    }
   ],
   "source": [
    "TSS = 0 #Total sum of squares\n",
    "RSS = 0 #Total sum of square of residuals\n",
    "\n",
    "for i in range(m):\n",
    "    ypred = (b1 * new_x[i]) + b0 #y = mx + b which we will do for each value of i\n",
    "    TSS += (new_y[i] - mean_y) ** 2\n",
    "    RSS += (new_y[i] - ypred) ** 2\n",
    "\n",
    "r2 = 1 - (RSS / TSS) #Formula for r-squared\n",
    "\n",
    "print('r-squared value: ', r2)"
   ]
  },
  {
   "cell_type": "markdown",
   "id": "1475873f",
   "metadata": {
    "papermill": {
     "duration": 0.037214,
     "end_time": "2022-05-04T02:14:57.421051",
     "exception": false,
     "start_time": "2022-05-04T02:14:57.383837",
     "status": "completed"
    },
    "tags": []
   },
   "source": [
    "Results of the Linear Regression for Carat vs Clarity:\n",
    "\n",
    "What an r-squared value of .124 means that 12.4% of the variation in the output variable can be explained by the input variable. Which means there really isn't much of relationship between the carat of a diamond and the clarity of a diamond. This was a suprising result since it contradicts the hypothesis I made earlier, thus it seems there really isn't much of relationship between the carat of a diamond and the clarity of a diamond."
   ]
  }
 ],
 "metadata": {
  "kernelspec": {
   "display_name": "Python 3",
   "language": "python",
   "name": "python3"
  },
  "language_info": {
   "codemirror_mode": {
    "name": "ipython",
    "version": 3
   },
   "file_extension": ".py",
   "mimetype": "text/x-python",
   "name": "python",
   "nbconvert_exporter": "python",
   "pygments_lexer": "ipython3",
   "version": "3.7.12"
  },
  "papermill": {
   "default_parameters": {},
   "duration": 17.380292,
   "end_time": "2022-05-04T02:14:58.180122",
   "environment_variables": {},
   "exception": null,
   "input_path": "__notebook__.ipynb",
   "output_path": "__notebook__.ipynb",
   "parameters": {},
   "start_time": "2022-05-04T02:14:40.799830",
   "version": "2.3.4"
  }
 },
 "nbformat": 4,
 "nbformat_minor": 5
}
