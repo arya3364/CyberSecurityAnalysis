{
 "cells": [
  {
   "cell_type": "code",
   "execution_count": 1,
   "id": "0a896cc7",
   "metadata": {
    "_cell_guid": "b1076dfc-b9ad-4769-8c92-a6c4dae69d19",
    "_uuid": "8f2839f25d086af736a60e9eeb907d3b93b6e0e5",
    "execution": {
     "iopub.execute_input": "2022-05-03T20:10:34.290650Z",
     "iopub.status.busy": "2022-05-03T20:10:34.290264Z",
     "iopub.status.idle": "2022-05-03T20:10:35.267221Z",
     "shell.execute_reply": "2022-05-03T20:10:35.266331Z"
    },
    "papermill": {
     "duration": 0.994946,
     "end_time": "2022-05-03T20:10:35.269642",
     "exception": false,
     "start_time": "2022-05-03T20:10:34.274696",
     "status": "completed"
    },
    "tags": []
   },
   "outputs": [
    {
     "name": "stdout",
     "output_type": "stream",
     "text": [
      "/kaggle/input/diamonds/diamonds.csv\n"
     ]
    }
   ],
   "source": [
    "# This Python 3 environment comes with many helpful analytics libraries installed\n",
    "# It is defined by the kaggle/python Docker image: https://github.com/kaggle/docker-python\n",
    "# For example, here's several helpful packages to load\n",
    "\n",
    "import numpy as np # linear algebra\n",
    "import pandas as pd # data processing, CSV file I/O (e.g. pd.read_csv)\n",
    "from scipy.stats import spearmanr\n",
    "from scipy.stats import pearsonr\n",
    "\n",
    "# Input data files are available in the read-only \"../input/\" directory\n",
    "# For example, running this (by clicking run or pressing Shift+Enter) will list all files under the input directory\n",
    "\n",
    "import os\n",
    "for dirname, _, filenames in os.walk('/kaggle/input'):\n",
    "    for filename in filenames:\n",
    "        print(os.path.join(dirname, filename))\n",
    "\n",
    "# You can write up to 20GB to the current directory (/kaggle/working/) that gets preserved as output when you create a version using \"Save & Run All\" \n",
    "# You can also write temporary files to /kaggle/temp/, but they won't be saved outside of the current session"
   ]
  },
  {
   "cell_type": "markdown",
   "id": "6ae13e40",
   "metadata": {
    "papermill": {
     "duration": 0.01269,
     "end_time": "2022-05-03T20:10:35.296043",
     "exception": false,
     "start_time": "2022-05-03T20:10:35.283353",
     "status": "completed"
    },
    "tags": []
   },
   "source": [
    "The goal of this Python script is to find out if there is a relationship between the two variables the carat of a diamond and the price of a diamond, and to see what type of relationship exists between the two variables."
   ]
  },
  {
   "cell_type": "markdown",
   "id": "4ee7d73c",
   "metadata": {
    "papermill": {
     "duration": 0.012567,
     "end_time": "2022-05-03T20:10:35.321474",
     "exception": false,
     "start_time": "2022-05-03T20:10:35.308907",
     "status": "completed"
    },
    "tags": []
   },
   "source": [
    "Hypothesis: I believe that there will be a positive relationship between the carat of a diamond and the price of a diamond, since in general we normally see the more carats a diamond has the higher of a price value the diamond tends to have as well."
   ]
  },
  {
   "cell_type": "markdown",
   "id": "59e2b278",
   "metadata": {
    "papermill": {
     "duration": 0.01251,
     "end_time": "2022-05-03T20:10:35.347094",
     "exception": false,
     "start_time": "2022-05-03T20:10:35.334584",
     "status": "completed"
    },
    "tags": []
   },
   "source": [
    "To start I will perform a linear regression on the two variables carat of a diamond and price of a diamond. The goal of a regression is to investigate/predict if there is a relationship between the independent and dependent variable. A linear regression specifically is when data is modelled in a straight line in order to predict the value of a variable."
   ]
  },
  {
   "cell_type": "code",
   "execution_count": 2,
   "id": "c3f36d3f",
   "metadata": {
    "execution": {
     "iopub.execute_input": "2022-05-03T20:10:35.374655Z",
     "iopub.status.busy": "2022-05-03T20:10:35.373938Z",
     "iopub.status.idle": "2022-05-03T20:10:35.520136Z",
     "shell.execute_reply": "2022-05-03T20:10:35.519489Z"
    },
    "papermill": {
     "duration": 0.162357,
     "end_time": "2022-05-03T20:10:35.522255",
     "exception": false,
     "start_time": "2022-05-03T20:10:35.359898",
     "status": "completed"
    },
    "tags": []
   },
   "outputs": [
    {
     "data": {
      "text/html": [
       "<div>\n",
       "<style scoped>\n",
       "    .dataframe tbody tr th:only-of-type {\n",
       "        vertical-align: middle;\n",
       "    }\n",
       "\n",
       "    .dataframe tbody tr th {\n",
       "        vertical-align: top;\n",
       "    }\n",
       "\n",
       "    .dataframe thead th {\n",
       "        text-align: right;\n",
       "    }\n",
       "</style>\n",
       "<table border=\"1\" class=\"dataframe\">\n",
       "  <thead>\n",
       "    <tr style=\"text-align: right;\">\n",
       "      <th></th>\n",
       "      <th>Unnamed: 0</th>\n",
       "      <th>carat</th>\n",
       "      <th>cut</th>\n",
       "      <th>color</th>\n",
       "      <th>clarity</th>\n",
       "      <th>depth</th>\n",
       "      <th>table</th>\n",
       "      <th>price</th>\n",
       "      <th>x</th>\n",
       "      <th>y</th>\n",
       "      <th>z</th>\n",
       "    </tr>\n",
       "  </thead>\n",
       "  <tbody>\n",
       "    <tr>\n",
       "      <th>0</th>\n",
       "      <td>1</td>\n",
       "      <td>0.23</td>\n",
       "      <td>Ideal</td>\n",
       "      <td>E</td>\n",
       "      <td>SI2</td>\n",
       "      <td>61.5</td>\n",
       "      <td>55.0</td>\n",
       "      <td>326</td>\n",
       "      <td>3.95</td>\n",
       "      <td>3.98</td>\n",
       "      <td>2.43</td>\n",
       "    </tr>\n",
       "    <tr>\n",
       "      <th>1</th>\n",
       "      <td>2</td>\n",
       "      <td>0.21</td>\n",
       "      <td>Premium</td>\n",
       "      <td>E</td>\n",
       "      <td>SI1</td>\n",
       "      <td>59.8</td>\n",
       "      <td>61.0</td>\n",
       "      <td>326</td>\n",
       "      <td>3.89</td>\n",
       "      <td>3.84</td>\n",
       "      <td>2.31</td>\n",
       "    </tr>\n",
       "    <tr>\n",
       "      <th>2</th>\n",
       "      <td>3</td>\n",
       "      <td>0.23</td>\n",
       "      <td>Good</td>\n",
       "      <td>E</td>\n",
       "      <td>VS1</td>\n",
       "      <td>56.9</td>\n",
       "      <td>65.0</td>\n",
       "      <td>327</td>\n",
       "      <td>4.05</td>\n",
       "      <td>4.07</td>\n",
       "      <td>2.31</td>\n",
       "    </tr>\n",
       "    <tr>\n",
       "      <th>3</th>\n",
       "      <td>4</td>\n",
       "      <td>0.29</td>\n",
       "      <td>Premium</td>\n",
       "      <td>I</td>\n",
       "      <td>VS2</td>\n",
       "      <td>62.4</td>\n",
       "      <td>58.0</td>\n",
       "      <td>334</td>\n",
       "      <td>4.20</td>\n",
       "      <td>4.23</td>\n",
       "      <td>2.63</td>\n",
       "    </tr>\n",
       "    <tr>\n",
       "      <th>4</th>\n",
       "      <td>5</td>\n",
       "      <td>0.31</td>\n",
       "      <td>Good</td>\n",
       "      <td>J</td>\n",
       "      <td>SI2</td>\n",
       "      <td>63.3</td>\n",
       "      <td>58.0</td>\n",
       "      <td>335</td>\n",
       "      <td>4.34</td>\n",
       "      <td>4.35</td>\n",
       "      <td>2.75</td>\n",
       "    </tr>\n",
       "  </tbody>\n",
       "</table>\n",
       "</div>"
      ],
      "text/plain": [
       "   Unnamed: 0  carat      cut color clarity  depth  table  price     x     y  \\\n",
       "0           1   0.23    Ideal     E     SI2   61.5   55.0    326  3.95  3.98   \n",
       "1           2   0.21  Premium     E     SI1   59.8   61.0    326  3.89  3.84   \n",
       "2           3   0.23     Good     E     VS1   56.9   65.0    327  4.05  4.07   \n",
       "3           4   0.29  Premium     I     VS2   62.4   58.0    334  4.20  4.23   \n",
       "4           5   0.31     Good     J     SI2   63.3   58.0    335  4.34  4.35   \n",
       "\n",
       "      z  \n",
       "0  2.43  \n",
       "1  2.31  \n",
       "2  2.31  \n",
       "3  2.63  \n",
       "4  2.75  "
      ]
     },
     "execution_count": 2,
     "metadata": {},
     "output_type": "execute_result"
    }
   ],
   "source": [
    "data = pd.read_csv(\"../input/diamonds/diamonds.csv\")\n",
    "data.head()"
   ]
  },
  {
   "cell_type": "markdown",
   "id": "c81ae056",
   "metadata": {
    "papermill": {
     "duration": 0.013501,
     "end_time": "2022-05-03T20:10:35.549492",
     "exception": false,
     "start_time": "2022-05-03T20:10:35.535991",
     "status": "completed"
    },
    "tags": []
   },
   "source": [
    "To start we attribute arrays x and y to the columns we plan to analyze within this data set. We then check each column to confirm there are no values of 'nan' within the data set using two for loops. Finally we recieve our length of the data set which is 53,940 different values which meets the requirement of 10,000 values."
   ]
  },
  {
   "cell_type": "code",
   "execution_count": 3,
   "id": "6dccec4b",
   "metadata": {
    "execution": {
     "iopub.execute_input": "2022-05-03T20:10:35.578790Z",
     "iopub.status.busy": "2022-05-03T20:10:35.578088Z",
     "iopub.status.idle": "2022-05-03T20:10:35.695425Z",
     "shell.execute_reply": "2022-05-03T20:10:35.694735Z"
    },
    "papermill": {
     "duration": 0.134647,
     "end_time": "2022-05-03T20:10:35.697677",
     "exception": false,
     "start_time": "2022-05-03T20:10:35.563030",
     "status": "completed"
    },
    "tags": []
   },
   "outputs": [
    {
     "name": "stdout",
     "output_type": "stream",
     "text": [
      "The length of this dataset is: 53940\n"
     ]
    }
   ],
   "source": [
    "x = data['carat'].values\n",
    "y = data['price'].values\n",
    "\n",
    "new_x = []\n",
    "new_y = []\n",
    "\n",
    "for item in x:\n",
    "    if str(item) != 'nan':\n",
    "        new_x.append(item)\n",
    "\n",
    "for item in y:\n",
    "    if str(item) != 'nan':\n",
    "        new_y.append(item)\n",
    "        \n",
    "print('The length of this dataset is:', len(new_x))"
   ]
  },
  {
   "cell_type": "markdown",
   "id": "bdc3a5a5",
   "metadata": {
    "papermill": {
     "duration": 0.013684,
     "end_time": "2022-05-03T20:10:35.725742",
     "exception": false,
     "start_time": "2022-05-03T20:10:35.712058",
     "status": "completed"
    },
    "tags": []
   },
   "source": [
    "Now in order to find r squared for our linear regression model, we must first start by finding out the equation for ypred. We will do this by first finding our new slope (b1), then finding our new intercept (b0)."
   ]
  },
  {
   "cell_type": "code",
   "execution_count": 4,
   "id": "d2b8cbcc",
   "metadata": {
    "execution": {
     "iopub.execute_input": "2022-05-03T20:10:35.755228Z",
     "iopub.status.busy": "2022-05-03T20:10:35.754935Z",
     "iopub.status.idle": "2022-05-03T20:10:36.053249Z",
     "shell.execute_reply": "2022-05-03T20:10:36.052441Z"
    },
    "papermill": {
     "duration": 0.316061,
     "end_time": "2022-05-03T20:10:36.055796",
     "exception": false,
     "start_time": "2022-05-03T20:10:35.739735",
     "status": "completed"
    },
    "tags": []
   },
   "outputs": [
    {
     "name": "stdout",
     "output_type": "stream",
     "text": [
      "ypred new slope: 7756.425617967361\n",
      "ypred new intercept: -2256.360580044546\n"
     ]
    }
   ],
   "source": [
    "mean_x = np.mean(new_x)\n",
    "mean_y = np.mean(new_y)\n",
    "\n",
    "num = 0\n",
    "den = 0\n",
    "\n",
    "m = len(new_x)\n",
    "\n",
    "# Used to find variables for the new m for the ypred equation\n",
    "for i in range(m):\n",
    "    num += (new_x[i] - mean_x) * (new_y[i] - mean_y)\n",
    "    den += (new_x[i] - mean_x) ** 2\n",
    "    \n",
    "b1 = num / den # solves for m in the ypred equation\n",
    "b0 = mean_y - (b1 * mean_x) # solves for intercept in the ypred equation\n",
    "\n",
    "print('ypred new slope:',b1)\n",
    "print('ypred new intercept:',b0)"
   ]
  },
  {
   "cell_type": "markdown",
   "id": "0482e3c5",
   "metadata": {
    "papermill": {
     "duration": 0.014159,
     "end_time": "2022-05-03T20:10:36.084556",
     "exception": false,
     "start_time": "2022-05-03T20:10:36.070397",
     "status": "completed"
    },
    "tags": []
   },
   "source": [
    "This calculations we use to find r-squared. When find r-squared it is important that we also find the total sum of squares and the total sum of squares of residuals in order to make sure we have all the components necessary to perform the r-squared equation."
   ]
  },
  {
   "cell_type": "code",
   "execution_count": 5,
   "id": "41e25ba6",
   "metadata": {
    "execution": {
     "iopub.execute_input": "2022-05-03T20:10:36.116007Z",
     "iopub.status.busy": "2022-05-03T20:10:36.115344Z",
     "iopub.status.idle": "2022-05-03T20:10:36.620382Z",
     "shell.execute_reply": "2022-05-03T20:10:36.619377Z"
    },
    "papermill": {
     "duration": 0.522915,
     "end_time": "2022-05-03T20:10:36.622583",
     "exception": false,
     "start_time": "2022-05-03T20:10:36.099668",
     "status": "completed"
    },
    "tags": []
   },
   "outputs": [
    {
     "name": "stdout",
     "output_type": "stream",
     "text": [
      "r-squared value:  0.8493305264354793\n"
     ]
    }
   ],
   "source": [
    "TSS = 0 #Total sum of squares\n",
    "RSS = 0 #Total sum of square of residuals\n",
    "\n",
    "for i in range(m):\n",
    "    ypred = (b1 * new_x[i]) + b0 #y = mx + b which we will do for each value of i\n",
    "    TSS += (new_y[i] - mean_y) ** 2\n",
    "    RSS += (new_y[i] - ypred) ** 2\n",
    "\n",
    "r2 = 1 - (RSS / TSS) #Formula for r-squared\n",
    "\n",
    "print('r-squared value: ', r2)"
   ]
  },
  {
   "cell_type": "markdown",
   "id": "09734696",
   "metadata": {
    "papermill": {
     "duration": 0.014297,
     "end_time": "2022-05-03T20:10:36.651649",
     "exception": false,
     "start_time": "2022-05-03T20:10:36.637352",
     "status": "completed"
    },
    "tags": []
   },
   "source": [
    "Results of the Linear Regression:\n",
    "\n",
    "What an r-squared value of .849 means is that 84.9% of the variation in the output variable can be explained by the input variable. In other words,the there is a strong positive relationship between the carat of a diamond and the price of a diamond, which can be attributed due to having an r-squared value of .849. This also means that our original hypothesis was indeed correct that there is a relationship between the carat of a diamond and the price of a diamond. This makes sense because as I may have mentioned earlier, the carat of a diamond does generally tend to be more expensive the higher the value of the carat is."
   ]
  },
  {
   "cell_type": "markdown",
   "id": "20b51686",
   "metadata": {
    "papermill": {
     "duration": 0.014363,
     "end_time": "2022-05-03T20:10:36.680470",
     "exception": false,
     "start_time": "2022-05-03T20:10:36.666107",
     "status": "completed"
    },
    "tags": []
   },
   "source": [
    "Next up I would like to perform a correlation on both the variables price of a diamond and the carat of a diamond. A correlation is the measure of how closely related two variables are to each other. Specifically we are going to be looking at both Person's and Spearman's correlation. Pearson's correlation is the strength of the linear relationship between two variables, so somewhat similar to regression. Spearman's correlation measures the strength and direction of monotonic (less-restrictive) association between two variables."
   ]
  },
  {
   "cell_type": "code",
   "execution_count": 6,
   "id": "84478672",
   "metadata": {
    "execution": {
     "iopub.execute_input": "2022-05-03T20:10:36.711577Z",
     "iopub.status.busy": "2022-05-03T20:10:36.710981Z",
     "iopub.status.idle": "2022-05-03T20:10:36.753939Z",
     "shell.execute_reply": "2022-05-03T20:10:36.752617Z"
    },
    "papermill": {
     "duration": 0.063109,
     "end_time": "2022-05-03T20:10:36.758216",
     "exception": false,
     "start_time": "2022-05-03T20:10:36.695107",
     "status": "completed"
    },
    "tags": []
   },
   "outputs": [
    {
     "name": "stdout",
     "output_type": "stream",
     "text": [
      "Pearsons Correlation:   0.9215913011934773\n",
      "Spearmans Correlation:  0.9215913011934773\n"
     ]
    }
   ],
   "source": [
    "corr, _ = spearmanr(new_x, new_y)\n",
    "corr, _ = pearsonr(new_x, new_y)\n",
    "\n",
    "print('Pearsons Correlation:  ', corr)\n",
    "print('Spearmans Correlation: ', corr)"
   ]
  },
  {
   "cell_type": "markdown",
   "id": "d07c1d59",
   "metadata": {
    "papermill": {
     "duration": 0.026937,
     "end_time": "2022-05-03T20:10:36.813153",
     "exception": false,
     "start_time": "2022-05-03T20:10:36.786216",
     "status": "completed"
    },
    "tags": []
   },
   "source": [
    "Results of the Correlation Testing:\n",
    "\n",
    "As we see from the results for both methods we get a correlation of .922. This is a very strong correlation, thus indicating that there is a strong positive relationship between the two variables carat of a diamond and the price of a diamond. Which means that as the carat of a diamond increases the price of the diamond increases as well. This result gives us more confirmation with the results of our previous linear regression test."
   ]
  }
 ],
 "metadata": {
  "kernelspec": {
   "display_name": "Python 3",
   "language": "python",
   "name": "python3"
  },
  "language_info": {
   "codemirror_mode": {
    "name": "ipython",
    "version": 3
   },
   "file_extension": ".py",
   "mimetype": "text/x-python",
   "name": "python",
   "nbconvert_exporter": "python",
   "pygments_lexer": "ipython3",
   "version": "3.7.12"
  },
  "papermill": {
   "default_parameters": {},
   "duration": 13.45981,
   "end_time": "2022-05-03T20:10:37.568717",
   "environment_variables": {},
   "exception": null,
   "input_path": "__notebook__.ipynb",
   "output_path": "__notebook__.ipynb",
   "parameters": {},
   "start_time": "2022-05-03T20:10:24.108907",
   "version": "2.3.4"
  }
 },
 "nbformat": 4,
 "nbformat_minor": 5
}
